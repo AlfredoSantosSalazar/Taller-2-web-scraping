{
 "cells": [
  {
   "cell_type": "code",
   "execution_count": 1,
   "id": "aaf7a87a-6905-4863-8b3c-06a05e375878",
   "metadata": {},
   "outputs": [],
   "source": [
    "# Importing required libraries\n",
    "import datetime\n",
    "import time\n",
    "import pymongo\n",
    "import pandas as pd\n",
    "import sys\n",
    "\n",
    "from bs4 import BeautifulSoup\n",
    "from selenium import webdriver\n",
    "\n",
    "from pymongo import MongoClient\n",
    "from pymongo import TEXT"
   ]
  },
  {
   "cell_type": "code",
   "execution_count": 2,
   "id": "f14fcc2d-7275-4854-b548-212d104151f5",
   "metadata": {},
   "outputs": [],
   "source": [
    "# Creating a connection to MongoDB\n",
    "client = MongoClient('localhost', 27017)\n",
    "db = client['news']"
   ]
  },
  {
   "cell_type": "code",
   "execution_count": 3,
   "id": "ab83b08c-3f46-43aa-b395-53bda1dd8e9f",
   "metadata": {},
   "outputs": [],
   "source": [
    "# \n",
    "SITE_URL = 'https://www.elespectador.com'"
   ]
  },
  {
   "cell_type": "code",
   "execution_count": 4,
   "id": "f4b9b0f2-68e5-49e2-b811-9d93fcabbc0a",
   "metadata": {},
   "outputs": [],
   "source": [
    "DRIVER_PATH = './geckodriver.exe'"
   ]
  },
  {
   "cell_type": "code",
   "execution_count": 5,
   "id": "747cf840-dfa7-453b-bef8-b51dc8f267bc",
   "metadata": {},
   "outputs": [
    {
     "name": "stderr",
     "output_type": "stream",
     "text": [
      "C:\\Users\\ALFRED~1\\AppData\\Local\\Temp/ipykernel_23692/4016513992.py:1: DeprecationWarning: executable_path has been deprecated, please pass in a Service object\n",
      "  browser = webdriver.Firefox(executable_path = DRIVER_PATH)\n"
     ]
    }
   ],
   "source": [
    "browser = webdriver.Firefox(executable_path = DRIVER_PATH)"
   ]
  },
  {
   "cell_type": "code",
   "execution_count": 6,
   "id": "5ee7affd-0159-4491-b66f-18840bff99f5",
   "metadata": {},
   "outputs": [],
   "source": [
    "def make_request(browser, relative_path):\n",
    "    # Making the request and rendering the browser.\n",
    "    browser.get(SITE_URL + relative_path)\n",
    "    \n",
    "    # Simulating vertical scrolling for handling lazy load.\n",
    "    check_height = browser.execute_script('return document.body.scrollHeight;')\n",
    "    while True:\n",
    "        browser.execute_script('window.scrollTo(0, document.body.scrollHeight);')\n",
    "        time.sleep(3)\n",
    "        height = browser.execute_script('return document.body.scrollHeight;')\n",
    "        if height == check_height: \n",
    "            break \n",
    "        check_height = height\n",
    "    \n",
    "    # Getting HTML content and passing it to BeautifulSoup for scraping analysis.\n",
    "    return BeautifulSoup(browser.page_source, 'html.parser')"
   ]
  },
  {
   "cell_type": "code",
   "execution_count": 7,
   "id": "c53923ea-a0ca-448e-af7e-7f29ae3f8900",
   "metadata": {},
   "outputs": [],
   "source": [
    "# Creating a connection to MongoDB to create the health module. \n",
    "client = MongoClient('localhost', 27017)\n",
    "db = client['news']\n",
    "collection = db['elespectador-politica']              "
   ]
  },
  {
   "cell_type": "code",
   "execution_count": 8,
   "id": "b1fcc0f9-8003-48d4-a36f-cb8fd63179cf",
   "metadata": {},
   "outputs": [],
   "source": [
    "# Getting HTML content for news listing page.\n",
    "\n",
    "news = []\n",
    "url = '/archivo/politica'\n",
    "\n",
    "for n in range(1, 2):\n",
    "    soup = make_request(browser, url + str(n))\n",
    "    # Finding the section where news are contained.\n",
    "    layout = soup.find(class_ = 'Layout-flexAds')\n",
    "    # Getting blocks from layout.\n",
    "    blocks = layout.find('section').find_all(recursive = False)\n",
    "    # Finding and concatenating news cards.\n",
    "    cards = blocks[0].find_all(class_ = 'Card') + blocks[1].find_all(class_ = 'Card')\n",
    "    # Building a list with title and relative path of the news founded.\n",
    "    for card in cards:\n",
    "        news.append({\n",
    "            'title': card.find('h2', class_ = 'Card-Title').find('a').get_text(),\n",
    "            'relative_path': card.find('h2', class_ = 'Card-Title').find('a')['href']\n",
    "        })"
   ]
  },
  {
   "cell_type": "code",
   "execution_count": 9,
   "id": "80f01f37-1b11-4206-aa40-c8304065c7a3",
   "metadata": {},
   "outputs": [],
   "source": [
    "for n in news:\n",
    "    # Getting HTML content for news page.\n",
    "    soup = make_request(browser, n['relative_path'])\n",
    "    \n",
    "    # Extracting news metadata.\n",
    "    n['datetime'] = soup.find(class_ = 'ArticleHeader-Date').get_text()\n",
    "    n['author'] = soup.find(class_ = 'ACredit-Author').get_text()\n",
    "    n['summary'] = soup.find(class_ = 'ArticleHeader-Hook').find('div').get_text()\n",
    "    \n",
    "    # Extracting and concatenating news full text.\n",
    "    paragraphs = soup.find_all(class_ = 'font--secondary')\n",
    "    n['full_text'] = ' '.join([p.get_text() for p in paragraphs])"
   ]
  },
  {
   "cell_type": "code",
   "execution_count": 10,
   "id": "9a308c36-1596-4158-bacd-b68093147191",
   "metadata": {},
   "outputs": [
    {
     "data": {
      "text/plain": [
       "[{'title': '“La Fiscalía no me da garantías”: Petro descarta, por ahora, renunciar al Congreso',\n",
       "  'relative_path': '/politica/elecciones-colombia-2022/la-fiscalia-no-me-da-garantias-gustavo-petro-descarta-por-ahora-se-renuncia-al-congreso/',\n",
       "  'datetime': '5 abr 2022  - 9:32 p.\\xa0m.',\n",
       "  'author': 'Redacción Política',\n",
       "  'summary': 'El candidato presidencial del Pacto Histórico se abstuvo de ahondar en la posible renuncia al Legislativo para centrarse en su campaña presidencial. En respuesta, el fiscal Francisco Barbosa dijo que “es lamentable que pretenda ser presidente de la república cabalgando sobre las instituciones judiciales”.',\n",
       "  'full_text': 'Gustavo Petro, candidato presidencial del Pacto Histórico y aún senador de la República, se refirió este martes a las peticiones que le han hecho de que renuncie a su curul para dedicarse de lleno a la campaña que viene realizando, y que incluye varios recorridos por el país. A pesar de que han sido varios los sectores que le han hecho llamado al candidato, que hoy aparece como puntero en la mayoría de encuestas, Petro descartó el tema “por falta de garantías”. >Lea más sobre las elecciones de 2022 y otras noticias del mundo político “Ya veremos”, respondió Petro a la pregunta que le hizo una periodista sobre los rumores de su renuncia. “No es un problema todavía vigente, porque no quiero quedar en manos de la Fiscalía. No me da garantías, como se probó antes de ser congresista, que lo soy no porque quise, sino por una ley que se aprobó y que determinaba que el segundo en votos fuese miembro del Senado”, agregó el candidato presidencial, quien reiteró en que “cuando haya garantías hablamos”. Así las cosas, si bien no rechazó del todo una posible renuncia, tampoco ahondó en el tema. Por supuesto, la reacción del fiscal Francisco Barbosa no se hizo esperar y, por medio de un video, le contestó a Petro pidiéndole respeto por la rama judicial. “Es lamentable que el señor Gustavo Petro pretenda ser presidente de la República cabalgando sobre las instituciones judiciales del país. La Fiscalía, sus funcionarios, la institucionalidad judicial colombiana y la rama judicial colombiana se respetan y hacen parte del Estado de derecho en Colombia. En democracia las reglas deben respetarse”, manifestó Barbosa.  Las palabras de Petro se dieron en medio de un nuevo espacio que abrió su campaña y que denominó “Petro te escucha”, y que tuvo como primera parada el departamento del Huila. Allí realizó el primero de estos encuentros, en los que pretende escuchar y recibir de los ciudadanos sus principales preocupaciones, para incluirlas en su plan de gobierno. “No es lo mismo un programa nacional que no pasa por el tamiz que le da el territorio, la región, la población que allí habita. Por eso se ideó este tipo de cabildos”, dijo Petro sobre el nuevo programa, que se abrió en Neiva con una conversación de ciudadana más de dos horas, cuyas conclusiones serán entregadas a su equipo programático. También dijo que, en caso de ser elegido presidente, estos espacios se realizarán de manera permanente.'},\n",
       " {'title': 'Participación presidencial en política electoral y lecciones de 1970',\n",
       "  'relative_path': '/politica/elecciones-colombia-2022/participacion-presidencial-en-politica-electoral-y-lecciones-de-1970/',\n",
       "  'datetime': '5 abr 2022  - 9:03 p.\\xa0m.',\n",
       "  'author': 'Juan Sebastián Lombo',\n",
       "  'summary': 'Los pronunciamientos del mandatario contra el candidato del Pacto Histórico rememoran elecciones de antaño, cuando Carlos Lleras fijó postura a favor de Misael Pastrana y en contra de Gustavo Rojas Pinilla.',\n",
       "  'full_text': 'Son varias las ocasiones en las que el presidente Iván Duque ha criticado las propuestas de Gustavo Petro sin mencionarlo con nombre y apellido. La primera vez se fue en contra del modelo pensional que propone el líder del Pacto Histórico: “Es robarse los ahorros de los ciudadanos para ponerlos al servicio de la politiquería”, dijo. La segunda fue más directo, y se refirió a la declaración del candidato en un debate en la que anunció que condonaría la deuda de los jóvenes con Icetex: “Mucho cuidado con los que ahora proponen acabar el Icetex y que dicen que ahí se cancelan todas las deudas”. Hubo una tercera, este lunes, cuando el mandatario anunció con bombos y platillos el uso de recursos de fondos de pensiones para construcción de infraestructura. Al igual que en las otras ocasiones, no mencionó a Petro, pero fue claro el destinatario de sus palabras. No solo ha sido Duque. Varios de los miembros de su gabinete también han enfilado sus baterías en contra del líder de izquierda. Está el caso del ministro de Defensa, Diego Molano. Aunque en esta ocasión no fue por las propuestas de Petro, sino por los señalamientos ante las irregularidades en operativos del Ejército. Petro cuestionó la muerte de civiles en un operativo militar en Putumayo, y la respuesta del funcionario fue irse en su contra y hasta replicar la etiqueta en Twitter #PetroEmbustero. Esos ataques indirectos y directos han sido calificados por muchos como una evidente participación en política electoral de los servidores públicos, incluido el jefe de Estado. Ahora, aunque no se ve bien en la discusión, no está tan claro qué tanto estarían violando el ordenamiento sobre el tema.'},\n",
       " {'title': 'Cámara rechazó objeciones de Duque a proyecto sobre acceso a la información',\n",
       "  'relative_path': '/politica/camara-rechazo-objeciones-de-duque-a-proyecto-sobre-acceso-a-la-informacion/',\n",
       "  'datetime': '5 abr 2022  - 7:01 p.\\xa0m.',\n",
       "  'author': 'Redacción Política',\n",
       "  'summary': 'El proyecto busca que se normalice los tiempos de respuesta a los derechos de petición. El Gobierno argumenta que los inconvenientes de la pandemia, que generaron esa particularidad, “no han sido superados”.',\n",
       "  'full_text': 'La Cámara se pronunció: con una aplastante votación, los representantes le dijeron al presidente Iván Duque que no comparten sus argumentos en contra del proyecto de ley que buscar normalizar los tiempos de respuesta a los derechos de petición. Aunque todavía falta que el Senado de la República se pronuncie, el mensaje sobre este tema parece ser contundente frente a la necesidad de que las instituciones respondan en el tiempo que es estos documentos de vital importancia para el acceso a la información.  La historia es de vieja data. Ante la pandemia del COVID-19, el Gobierno implementó el decreto 491. La norma modificó varios procesos, entre ellos, duplicó los tiempos de respuesta a los derechos de petición. Así las cosas, las instituciones pasaron de tener 15 días hábiles para responder derechos de petición, a poder hacerlo en 30. De forma más específica, las peticiones de documentos y de información pasaron de 10 a 20 días, como tiempo máximo para ser contestados, y la consulta a autoridades sobre materias a su cargo pasó de 30 a 35 días prorrogables. Dado que el país volvió paulatinamente a la normalidad, los legisladores entablaron un proyecto para dejar sin efecto el decreto 491. La iniciativa, de autoría de Juanita Goebertus, representante verde, fue aprobado meses atrás por el Congreso y ahora estaba en manos del presidente Iván Duque Márquez para que lo sancionara y lo convirtiera, formalmente, en ley de la República. A pesar del sí de los parlamentarios, el jefe de Estado le dio un no al proyecto por considerar que, entre otras cosas, no se ajustaba a la realidad del país.  En síntesis, el primer mandatario objetó el proyecto aprobado el pasado 28 de diciembre de 2021. “A juicio del Gobierno Nacional las medidas adoptadas en la norma que se objetan resultan inconvenientes en razón a que las circunstancias de salud pública y emergencia sanitaria aún no han sido superadas”, fue su argumento central.  Ante la situación, este martes en plenaria, la Cámara votó en contra de los motivos del Gobierno. 93 votos rechazaron sus objeciones, versus a los 23 apoyos que obtuvo en esta sesión. “Este era un proyecto que había surgido a raíz de revisar los decretos legislativos emitidos en la fase de la pandemia. Tenía todo el sentido que en la fase más estricta de la pandemia se hubiera prorrogado los tiempos para adecuar el proceso. Pero, dos años después de ese decreto, no tiene ningún sentido que eso siguiera así. Era una violación grave al derecho al acceso a la información pública, al periodismo, y a la veeduría ciudadana y control político”, dijo Goebertus. ¿Qué sigue? Aunque la derrota del Gobierno en la Cámara fue contundente, todavía falta que el Senado se pronuncie para conocer qué pasará con la propuesta legislativa. Si el Senado también rechaza las objeciones de Duque, el jefe de Estado no tendrá de otra que sancionar el proyecto y convertirlo en ley. '},\n",
       " {'title': '“El Nuevo Liberalismo no renació para ser un partido ‘faltón’”: Juan Manuel Galán ',\n",
       "  'relative_path': '/politica/elecciones-colombia-2022/el-nuevo-liberalismo-no-renacio-para-ser-un-partido-falton-galan-sobre-adhesion-de-negret-a-fico/',\n",
       "  'datetime': '5 abr 2022  - 6:11 p.\\xa0m.',\n",
       "  'author': 'Redacción Política',\n",
       "  'summary': 'Galán rechazó la adhesión de Carlos Negret a la campaña presidencial de Federico Gutiérrez, afirmando que quien haya participado como candidato al Congreso con el aval de la colectividad “tiene el deber de contribuir” a la campaña de Fajardo.',\n",
       "  'full_text': 'Faltan menos de dos meses para la primera vuelta presidencial y poco a poco se empiezan a definir los apoyos de las colectividades a los ocho candidatos que compiten la carrera hacia la Casa de Nariño. En medio de la crisis del centro, debido a la baja votación en la consulta del 13 de marzo, las peleas internas y los recientes acercamientos de Ingrid Betancourt con el Centro Democrático, se conocieron otros apoyos que causaron malestar en la Coalición Centro Esperanza, cuyo propósito inicial era aglutinar todas las propuestas de centro. >Lea más sobre las elecciones de 2022 y otras noticias del mundo político Carlos negret, exdefensor del Pueblo y excandidato al Senado por el Nuevo Liberalismo, anunció en la mañana de este martes la adhesión a la campaña de Federico Gutiérrez, candidato presidencial del Equipo por Colombia. “Recibo esta invitación como un gesto de Federico Gutiérrez y Rodrigo Lara Sánchez para aproximarse a sectores políticos y ciudadanos que encontramos en la defensa de los derechos humanos, las regiones, los recursos naturales y la democracia. La agenda central del país”, dijo Negret al anunciar su aterrizaje a una campaña diferente a la de la Centro Esperanza, que está en manos de Sergio Fajardo. Desde el Nuevo Liberalismo rechazaron la vocería que, a su juicio, tomó Negret para apoyar la campaña de Gutiérrez. Juan Manuel Galán, quien fue el precandidato presidencial de la colectividad y quedó segundo en la consulta presidencial de la Centro Esperanza con 487.019 votos, fue el primero en pronunciarse contra la adhesión. Por medio de una serie de mensajes en su cuenta de Twitter, el director del partido afirmó que “el Nuevo Liberalismo y todo aquel que sea militante, directivo o haya participado como candidato tiene el deber de contribuir a llevar a Sergio Fajardo a la Presidencia”. El mayor de los hermanos Galán fue enfático en que Fajardo es el candidato que apoyarán desde el Nuevo Liberalismo porque es “el que mejor interpreta el ideario deLuis Carlos Galán”. La adhesión de Negret a la campaña de Gutiérrez, que tomó a muchos por sorpresa porque ha sido un gran defensor del Acuerdo de Paz y antes de lanzarse al Senado entregó un informe a la Alcaldía de Bogotá sobre los hechos ocurridos en el marco del 9 de septiembre de 2020, podría traerle consecuencias para su futuro político. Galán anunció que el Tribunal de Garantías del Nuevo Liberalismo pronto entregará un pronunciamiento tras evaluar el episodio de acuerdo con los estatutos y el Acuerdo de Coalición suscrito por el Partido. Finalmente, Galán manifestó que “el Nuevo Liberalismo no renació para ser un partido ‘faltón’”, en referencia a que cumplirán los acuerdos y la palabra que dieron a los demás partidos y coaliciones de un centro que poco a poco se desmorona, pues también este martes se confirmó la llegada de varios congresistas antiguos y electos de Alianza Verde al Pacto Histórico. Galán no fue el único miembro del Nuevo Liberalismo que criticó la unión de Negret a una campaña diferente a la de Fajardo. Mabel Lara, quien fue cabeza de lista al Senado por esa colectividad, manifestó que “fiel a lo acordado en la Coalición Centro Esperanza, respetando los acuerdos, sigo firme en la campaña de Fajardo y Murillo”. La politóloga Angélica Martínez, quien también aspiró al Senado por la lista cerrada de ese partido, criticó por su parte que “este tipo de cosas pasan cuando la comunicación es unidireccional” y criticó que en las decisiones no se han tenido en cuenta a todas las personas que decidieron hacer parte de ese proyecto político. “Cuando se hablan los mismos con las mismas, y no abren el partido al diálogo colectivo”, concluyó. Otro reparo, esta vez sobre la atomización de la colectividad, hizo Germán Ricaurte, también aspirante al Senado. “Ya hay Nuevo Liberalismo con Fajardo, Nuevo Liberalismo con Fico y Nuevo Liberalismo con Petro. Logramos estar igual de fragmentados al Partido Verde en apenas 6 meses. No era fácil, ¿eh? Tiene su mérito. Falta un grupo con Luis Pérez”, aseguró.'},\n",
       " {'title': '“Ingrid Betancourt va a pagar caro su incoherencia”: Daniel Carvalho',\n",
       "  'relative_path': '/politica/elecciones-colombia-2022/ingrid-betancourt-va-a-pagar-caro-su-incoherencia-daniel-carvalho-representante-de-verde-oxigeno/',\n",
       "  'datetime': '5 abr 2022  - 4:26 p.\\xa0m.',\n",
       "  'author': 'Laura Angélica  Ospina',\n",
       "  'summary': 'Carvalho, congresista electo de Verde Oxígeno, dice que la campaña de Betancourt está “embolatada” y que él y De la Calle están “maniatados”.',\n",
       "  'full_text': 'Daniel Carvalho es representante electo por Antioquia, de Verde Oxígeno. Junto con Humberto de la Calle (electo al Senado), son los dos congresistas que representarán de 2022 a 2026 al partido dirigido por Ingrid Betancourt, candidata presidencial. Si bien él y Betancourt se encontraron a finales de 2021 en la Coalición Centro Esperanza para trabajar por un mismo objetivo, las cosas cambiaron desde que la aspirante a la Casa de Nariño abandonó la alianza de centro. (Lea: Los bandazos de Ingrid Betancourt) En entrevista con El Espectador, Carvalho asegura que Betancourt va a “pagar caro su incoherencia” y manifiesta que entre los “errores” de la candidata, está su disposición a dialogar con el expresidente Álvaro Uribe, del Centro Democrático. “Ella habla de una estrategia de partido, pero en realidad solo hay una estrategia de ella sola. Yo con eso me siento bastante incómodo y un poco desilusionado porque, insisto, la voluntad mía y de muchos es construir el partido Verde Oxígeno”, afirmó, mientras reiteró que por la ley electoral, él y De la Calle están “maniatados” frente a la primera vuelta.  Usted ha apoyado anteriormente a Sergio Fajardo y estuvo en el Concejo de Medellín por el movimiento Todos Juntos. ¿Cómo llegó a Verde Oxígeno? Entre noviembre y diciembre de 2021, el partido Verde Oxígeno nos abre las puertas para que podamos aspirar al Congreso con su aval. En ese momento, la doctora Ingrid Betancourt estaba haciendo de vocera y de mediadora de la Coalición Centro Esperanza, algo que nos entusiasmó mucho. También nos emocionó la invitación a hacer parte de su partido. En mi caso, no era simplemente por recibir un aval, sino porque realmente me interesa ayudar a construir un partido, dado que no me sentía identificado con ninguna de las colectividades existentes, y más si era al lado de personas que he admirado, como Ingrid Betancourt, Humberto de la Calle, y como el propio Sergio Fajardo, que inicialmente iba a ser parte de Verde Oxígeno. Como parte de Verde Oxígeno, ¿qué lectura hace de las decisiones de la candidata? No hay comunicación actualmente. Me enteré por Twitter que Betancourt iba a ser precandidata dentro de la consulta. Me pareció bacano que aspirara, pero me pareció raro que ni siquiera nos hubieran informado. Tiempo después y nuevamente por redes sociales, nos enteramos que ella había decidido salirse de la Coalición Centro Esperanza. Nadie nos avisó y tampoco nos informó. Recientemente, nos encontramos con que Betancourt quiere hacer acercamientos con el Centro Democrático, cosa de la que también nos enteramos por redes sociales. (Lea también: Exdefensor Carlos Negret se adhiere a la campaña de Federico Gutiérrez) Todo esto para decirte que no ha habido ningún tipo de comunicación con nosotros. Yo pedí una cita con la doctora Ingrid Betancourt hace 10 días que estuve en Bogotá, pero no pude tenerla. Me atendió la directora del partido. Entonces, siento que ella no está jugando esto colectivamente, no está respetando el hecho de que ya tiene dos congresistas electos y ella sigue tomando las decisiones de manera unipersonal. ¿Qué le respondió Sandra Pulido, directora del partido, cuando se sentaron a hablar? Yo simplemente le dije que a mí me interesaba construir partido y que la idea era trabajar juntos. Le pedí que le transmitiera a la doctora Ingrid Betancourt mi intención, y ella me dijo que listo, pero no pasó lo que esperaba, es decir, que fuéramos consultados en las decisiones que se aproximan. Ella habla de una estrategia de partido, pero en realidad solo hay una estrategia de ella sola. Yo con eso me siento bastante incómodo y un poco desilusionado porque, insisto, la voluntad mía y de muchos es construir el partido Verde Oxígeno. ¿Cómo ha sido la comunicación con Humberto de la Calle? Mi relación con él es absolutamente estrecha y permanente desde hace ya varios meses, dado que hicimos la campaña juntos. Eso me alegra mucho porque yo he estado en búsqueda de ese tipo de referentes políticos que me sigan entusiasmando para construir colectivamente. Por supuesto, con él compartimos estas preocupaciones y estamos esperando que se pongan en funcionamiento los mecanismos democráticos del partido. La colectividad debe hacer una asamblea ordinaria, definir unos nuevos estatutos, y es evidente que como congresistas electos tenemos una voz, un voto y un poder. Solo pedimos que se nos cumpla con esto porque aún no tenemos respuesta por parte del partido. ¿Qué consideraciones hace de las decisiones de Ingrid Betancourt? A mí me parece que son errores por parte de la doctora Ingrid. Ella se sintió muy mal dentro de la Coalición Centro Esperanza en el momento en que Alejandro Gaviria se sentó con unos políticos tradicionales. A partir de allí tomó la decisión de salirse de la misma, algo que para mí es incomprensible. Aún más lo es el hecho de que ahora busque al Centro Democrático. Eso me resulta un error y sobre todo una incoherencia: por un lado porque venimos de un partido declarado en el centro del espectro político, al cual no pertenece el Centro Democrático. Por otro lado, si uno está en contra de las maquinarias pues difícilmente puede aliarse con el partido que está gobernando el país a punta de un montón de caciques políticos. ¿Cuál es su postura actual? ¿Va a apoyar de lleno la campaña de Fajardo? Mientras ella sea la candidata por Verde Oxígeno, Betancourt no nos puede dar libertad a Humberto y a mí. Por más que ella lo diga, no podemos apoyar a ningún otro candidato porque la ley electoral está por encima de las decisiones del partido. La libertad de la que ella ha hablado en medios realmente no existe, nosotros estamos maniatados porque tanto el doctor Humberto como yo habíamos entrado en esta candidatura dentro de la coalición, con el objetivo y compromiso de respaldar al ganador de la consulta. Pero, como no podemos hacerlo, digamos que estamos sin candidato. Me encantaría que Ingrid Betancourt volviera a la Coalición Centro Esperanza y ayudara a construir colectivamente el centro ideológico. Pero ella dijo que eso no va a pasar. Sí, ella ha dicho que eso es como imposible. No creo que vaya a cambiar de opinión. Usted hace parte de Verde Oxígeno, ¿por qué no apoya la candidatura de Betancourt? No estoy de acuerdo con su candidatura porque ella rompió unos compromisos pactados, entre ellos estar en la coalición. Tampoco la apoyo porque no me siento identificado con el discurso suyo ni con sus estrategias, no me siento representado por ella. (Le puede interesar: Ingrid Betancourt le sugirió a De la Calle y Carvalho renunciar a Verde Oxígeno) ¿Cómo ve el rumbo de su campaña? Creo que la doctora Ingrid Betancourt va a pagar caro su incoherencia. En general, se le acusa de haber ayudado a dañar el ejercicio de la consulta de centro. Ha cometido un montón de errores, y ahora el gesto de acercarse al Centro Democrático no creo que le vaya a sumar mucho a ella. Siento que su campaña está embolada: no está subiendo en las encuestas, no genera emociones, no ha dado ideas muy buenas que peguen en el electorado. Veo que está perdida por culpa de su incoherencia. ¿Le echa la culpa a ella del mal desempeño de la Coalición Centro Esperanza? No solo ella. En general la coalición se equivocó porque se vieron mucho más las fricciones internas que la propuesta conjunta de la alianza. Esto me parece una lástima porque la Centro Esperanza venía varios años trabajando y las peleas se dieron más por los últimos en llegar a ella, es decir, por Ingrid Betancourt y Alejandro Gaviria. Hubo un error de esos nuevos llegados, pero también de los viejos que no supieron manejar la situación. >Lea más sobre las elecciones de 2022 y otras noticias del mundo político'},\n",
       " {'title': 'MOE pide a la Registraduría explicar nuevas inconsistencias en conteo de votos',\n",
       "  'relative_path': '/politica/elecciones-colombia-2022/moe-pide-a-la-registraduria-explicar-nuevas-inconsistencias-en-conteo-de-votos/',\n",
       "  'datetime': '5 abr 2022  - 3:33 p.\\xa0m.',\n",
       "  'author': 'Redacción Política',\n",
       "  'summary': 'La Misión de Observación Electoral (MOE), que presentó las primeras advertencias sobre la cantidad de mesas en cero, también halló inconsistencias en la transmisión de resultados de 14 departamentos, que afectaron a 17 listas a la Cámara de Representantes.',\n",
       "  'full_text': 'Son ampliamente conocidas las anomalías que hubo en el proceso de preconteo de votos de las elecciones legislativas y de consultas presidenciales del pasado 13 de marzo. Incluso, hubo evidencias y alertas previas a la jornada electoral, en las que se mencionaban inconsistencias en los tarjetones. Ese coctel terminó modificando sustancialmente los resultados del preconteo de votos y el escrutinio que aún se adelanta, lo que viene generando malestar entre la ciudadanía y los diferentes actores políticos. Algunas de estas advertencias las ha hecho la Misión de Observación Electoral (MOE). La voz de Alejandra Barrios Cabrera, directora de la veeduría, fue la primera en evidenciar que había “un comportamiento atípico con las votaciones del Pacto Histórico” y en solicitar la revisión de 28.466 mesas en las que esa coalición no tuvo sufragios. Para hacer tal afirmación, la MOE indicó que la colectividad de centro-izquierda registró 2.331.263 votos, pero hubo 28.466 mesas en ceros, algo que entendieron como un “comportamiento claramente atípico”. >Lea más sobre las elecciones de 2022 y otras noticias del mundo político Entre las muchas voces que alertaron sobre irregularidades en el preconteo y el acompañamiento que se ha hecho al escrutinio, se evidenciaron grandes diferencias en el número de votos para el Senado. Esto se traduce en que la composición final del Congreso va a cambiar respecto a la que reportó la Registraduría en los resultados previos, situación que viene generando una incertidumbre y desconfianza inédita en los procesos electorales del país. Hasta ahora, las irregularidades se habían centrado en la transmisión de información de los resultados de Senado y la conclusión fue que gran porcentaje de la responsabilidad de los errores fue del diseño de los tarjetones. No obstante, la MOE advirtió este martes sobre nuevas inconsistencias, esta vez en la votación para Cámara de Representantes, que fueron detectadas al hacer un análisis similar al que se hizo para Senado, pero que tomó más tiempo al tratarse de circunscripciones territoriales. >LEA: Registraduría y Alexander Vega se rajan en favorabilidad, de acuerdo a Invamer La MOE tomó los resultados del preconteo y los comparó con la información del escrutinio, que hasta el lunes registraba un avance del 99,8 %, y concluyó que hubo inconsistencias en 14 departamentos, que afectaron 17 listas a la Cámara de Representantes entre las que están el Pacto Histórico, Nuevo Liberalismo, Centro Democrático, Alianza Verde, Fuerza Ciudadana, Coalición Centro Esperanza, entre otras. Y si bien la entidad reconoce que las inconsistencias se vienen corrigiendo poco a poco, señaló que las dudas sobre los resultados de Cámara de Representante no se pueden achacar a los errores de diseño en el formulario o al diligenciamiento erróneo de los formularios E-14 por parte de jurados de votación, que es lo que por el momento ha explicado el registrador Alexánder Vega. >LEA: Los pecados de la Registraduría de Alexánder Vega “En Cámara de Representantes no se replica la dificultad de lectura de los E-14 que se alegó para el Senado de la República por el uso de asteriscos por parte de los jurados de votación, debido a que en los formularios se presenta una mejor distribución de espacios por el menor número de candidaturas por organización política. Tampoco se puede atribuir responsabilidad a la posición en la que se ubican las respectivas listas cerradas en los E- 14, toda vez que en este mismo sentido el diseño varía para cada departamento y por ende su ubicación”, explicó la entidad. Ante esas evidencias, para la MOE no basta con los cambios que anunció Vega al diseño de los formularios E-14, sino que considera necesario que desde la Registraduría se aclare el por qué de las diferencias que se encontraron entre el proceso de preconteo de votos y el contenido de los formularios E-14 (actas de escrutinio). “Los errores sistemáticos evidenciados se han traducido en una pérdida de confianza por parte de la ciudadanía y las organizaciones políticas, en la certeza del desarrollo de los procesos electorales y sus resultados”, concluyó la MOE, que presentó en la siguiente tabla los casos atípicos en que la diferencia entre el número de mesas en cero durante preconteo y escrutinio superan el 5 % de cada circunscripción territorial. '}]"
      ]
     },
     "execution_count": 10,
     "metadata": {},
     "output_type": "execute_result"
    }
   ],
   "source": [
    "news"
   ]
  },
  {
   "cell_type": "code",
   "execution_count": 11,
   "id": "10b5d919-17c3-4323-9686-9ff38ba3c615",
   "metadata": {},
   "outputs": [
    {
     "data": {
      "text/plain": [
       "<pymongo.results.InsertManyResult at 0x138aff76fd0>"
      ]
     },
     "execution_count": 11,
     "metadata": {},
     "output_type": "execute_result"
    }
   ],
   "source": [
    "# Storing extracted information for further analysis.\n",
    "collection.insert_many(news)"
   ]
  },
  {
   "cell_type": "code",
   "execution_count": 12,
   "id": "0d23d9c0-1d86-4eab-a3ca-ac49cf4e6d39",
   "metadata": {},
   "outputs": [],
   "source": [
    "# Creating a connection to MongoDB to create the environment module. \n",
    "client = MongoClient('localhost', 27017)\n",
    "db = client['news']\n",
    "collection = db['elespectador-judicial']"
   ]
  },
  {
   "cell_type": "code",
   "execution_count": 13,
   "id": "470d584b-f515-4b79-9de8-812f2758ec9c",
   "metadata": {},
   "outputs": [],
   "source": [
    "# Getting HTML content for news listing page.\n",
    "\n",
    "newsJudicial = []\n",
    "url = '/archivo/judicial'\n",
    "\n",
    "for n in range(1, 2):\n",
    "    soup = make_request(browser, url + str(n))\n",
    "    # Finding the section where news are contained.\n",
    "    layout = soup.find(class_ = 'Layout-flexAds')\n",
    "    # Getting blocks from layout.\n",
    "    blocks = layout.find('section').find_all(recursive = False)\n",
    "    # Finding and concatenating news cards.\n",
    "    cards = blocks[0].find_all(class_ = 'Card') + blocks[1].find_all(class_ = 'Card')\n",
    "    # Building a list with title and relative path of the news founded.\n",
    "    for card in cards:\n",
    "        newsJudicial.append({\n",
    "            'title': card.find('h2', class_ = 'Card-Title').find('a').get_text(),\n",
    "            'relative_path': card.find('h2', class_ = 'Card-Title').find('a')['href']\n",
    "        })"
   ]
  },
  {
   "cell_type": "code",
   "execution_count": 14,
   "id": "4f8a27ef-d753-4aee-bad4-2a602eee50c9",
   "metadata": {},
   "outputs": [],
   "source": [
    "for n in newsJudicial:\n",
    "    # Getting HTML content for news page.\n",
    "    soup = make_request(browser, n['relative_path'])\n",
    "    \n",
    "    # Extracting news metadata.\n",
    "    n['datetime'] = soup.find(class_ = 'ArticleHeader-Date').get_text()\n",
    "    n['author'] = soup.find(class_ = 'ACredit-Author').get_text()\n",
    "    n['summary'] = soup.find(class_ = 'ArticleHeader-Hook').find('div').get_text()\n",
    "    \n",
    "    # Extracting and concatenating news full text.\n",
    "    paragraphs = soup.find_all(class_ = 'font--secondary')\n",
    "    n['full_text'] = ' '.join([p.get_text() for p in paragraphs])"
   ]
  },
  {
   "cell_type": "code",
   "execution_count": 15,
   "id": "2aeb60e5-7acf-4af8-a151-9fdfc2c4fef9",
   "metadata": {},
   "outputs": [
    {
     "data": {
      "text/plain": [
       "[{'title': 'La “ventanilla minera” se la juega toda en el Consejo de Estado',\n",
       "  'relative_path': '/judicial/la-ventanilla-minera-se-la-juega-toda-en-el-consejo-de-estado/',\n",
       "  'datetime': '5 abr 2022  - 9:00 p.\\xa0m.',\n",
       "  'author': 'Fernanda Torres Tovar',\n",
       "  'summary': 'Aunque ya existe una decisión de primera instancia, que tiene suspendidos los términos para entregar licencias mineras, el Consejo de Estado debe analizar si el Gobierno puede seguir otorgándolas o si, por el contrario, se está generando un daño al medio ambiente.',\n",
       "  'full_text': 'Al menos desde 2013, todo tipo de entidades, privadas y públicas, defensores de derechos humanos, ambientalistas y expertos hicieron una advertencia: la apuesta del gobierno Santos, conocida como la “ventanilla minera”, era una política para explotar la tierra, pero generando una grave afectación para el medio ambiente. El programa también se conoció como la “locomotora minera”, que arrancó motores a todo vapor, hasta que una acción popular se le atravesó en el camino en 2013. Un grupo de académicos, ambientalistas, expertos y el senador Iván Cepeda presentaron la demanda que buscaba suspender la solicitud de las licencias mineras en territorios protegidos como reservas naturales. Hoy el caso está por resolverse a instancias del Consejo de Estado. El recurso judicial tenía la finalidad de evidenciar los múltiples riesgos que enfrentan los ecosistemas con la llegada de la minería al territorio y demostrar “la situación caótica en la titulación minera”. Así las cosas, el pedido era que se suspendiera una resolución de ese año que le daba vida a lo que se llamó la “ventanilla minera”, que no es otra cosa que abrir la puerta a que las empresas que ejercen esa labor presenten solicitudes para el otorgamiento de permisos para desarrollar tal actividad. La iniciativa del expresidente Juan Manuel Santos fue rechazada por colectivos y expertos en medio ambiente. Lea aquí: Ordenan suspender el otorgamiento de títulos mineros en Colombia En la acción popular explicaron que la minería no solamente se ha extendido por todo el territorio, sino que lo ha hecho sobre zonas en las que genera graves efectos sociales, culturales y ambientales, algunas de las cuales están legalmente excluidas de la minería. En su análisis expusieron que, para 2013, la Procuraduría tenía reporte de 34 títulos mineros en Parques Naturales. Además, en el denominado “catastro minero” había reporte de que en un 6 % de los espacios de las comunidades negras existían títulos mineros. En un porcentaje menor, el 1 %, vinculaba territorios indígenas. Con esos antecedentes buscaron dejar sin fondo la resolución. “En esta resolución no se incluyeron otras áreas que, en virtud del principio de precaución y de prevención en materia ambiental, deberían ser excluidas de la minería, dadas las evidencias técnicas disponibles o las dudas razonables sobre los impactos de autorizar la actividad minera en dichos territorios”, dice el documento de 45 páginas, en el que ponen como base un informe de la Contraloría que da cuenta de que las autoridades ambientales no aplican el principio de precaución para proteger el ambiente de la actividad minera. Lea también: ‘Colombia no está preparada para la locomotora minera’ En pocas palabras, lo que alegaban era que muchas solicitudes que estaban en trámite afectarían reservas de recursos naturales, como humedales, páramos, bosques tropicales y parques nacionales. La acción popular que también fue apoyada por Teófilo Acuña, un líder social asesinado hace unas semanas, supuestamente, por líos de tierras, tuvo una primera decisión cinco años después de presentada. El Tribunal Administrativo de Cundinamarca, en 2018, les dio la razón. Suspendió la resolución hasta 2021 y le ordenó al Ministerio de Ambiente delimitar las zonas de reserva de recursos naturales para definir las áreas que deben estar libres de esa actividad. “La Sala considera que, conforme al derecho de un goce de un ambiente sano, se hicieron los respectivos análisis y consideraciones advirtiendo que el goce de un ambiente sano también recoge los recursos naturales, de manera que se protege el patrimonio público de la nación, al determinarse que el Ministerio de Ambiente debe delimitar las zonas excluibles de la actividad minera”, dijo la providencia de 2018, que amparó los derechos colectivos a un ambiente sano, la existencia del equilibrio ecológico y el manejo y aprovechamiento racional de los recursos naturales para garantizar su desarrollo sostenible y conservación de especies animales y vegetales. Le puede interesar: Proponen incentivar exploración minera El Tribunal fue claro y dijo que hasta que Colombia y su Gobierno no supieran dónde están ubicados sus recursos naturales, no podría haber licencias para exploración minera. Tanto Cepeda como las organizaciones ambientales y catedráticos celebraron la decisión, lo que no ocurrió con el Gobierno. Para 2018, la Agencia Nacional de Licencias Ambientales (ANLA), la Agencia Nacional de Minería (ANM) y los ministerios de Minas y Ambiente apelaron el fallo. Los documentos llegaron al Consejo de Estado y hoy reposan en el despacho del magistrado Roberto Serrato, quien pretende tomar una decisión una vez culmine Semana Santa. El consejero no tiene una tarea fácil. Además de las apelaciones a la decisión de primera instancia y las peticiones para cuidar el medio ambiente y las poblaciones que forman parte de estos ecosistemas, debe analizar si la resolución que solicita el otorgamiento de licencias mineras, que estaba suspendida hasta el año pasado, debe postergarse. Del mismo modo, debe verificar cuánto han cambiado esos espacios naturales, si se mantienen los mismos o, por el contrario, han disminuido o aumentado en el territorio nacional. Precisamente eso fue lo que puso en evidencia el Ministerio de Minas con la apelación que presentó. Lea aquí: ‘El país corre grandes riesgos con el actual modelo minero  La cartera dijo que “se presentan situaciones que impiden cumplir el fallo, pero no por falta de gestión de las entidades relacionadas con el proceso de emisión del título minero y el instrumento ambiental, sino por la imposibilidad fáctica y técnica real de llevar a cabo los estudios solicitados y, en especial, con el grado de certeza exigido”. El Ministerio explicó que, como han pasado casi 10 años desde que se presentó la acción popular, hoy es prácticamente imposible establecer con exactitud las áreas de reservas naturales. Y que el cambio no solo está en la dimensión de esos territorios, sino también en que se han expedido otras normas para regular los títulos mineros. El Ministerio de Ambiente, por su parte, consideró que la “ventanilla minera” no vulnera ningún derecho colectivo, puesto que permite la recepción de solicitudes de títulos mineros, y estos no conllevan a un daño ambiental porque, para acceder a ellos, deben cumplir con una serie de requisitos, como las autorizaciones ambientales. Sobre la delimitación de las zonas, aclaró que desde 2011 la cartera ha promovido la protección de la diversidad e integridad de los territorios, conservando áreas de especial importancia ecológica. Lea también: Vendrá nuevo represamiento de títulos mineros La Agencia Minera sumó su postura a la del Ministerio de Ambiente diciendo que “la ventanilla minera” no genera un peligro “grave e irreversible” debido a que, para otorgar los títulos mineros, se deben seguir procedimientos administrativos que se surten ante una autoridad ambiental que certifique que no habrá daño alguno. Además, aclaró que la “mera solicitud de titulación minera” no habilita adelantar una actividad. La ANLA adhirió su postura diciendo que “si no se obtiene la licencia ambiental, el proyecto no se podría ejecutar. En otras palabras, se podría solicitar 50 títulos y obtenerlos, pero, si no se accede a la licencia ambiental, el proyecto sería inviable” Las cartas de ambas partes están sobre la mesa. El magistrado Serrato ya presentó la ponencia en la que estudió si cambia la decisión del Tribunal Superior o la deja en firme. La clave de la decisión del Consejo de Estado es definir que, mientras Colombia no sepa dónde están sus recursos naturales y, por ende, qué zonas quedan excluidas para minería, no habrá licencias para explotación. En otras palabras, el futuro de la “ventanilla minera” está en el alto tribunal, que podría resolver esta pelea después de casi 10 años.'},\n",
       " {'title': 'Haití y Colombia hablan de la situación de exmilitares presos por magnicidio',\n",
       "  'relative_path': '/judicial/haiti-y-colombia-hablan-de-la-situacion-de-exmilitares-presos-por-magnicidio/',\n",
       "  'datetime': '5 abr 2022  - 8:41 p.\\xa0m.',\n",
       "  'author': 'EFE',\n",
       "  'summary': ' En la reunión, los dos gobiernos discutieron sobre la situación carcelaria de los presos colombianos y reiteraron el compromiso de ambos países con “un proceso justo” en la causa por el magnicidio del expresidente Jovenel Moise, perpetrado el 7 de julio de 2021.',\n",
       "  'full_text': 'El viceministro colombiano de Exteriores, Francisco Echeverri, se reunió este martes con autoridades haitianas en Puerto Príncipe para conversar sobre la situación de los 18 colombianos que están arrestados por su supuesta implicación en el asesinato del presidente Jovenel Moise, perpetrado en julio de 2021. Lea: Un colombiano imputado por el asesinato de Jovenel Moïse se declara no culpable Echeverri fue recibido por el primer ministro haitiano, Ariel Henry, y otros ministros haitianos, según informó el Gobierno a través de las redes sociales. En la reunión, las partes discutieron sobre la situación carcelaria de los presos colombianos y reiteraron el compromiso de ambos países con “un proceso justo” en la causa por el magnicidio, perpetrado el 7 de julio pasado. Le podría interesar: Las torturas que denuncian los colombianos detenidos por magnicidio en Haití El portavoz del Gobierno haitiano, contactado por Efe, dijo carecer de más detalles sobre el contenido de las conversaciones entre Henry y el viceministro colombiano. Las autoridades haitianas han arrestado a más de 40 personas por su supuesta implicación en el asesinato de Moise, entre ellos 18 exmilitares colombianos que son acusados de integrar el comando que irrumpió en la residencia oficial del mandatario para acabar con su vida. Otros tres colombianos fueron abatidos por la Policía haitiana en las horas posteriores al magnicidio. Los exmilitares detenidos se quejaron recientemente de haber sufrido torturas, amenazas, violaciones de sus derechos humanos y del debido proceso. El pasado octubre fue arrestado en Jamaica otro sospechoso colombiano, Marco Antonio Palacios, quien fue extraditado a Estados Unidos, donde es acusado del cargo de conspiración para cometer un asesinato, con relación a la muerte de Moise. La investigación del magnicidio en la justicia haitiana está estancada, tras la renuncia del juez de instrucción Garry Orélien el pasado enero, quien alegó motivos personales para dejar la causa. El pasado enero, la vicepresidenta y canciller colombiana, Marta Lucía Ramírez, criticó la ineficacia de la justicia haitiana para avanzar en la investigación del asesinato de Moise. En un encuentro con la prensa, Ramírez también dijo que el cónsul honorario en Puerto Príncipe, Julio Santa, ha sido amenazado por defender los derechos de los colombianos a un trato humanitario y a un juicio justo./ EFE'},\n",
       " {'title': 'Así se llegó a la masiva violación de derechos en centros de detención transitoria',\n",
       "  'relative_path': '/judicial/asi-se-llego-a-la-masiva-violacion-de-derechos-en-centros-de-detencion-transitoria/',\n",
       "  'datetime': '5 abr 2022  - 6:27 p.\\xa0m.',\n",
       "  'author': 'Redacción Judicial',\n",
       "  'summary': 'La Corte Constitucional declaró un estado de cosas inconstitucional en estaciones de Policía y Unidades de Reacción Inmediatas (URI). Conozca el paso a paso que conllevó a la nueva emergencia.',\n",
       "  'full_text': 'Toda persona que esté investigada o condenada por un delito en Colombia, y que esté en un centro de reclusión, vive en un estado de cosas inconstitucional, es decir, bajo una grave y masiva violación de los derechos que son amparados en la Constitución. Así lo ha declarado la Corte Constitucional en cuatro oportunidades, siendo la última ayer 4 de abril. La alta corte evidenció que, ahora, también en las estaciones de Policía y Unidades de Reacción Inmediata (URI) los detenidos permanecen en condiciones infrahumanas, tal como ha sucedido en los establecimientos de orden nacional desde 1998. En contexto: Corte declara estado de cosas inconstitucional en centros de detención transitoria La Sala Plena de la Corte constató que la situación de hacinamiento en los establecimientos penitenciarios está tan desbordada, que las personas capturadas y procesadas de un delito no pueden ingresar formalmente al sistema penitenciario. Quedan custodiadas en URIS y estaciones que no cumplen los parámetros de dignidad, donde son sometidos a una violación sistemática de sus derechos. A modo de ejemplo, en las estaciones de Policía de Bucaramanga hay una sobrepoblación del 818%, según datos de la Defensoría del Pueblo. ¿Cómo se llegó a esta emergencia? Aquí el paso a paso. El Instituto Nacional Penitenciario y Carcelario fue creado en 1992. Seis años después, internos se escudaron en la acción de tutela para alertar a la justicia de que en las prisiones no se estaba haciendo nada bien. En 1998, la Corte Constitucional se pronunció sobre dos acciones y declaró un ECI que, a pesar de los esfuerzos del ministerio de Justicia, no ha sido superado en más de dos décadas. Dos ciudadanos, presos en la cárcel de Bellavista (Medellín) y La Modelo (Bogotá), pusieron de presente las primeras quejas contra el vigente modelo penitenciario. Lea: Violación al Acuerdo de Paz y otros estados inconstitucionales en Colombia “En los últimos días se ha estado haciendo super insoportable la dormida, nos suben a las 4 de la tarde a los dormitorios y desde que subimos hasta que nos bajan al otro día nos toca quedarnos casi que inmóviles, pues no hay espacio ni para dormir en los baños. El Gobierno nos tiene arrumados en un corral y ahora quiere empacarnos en el corral (…) lo injusto es que no habemos 80 internos por pasillo, sino que habemos 170 o 180″, señaló un interno de la cárcel de Bellavista. En el curso del análisis de ambos expedientes, se realizaron inspecciones en noviembre de 1997. La conclusión fue contundente: las cárceles del país no son para seres humanos. El hacinamiento marcaba un 45,3%. Habías más de 42 mil internos en un espacio para 29 mil. Además, 19.515 solo estaban sindicadas y no había una condena en firme en su contra. Uno de los casos más graves alertado por la Defensoría fue en Bellavista, en Medellín, pues había 5.146 internos en una cárcel con capacidad para 1.500 personas. Le puede interesar: Hacinamiento en cárceles del país bajó a 16.7%: Ministerio de Justicia Entonces, el Inpec respondió que la sobrepoblación carcelaria se debía al crecimiento demográfico, a la crisis “socioeconómica, política, de cultura y valores de la sociedad”, concentración del hacinamiento en cárceles preventivas (por falta de garantías de seguridad), y hasta por la congestión judicial. Asimismo, existió una explosión de ordenes de medida de aseguramiento. Según la Defensoría, existía un “abuso” de ese mecanismo. Aparte, el 54.8% de los establecimientos contaban con una pésima condición de infraestructura física. Se ordenó que para 2002 se separaran completamente los sindicados de los condenados, cosa que nunca ocurrió. En una segunda declaratoria, la Corte Constitucional estudió nueve procesos de tutela originados en cárceles de Cúcuta, Valledupar, Bogotá, Medellín, Popayán y Barrancabermeja. Si bien la alta corte encontró que algunos déficits, con relación a 1998, habían sido superados, se reconocieron nuevas alertas por condiciones infrahumanas en 2013. Se les presentó atención a los centros de detención transitoria, pues entonces 1.836 personas estaban en estaciones de Policía, a la espera de ser trasladados a un sistema que, de igual forma, iba a representar todo un infierno. Una doble condena. Lea también: Cárceles colombianas en medio de la pandemia: atrapados sin salida “En las condiciones de hacinamiento y deterioro de la infraestructura penitenciaria y carcelaria, así como de los servicios que se presentan en cada establecimiento, la posibilidad de que se den tratos crueles, inhumanos e indignos aumenta notoriamente. La deshumanización de las personas en los actuales contextos carcelarios es evidente. Las condiciones en que son mantenidas las personas privadas de la libertad, por ejemplo, suelen ser relacionadas con las condiciones en que existen algunos de los animales relegados en nuestra sociedad a los lugares de suciedad”, reportó la Procuraduría para 2013. La Corte Constitucional encontró casos como la cárcel Picaleña, en Ibagué, donde sus dirigentes habían permitido que más de 3.000 autorizaciones de servicios de salud quedaran reprimidas. Por primera vez se habló de la condición de mujer en establecimientos de reclusión y se llegó a la conclusión de que, en Colombia, no se ha puesto un solo ladrillo para prisiones con enfoque de género. Incluso, se alertó al Inpec y al Ministerio de Justicia de que niños y niñas nacen en prisión y deben vivir sus primeros días en las condiciones que confrontan los adultos. “Inician su existencia en las más crueles e inhumanas condiciones”, señaló la Corte. Le puede interesar: Galería: 1.300% de hacinamiento en estación Norte de Policía de Bucaramanga Tal era la gravedad, que la entonces ministra de Justicia, Ruth Stella Correa, declaró un Estado de Emergencia Penitenciaria y Carcelaria. Un grave “indicio de calamidad pública”, concluyó la jefe de cartera. Entonces, la población carcelaria había crecido a 117.396 y vivía en un hacinamiento del 55%. Y no solo eso. La Corte encontró que los internos arañaban servicios de salud a través de acción de tutela (1.044 en 2008) y en el peor de los casos, accionando desacatos sobre esas mismas tutelas. Personas sindicadas terminaban en patios donde, al final, terminaban violadas y asesinadas. Acceder a una cama dependía del grosor del soborno a pagar. “Como parte de una política criminal y carcelaria respetuosa de un estado social y democrático de derecho, las entidades del Estado, sin importar la rama a la cual pertenezcan, deben tomar las medidas adecuadas y necesarias para evitar un uso indebido o excesivo de las medidas de aseguramiento que impliquen la privación de la libertad de una persona. El Estado tiene que tomar todas las acciones que correspondan para evitar que sea una realidad el adagio popular según el cual ‘la condena es el proceso’”, concluyó la Corte. La solución no está, según esta, en la apertura de cupos, en construir más cárceles. Lea: Hacinamiento en las URI y estaciones de policía de Bogotá sobrepasa el 500 % En 2015, la Corte Constitucional estudio de nuevo un cumulo de tutelas relacionadas con la deficiencia en la protección de los derechos de los internos, en más de 10 ciudades y municipios. La conclusión fue clara: la política criminal colombiana necesita un revés. Ha sido, en sus palabas, populista, reactiva, poco reflexiva, volátil, incoherente y subordinada a la política de seguridad. Lo más grave de todo, es que los métodos utilizados desde los noventa no contribuyen al fin último de la prisión: resocializar al delincuente. Lo cual se refleja en los índices de reincidencia. Por tanto, en esta declaratoria, se exhortó al Congreso, al Gobierno y a la Fiscalía que promuevan la creación y ejecución de un sistema amplio de penas y medidas de aseguramiento alternativas a la privación de la libertad. Además, se pidió crear una política criminal que sea respetuosa de los derechos humanos, en un ambiente que para 2015 retenía a 117.000 personas en 75.726 cupos. Las causas parecen estar en el Código Penal. Desde 2000 hasta 2011, se crearon 47 nuevos tipos penales, aumentaron las penas de 80 delitos existentes y, en general, persiste una desproporción en los internos que salen y los reclusos que llegan. Lea también: Hacinamiento en centros de detención transitoria de Medellín están sobre el 800% Ahora, en 2022, la Corte constató que el hacinamiento de las cárceles está tan desbordado, que las personas capturadas no pueden ser trasladadas, ni ingresar formalmente al sistema penitenciario. De tal manera que quedan custodiadas en espacios que no son aptos para garantizar una reclusión digna. ¿Las razones? Existen vacíos normativos en la distribución de competencias entre autoridades territoriales, altos índices de criminalidad y una aplicación abusiva de la detención preventiva, entre otras. El jalón de orejas, esta vez, va para el Inpec, la Uspec (que maneja los recursos) y el Ministerio de Justicia. Todo el sistema penitenciario está en emergencia y el gobierno de Iván Duque ya prometió una reforma. Su periodo acaba a mitad de este año. La Defensoría del Pueblo entregó datos a El Espectador en relación con el hacinamiento en URI’s y estaciones de Policía en las principales ciudades del país. Las cifras le otorgan toda la razón a la Corte Constitucional. En Bogotá, a corte de marzo de 2022, hay un 384% de hacinamiento; en Medellín la cifra está en 317.5%; en Barranquilla asciende a 454.6%; en Cúcuta está en 462%; en Pasto llega al 60%; en Cali la estadística marca 266%; y en Cartagena se habla de un 275.5%. Inpec, Uspec, Ministerio de Justicia y entidades territoriales, tienen un deber ordenado por la Corte Constitucional. Para conocer más sobre justicia, seguridad y derechos humanos, visite la sección Judicial de El Espectador.'},\n",
       " {'title': 'Caso Odebrecht: vuelven a rechazar solicitud de preclusión a favor de dos empresarios',\n",
       "  'relative_path': '/judicial/caso-odebrecht-vuelven-a-rechazar-solicitud-de-preclusion-a-favor-de-dos-empresarios/',\n",
       "  'datetime': '5 abr 2022  - 2:54 p.\\xa0m.',\n",
       "  'author': 'Redacción Judicial',\n",
       "  'summary': 'El Tribunal Superior de Bogotá negó por segunda vez la solicitud de la Fiscalía de cerrar un proceso contra Gilberto Hernán Saldarriaga Giraldo, representante de Megaland; y Gilberto Ramírez Varela, de la empresa Buisiness M&E. Eran investigados por, supuestamente, lavarle dinero a la corrupta compañía.',\n",
       "  'full_text': 'La Sala Penal del Tribunal Superior de Bogotá acaba de negar por segunda vez una cuestionada solicitud hecha por la Fiscalía en el caso Odebrecht. El ente investigador viene desde noviembre de 2021 solicitando a las autoridades judiciales que precluyan la investigación contra dos empresarios que habrían estado relacionados con la red de corrupción de la multinacional brasilera. Se trata  de Gilberto Hernán Saldarriaga Giraldo, representante de Megaland; y Gilberto Ramírez Varela, de la empresa Buisiness M&E. Para conocer más sobre justicia, seguridad y derechos humanos, visite la sección Judicial de El Espectador. Aunque en octubre de 2021, la Fiscalía llamó a juicio a los dos empresarios, que eran investigados por supuestamente lavar dineros de la compañía, un mes después le pidió a un juez precluir la investigación. Sin embargo, recibió la misma respuesta que ahora emite el Tribunal Superior de Bogotá: un “no” rotundo. En el escrito de acusación de la Fiscalía contra los Gilbertos había 12 personas que iban a declarar en su juicio, pero súbitamente la Fiscalía se echó para atrás tras entrevistar al empresario Roberto Prieto, quien ya fue condenado por este escándalo tras firmar un preacuerdo. Le podría interesar: Las señales del fiscal Barbosa para el futuro del caso Odebrecht en Colombia “Para pedir la preclusión su pobre fundamento radica en la entrevista a Roberto Prieto, cuya fuerza probatoria, según el fiscal, destruye toda la evidencia señalada. Para el Tribunal resulta manifiestamente extraño que a partir de una entrevista, que no una declaración bajo juramento, se caiga lo investigado durante varios años, evidencia que precisamente llevó a que se imputara (09/06/2021) primero, y se acusara (07/10/2021) luego”, señaló la Sala Penal del Tribunal Superior de Bogotá. Lea: Los detalles de la condena a Roberto Prieto por irregularidades en Ruta del Sol 3 Uno de los motivos expuestos por el fiscal del caso hace relación “a la premura con la que tuvo que radicar el escrito de acusación ante la aproximación al vencimiento de términos”, porque hasta ese momento asumió esa investigación, por eso “tuvo que presentarlo y al mismo tiempo emitir órdenes a policía judicial para recaudar otras pruebas, como la entrevista a Roberto Prieto, que se recepcionó el 29 de octubre de 2021, testigo de cargo y con la que pretendía sustentar la preclusión”.  “Sin embargo, tal como lo advirtió el juez de primera instancia, tal postura no resulta aceptable bajo el entendido que si no tenía la certeza de acusar a los procesados, debió proceder de la manera señalada en el artículo 294 de la norma procesal penal (vencimiento de términos), sin embargo, prefirió presentar el escrito acusatorio”, señaló el Tribunal Superior de Bogotá, al resolver la apelación interpuesta por la Fiscalía. El juez de primera instancia señaló en su momento, noviembre de 2021, que: “Frente a la inexistencia del hecho investigado se observa que los elementos traídos e la hipótesis central de la argumentación del ente acusador radica en que existió el hecho imputado, por cuanto lo cierto es que los interrogatorios rendidos se pueden inferir y reflejar que José Roberto Prieto Uribe señala de forma clara la existencia de presuntos recursos ilegales reflejando con esto la existencia de los elementos que podrían demostrar actuaciones que de contera deberán ser debatidas en juicio oral”. En febrero de 2021, el fiscal general Francisco Barbosa anunció que, unificaría las 14 líneas investigativas para atar nuevos cabos del caso Odebrecht. Además, anunció en ese momento que el coordinador de la Fiscalía Delegada ante la Corte Suprema, Gabriel Ramón Jaimes Durán, iba a ser el orientador del grupo especial. El ente investigador también señaló que durante tres meses permitió a través de su investigación unificar tres frentes investigativos al caso: Ruta del Sol II; Proyecto de Navegabilidad Río Magdalena; Interconector Tunjuelo-Canoas; Ruta del Sol IIl; y otras dos líneas más en las que pudieron incurrir en delitos. En esa misma oportunidad, la Fiscalía General entregó algunos de los nombres de las personas relacionadas con el caso que serán imputadas -entre ellos los “Gilbertos”-, por el delito de lavado de activos son: José Roberto Prieto; Eduardo José Zambrano Caicedo; representante legal de Consultores Unidos; Gilberto Hernán Saldarriaga Giraldo, representante de Megaland; Gilberto Ramírez Varela, de la empresa Buisiness M&E; y Natalia Isaza Vásquez.'},\n",
       " {'title': 'En acciones contra Clan del Golfo se supo de plan para atentar contra fiscal Monsalve',\n",
       "  'relative_path': '/judicial/en-acciones-contra-clan-del-golfo-se-supo-de-plan-para-atentar-contra-fiscal-monsalve/',\n",
       "  'datetime': '5 abr 2022  - 12:22 p.\\xa0m.',\n",
       "  'author': 'Redacción Judicial',\n",
       "  'summary': 'Luego de que la Fiscalía diera a conocer que se le asignó un esquema de seguridad a la funcionaria del ente investigador, la Policía indicó que la alerta sobre un atentado en su contra fue hecha por una “fuente humana”. Dicha información llegó en medio de las actividades que adelanta la Fuerza Pública contra las estructuras que quedaron luego de la captura de alias Otoniel en Antioquia.',\n",
       "  'full_text': 'El Director de Investigación Criminal e Interpol (Dijín) de la Policía, general Fernando Murillo, entregó detalles sobre cómo la institución conoció sobre un posible plan criminal para atentar contra la fiscal Angélica María Monsalve. La funcionaria del ente investigador denunció hace un par de semanas presiones en su contra tras citar a imputación de cargos a los empresarios Carlos y Javier Ríos Velilla, así como a su sobrino, el exconcejal de Bogotá Felipe Ríos Londoño. (Le puede interesar: Néstor Humberto Martínez ahorita es muy amigo de Francisco Barbosa: exfiscal)'},\n",
       " {'title': 'Los salvamentos de voto en la decisión de la Corte de la Línea Negra',\n",
       "  'relative_path': '/judicial/los-salvamentos-de-voto-en-la-decision-de-la-corte-de-la-linea-negra/',\n",
       "  'datetime': '5 abr 2022  - 6:00 a.\\xa0m.',\n",
       "  'author': 'Redacción Judicial',\n",
       "  'summary': 'Las magistradas Diana Fajardo y Karena Caselles se apartaron de la decisión mayoritaria que le da vida a la Mesa de Seguimiento y Coordinación a la Línea Negra, que tiene como fin entender y encontrar soluciones a los conflictos que se ciernen en los territorios de cuatro pueblos étnicos.',\n",
       "  'full_text': 'El pasado miércoles, la Sala Plena de la Corte Constitucional estableció lo que sería una hoja de ruta para que las comunidades indígenas que habitan en la denominada Línea Negra en la Sierra Nevada de Santa Marta tengan participación efectiva en asuntos que vinculan su territorio ancestral. La decisión, aunque no se conoce en su integridad, se registró por cuenta del estudio de dos tutelas que revisó el despacho del magistrado José Fernando Reyes en el que reclamaban vulneración a sus derechos debido a que se concedieron títulos mineros para proyectos que desarrollarán en su espacio y no fueron consultados. Una de las determinaciones del alto tribunal fue la creación de una Mesa de Seguimiento y Coordinación que estaba planteada en el Decreto 1500 de 2018 que le dio vida a la Línea Negra. La Mesa tiene la finalidad de concertar a diferentes autoridades, locales y nacionales, así como a los delegados de los pueblos indígenas para poner en conocimiento los proyectos que se pretenden adelantar en esa zona del país. Del mismo modo, le recordó al Congreso y al Gobierno, que en caso de que no se haya hecho, se delimite cartográficamente las comunidades que hacen parte de la Línea Negra.'}]"
      ]
     },
     "execution_count": 15,
     "metadata": {},
     "output_type": "execute_result"
    }
   ],
   "source": [
    "newsJudicial"
   ]
  },
  {
   "cell_type": "code",
   "execution_count": 16,
   "id": "69d1bf84-1e39-434e-9299-3688434acbd4",
   "metadata": {},
   "outputs": [
    {
     "data": {
      "text/plain": [
       "<pymongo.results.InsertManyResult at 0x138affb0850>"
      ]
     },
     "execution_count": 16,
     "metadata": {},
     "output_type": "execute_result"
    }
   ],
   "source": [
    "# Storing extracted information for further analysis.\n",
    "collection.insert_many(newsJudicial)"
   ]
  },
  {
   "cell_type": "code",
   "execution_count": 17,
   "id": "9d2b62cf-6e26-4553-8f9a-9c6b8ea7019b",
   "metadata": {},
   "outputs": [],
   "source": [
    "# Creating a connection to MongoDB to create the science module. \n",
    "client = MongoClient('localhost', 27017)\n",
    "db = client['news']\n",
    "collection = db['elespectador-economia']"
   ]
  },
  {
   "cell_type": "code",
   "execution_count": 18,
   "id": "0b0169a8-f4ef-479b-bda0-e8ba72e270c3",
   "metadata": {},
   "outputs": [
    {
     "ename": "NameError",
     "evalue": "name 'newsEconomia' is not defined",
     "output_type": "error",
     "traceback": [
      "\u001b[1;31m---------------------------------------------------------------------------\u001b[0m",
      "\u001b[1;31mNameError\u001b[0m                                 Traceback (most recent call last)",
      "\u001b[1;32mC:\\Users\\ALFRED~1\\AppData\\Local\\Temp/ipykernel_23692/1728950554.py\u001b[0m in \u001b[0;36m<module>\u001b[1;34m\u001b[0m\n\u001b[0;32m     14\u001b[0m     \u001b[1;31m# Building a list with title and relative path of the news founded.\u001b[0m\u001b[1;33m\u001b[0m\u001b[1;33m\u001b[0m\u001b[0m\n\u001b[0;32m     15\u001b[0m     \u001b[1;32mfor\u001b[0m \u001b[0mcard\u001b[0m \u001b[1;32min\u001b[0m \u001b[0mcards\u001b[0m\u001b[1;33m:\u001b[0m\u001b[1;33m\u001b[0m\u001b[1;33m\u001b[0m\u001b[0m\n\u001b[1;32m---> 16\u001b[1;33m         newsEconomia.append({\n\u001b[0m\u001b[0;32m     17\u001b[0m             \u001b[1;34m'title'\u001b[0m\u001b[1;33m:\u001b[0m \u001b[0mcard\u001b[0m\u001b[1;33m.\u001b[0m\u001b[0mfind\u001b[0m\u001b[1;33m(\u001b[0m\u001b[1;34m'h2'\u001b[0m\u001b[1;33m,\u001b[0m \u001b[0mclass_\u001b[0m \u001b[1;33m=\u001b[0m \u001b[1;34m'Card-Title'\u001b[0m\u001b[1;33m)\u001b[0m\u001b[1;33m.\u001b[0m\u001b[0mfind\u001b[0m\u001b[1;33m(\u001b[0m\u001b[1;34m'a'\u001b[0m\u001b[1;33m)\u001b[0m\u001b[1;33m.\u001b[0m\u001b[0mget_text\u001b[0m\u001b[1;33m(\u001b[0m\u001b[1;33m)\u001b[0m\u001b[1;33m,\u001b[0m\u001b[1;33m\u001b[0m\u001b[1;33m\u001b[0m\u001b[0m\n\u001b[0;32m     18\u001b[0m             \u001b[1;34m'relative_path'\u001b[0m\u001b[1;33m:\u001b[0m \u001b[0mcard\u001b[0m\u001b[1;33m.\u001b[0m\u001b[0mfind\u001b[0m\u001b[1;33m(\u001b[0m\u001b[1;34m'h2'\u001b[0m\u001b[1;33m,\u001b[0m \u001b[0mclass_\u001b[0m \u001b[1;33m=\u001b[0m \u001b[1;34m'Card-Title'\u001b[0m\u001b[1;33m)\u001b[0m\u001b[1;33m.\u001b[0m\u001b[0mfind\u001b[0m\u001b[1;33m(\u001b[0m\u001b[1;34m'a'\u001b[0m\u001b[1;33m)\u001b[0m\u001b[1;33m[\u001b[0m\u001b[1;34m'href'\u001b[0m\u001b[1;33m]\u001b[0m\u001b[1;33m\u001b[0m\u001b[1;33m\u001b[0m\u001b[0m\n",
      "\u001b[1;31mNameError\u001b[0m: name 'newsEconomia' is not defined"
     ]
    }
   ],
   "source": [
    "# Getting HTML content for news listing page.\n",
    "\n",
    "newsEconomia = []\n",
    "url = '/archivo/economia'\n",
    "\n",
    "for n in range(1, 2):\n",
    "    soup = make_request(browser, url + str(n))\n",
    "    # Finding the section where news are contained.\n",
    "    layout = soup.find(class_ = 'Layout-flexAds')\n",
    "    # Getting blocks from layout.\n",
    "    blocks = layout.find('section').find_all(recursive = False)\n",
    "    # Finding and concatenating news cards.\n",
    "    cards = blocks[0].find_all(class_ = 'Card') + blocks[1].find_all(class_ = 'Card')\n",
    "    # Building a list with title and relative path of the news founded.\n",
    "    for card in cards:\n",
    "        newsEconomia.append({\n",
    "            'title': card.find('h2', class_ = 'Card-Title').find('a').get_text(),\n",
    "            'relative_path': card.find('h2', class_ = 'Card-Title').find('a')['href']\n",
    "        })"
   ]
  },
  {
   "cell_type": "code",
   "execution_count": null,
   "id": "a49868ec-6107-40b5-93b4-3e26abf6ee6a",
   "metadata": {},
   "outputs": [],
   "source": [
    "for n in newsEconomia:\n",
    "    # Getting HTML content for news page.\n",
    "    soup = make_request(browser, n['relative_path'])\n",
    "    \n",
    "    # Extracting news metadata.\n",
    "    n['datetime'] = soup.find(class_ = 'ArticleHeader-Date').get_text()\n",
    "    n['author'] = soup.find(class_ = 'ACredit-Author').get_text()\n",
    "    n['summary'] = soup.find(class_ = 'ArticleHeader-Hook').find('div').get_text()\n",
    "    \n",
    "    # Extracting and concatenating news full text.\n",
    "    paragraphs = soup.find_all(class_ = 'font--secondary')\n",
    "    n['full_text'] = ' '.join([p.get_text() for p in paragraphs])"
   ]
  },
  {
   "cell_type": "code",
   "execution_count": null,
   "id": "1749416d-9151-43ae-9350-02274ea5b31a",
   "metadata": {},
   "outputs": [],
   "source": [
    "newsEconomia"
   ]
  },
  {
   "cell_type": "code",
   "execution_count": null,
   "id": "ac9da604-9c1b-4abe-99b2-29c5e2858834",
   "metadata": {},
   "outputs": [],
   "source": [
    "# Storing extracted information for further analysis.\n",
    "collection.insert_many(newsEconomia)"
   ]
  },
  {
   "cell_type": "code",
   "execution_count": null,
   "id": "198f8a28-8858-48fc-816a-2403061d9bb1",
   "metadata": {},
   "outputs": [],
   "source": [
    "# Creating a connection to MongoDB to create the technology module. \n",
    "client = MongoClient('localhost', 27017)\n",
    "db = client['news']\n",
    "collection = db['elespectador-opinion']"
   ]
  },
  {
   "cell_type": "code",
   "execution_count": null,
   "id": "133a2455-666b-448c-8cf3-4ec753d67836",
   "metadata": {},
   "outputs": [],
   "source": [
    "# Getting HTML content for news listing page.\n",
    "\n",
    "newsOpinion = []\n",
    "url = '/archivo/opinion'\n",
    "\n",
    "for n in range(1, 2):\n",
    "    soup = make_request(browser, url + str(n))\n",
    "    # Finding the section where news are contained.\n",
    "    layout = soup.find(class_ = 'Layout-flexAds')\n",
    "    # Getting blocks from layout.\n",
    "    blocks = layout.find('section').find_all(recursive = False)\n",
    "    # Finding and concatenating news cards.\n",
    "    cards = blocks[0].find_all(class_ = 'Card') + blocks[1].find_all(class_ = 'Card')\n",
    "    # Building a list with title and relative path of the news founded.\n",
    "    for card in cards:\n",
    "        newsOpinion.append({\n",
    "            'title': card.find('h2', class_ = 'Card-Title').find('a').get_text(),\n",
    "            'relative_path': card.find('h2', class_ = 'Card-Title').find('a')['href']\n",
    "        })"
   ]
  },
  {
   "cell_type": "code",
   "execution_count": null,
   "id": "01a5c03c-6696-4a83-bb88-dff0478e0148",
   "metadata": {},
   "outputs": [],
   "source": [
    "for n in newsOpinion:\n",
    "    # Getting HTML content for news page.\n",
    "    soup = make_request(browser, n['relative_path'])\n",
    "    \n",
    "    # Extracting news metadata.\n",
    "    n['datetime'] = soup.find(class_ = 'ArticleHeader-Date').get_text()\n",
    "    n['author'] = soup.find(class_ = 'ACredit-Author').get_text()\n",
    "    n['summary'] = soup.find(class_ = 'ArticleHeader-Hook').find('div').get_text()\n",
    "    \n",
    "    # Extracting and concatenating news full text.\n",
    "    paragraphs = soup.find_all(class_ = 'font--secondary')\n",
    "    n['full_text'] = ' '.join([p.get_text() for p in paragraphs])"
   ]
  },
  {
   "cell_type": "code",
   "execution_count": null,
   "id": "2b2890a4-ab3b-497b-bc2f-05d3775d3022",
   "metadata": {},
   "outputs": [],
   "source": [
    "newsOpinion"
   ]
  },
  {
   "cell_type": "code",
   "execution_count": null,
   "id": "bed6c819-6776-48e6-a4af-5e269320014c",
   "metadata": {},
   "outputs": [],
   "source": [
    "# Storing extracted information for further analysis.\n",
    "collection.insert_many(newsOpinion)"
   ]
  },
  {
   "cell_type": "code",
   "execution_count": null,
   "id": "17130998-58e6-4b96-aa16-5584782e7da5",
   "metadata": {},
   "outputs": [],
   "source": [
    "# Creating a connection to MongoDB to create the economy module. \n",
    "client = MongoClient('localhost', 27017)\n",
    "db = client['news']\n",
    "collection = db['elespectador-bogota']"
   ]
  },
  {
   "cell_type": "code",
   "execution_count": null,
   "id": "7c9b05e4-f3b9-4b0b-9db3-19ca4e0ea2b7",
   "metadata": {},
   "outputs": [],
   "source": [
    "# Getting HTML content for news listing page.\n",
    "\n",
    "newsBogota = []\n",
    "url = '/archivo/bogota'\n",
    "\n",
    "for n in range(1, 2):\n",
    "    soup = make_request(browser, url + str(n))\n",
    "    # Finding the section where news are contained.\n",
    "    layout = soup.find(class_ = 'Layout-flexAds')\n",
    "    # Getting blocks from layout.\n",
    "    blocks = layout.find('section').find_all(recursive = False)\n",
    "    # Finding and concatenating news cards.\n",
    "    cards = blocks[0].find_all(class_ = 'Card') + blocks[1].find_all(class_ = 'Card')\n",
    "    # Building a list with title and relative path of the news founded.\n",
    "    for card in cards:\n",
    "        newsBogota.append({\n",
    "            'title': card.find('h2', class_ = 'Card-Title').find('a').get_text(),\n",
    "            'relative_path': card.find('h2', class_ = 'Card-Title').find('a')['href']\n",
    "        })"
   ]
  },
  {
   "cell_type": "code",
   "execution_count": null,
   "id": "48c0a2ff-0dde-4c19-8477-64d302da50a8",
   "metadata": {},
   "outputs": [],
   "source": [
    "for n in newsBogota:\n",
    "    # Getting HTML content for news page.\n",
    "    soup = make_request(browser, n['relative_path'])\n",
    "    \n",
    "    # Extracting news metadata.\n",
    "    n['datetime'] = soup.find(class_ = 'ArticleHeader-Date').get_text()\n",
    "    n['author'] = soup.find(class_ = 'ACredit-Author').get_text()\n",
    "    n['summary'] = soup.find(class_ = 'ArticleHeader-Hook').find('div').get_text()\n",
    "    \n",
    "    # Extracting and concatenating news full text.\n",
    "    paragraphs = soup.find_all(class_ = 'font--secondary')\n",
    "    n['full_text'] = ' '.join([p.get_text() for p in paragraphs])"
   ]
  },
  {
   "cell_type": "code",
   "execution_count": null,
   "id": "ff17c97a-d935-4ab9-920c-9d1f0e98c9ca",
   "metadata": {},
   "outputs": [],
   "source": [
    "newsBogota"
   ]
  },
  {
   "cell_type": "code",
   "execution_count": null,
   "id": "a8a6c5a4-9f7c-4515-9d9c-8993dc73db18",
   "metadata": {},
   "outputs": [],
   "source": [
    "# Storing extracted information for further analysis.\n",
    "collection.insert_many(newsBogota)"
   ]
  },
  {
   "cell_type": "code",
   "execution_count": null,
   "id": "9e4c8582-cf6d-44e8-b9e8-c3122b3bbae4",
   "metadata": {},
   "outputs": [],
   "source": []
  },
  {
   "cell_type": "code",
   "execution_count": null,
   "id": "3060b5e2-4471-4dfd-81ef-698f8e879656",
   "metadata": {},
   "outputs": [],
   "source": []
  },
  {
   "cell_type": "code",
   "execution_count": null,
   "id": "6732b564-ae9d-4864-81f9-7619aaca0eba",
   "metadata": {},
   "outputs": [],
   "source": []
  }
 ],
 "metadata": {
  "kernelspec": {
   "display_name": "Python 3 (ipykernel)",
   "language": "python",
   "name": "python3"
  },
  "language_info": {
   "codemirror_mode": {
    "name": "ipython",
    "version": 3
   },
   "file_extension": ".py",
   "mimetype": "text/x-python",
   "name": "python",
   "nbconvert_exporter": "python",
   "pygments_lexer": "ipython3",
   "version": "3.9.7"
  }
 },
 "nbformat": 4,
 "nbformat_minor": 5
}
