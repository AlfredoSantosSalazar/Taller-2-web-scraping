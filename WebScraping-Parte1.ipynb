{
 "cells": [
  {
   "cell_type": "code",
   "execution_count": 1,
   "id": "aaf7a87a-6905-4863-8b3c-06a05e375878",
   "metadata": {},
   "outputs": [],
   "source": [
    "# Importing required libraries\n",
    "import datetime\n",
    "import time\n",
    "import pymongo\n",
    "import pandas as pd\n",
    "import sys\n",
    "\n",
    "from bs4 import BeautifulSoup\n",
    "from selenium import webdriver\n",
    "\n",
    "from pymongo import MongoClient\n",
    "from pymongo import TEXT"
   ]
  },
  {
   "cell_type": "code",
   "execution_count": 2,
   "id": "f14fcc2d-7275-4854-b548-212d104151f5",
   "metadata": {},
   "outputs": [],
   "source": [
    "# Creating a connection to MongoDB\n",
    "client = MongoClient('localhost', 27017)\n",
    "db = client['news']"
   ]
  },
  {
   "cell_type": "code",
   "execution_count": 3,
   "id": "ab83b08c-3f46-43aa-b395-53bda1dd8e9f",
   "metadata": {},
   "outputs": [],
   "source": [
    "# Url input\n",
    "SITE_URL = 'https://www.elespectador.com'"
   ]
  },
  {
   "cell_type": "code",
   "execution_count": 4,
   "id": "f4b9b0f2-68e5-49e2-b811-9d93fcabbc0a",
   "metadata": {},
   "outputs": [],
   "source": [
    "# Browser connection Geckodriver\n",
    "DRIVER_PATH = './geckodriver.exe'"
   ]
  },
  {
   "cell_type": "code",
   "execution_count": 5,
   "id": "747cf840-dfa7-453b-bef8-b51dc8f267bc",
   "metadata": {},
   "outputs": [
    {
     "name": "stderr",
     "output_type": "stream",
     "text": [
      "C:\\Users\\ALFRED~1\\AppData\\Local\\Temp/ipykernel_10324/4016513992.py:1: DeprecationWarning: executable_path has been deprecated, please pass in a Service object\n",
      "  browser = webdriver.Firefox(executable_path = DRIVER_PATH)\n"
     ]
    }
   ],
   "source": [
    "#Connection to the page\n",
    "browser = webdriver.Firefox(executable_path = DRIVER_PATH)"
   ]
  },
  {
   "cell_type": "code",
   "execution_count": 6,
   "id": "5ee7affd-0159-4491-b66f-18840bff99f5",
   "metadata": {},
   "outputs": [],
   "source": [
    "# Root or an absolute path\n",
    "def make_request(browser, relative_path):\n",
    "    # Making the request and rendering the browser.\n",
    "    browser.get(SITE_URL + relative_path)\n",
    "    \n",
    "    # Simulating vertical scrolling for handling lazy load.\n",
    "    check_height = browser.execute_script('return document.body.scrollHeight;')\n",
    "    while True:\n",
    "        browser.execute_script('window.scrollTo(0, document.body.scrollHeight);')\n",
    "        time.sleep(3)\n",
    "        height = browser.execute_script('return document.body.scrollHeight;')\n",
    "        if height == check_height: \n",
    "            break \n",
    "        check_height = height\n",
    "    \n",
    "    # Getting HTML content and passing it to BeautifulSoup for scraping analysis.\n",
    "    return BeautifulSoup(browser.page_source, 'html.parser')"
   ]
  },
  {
   "cell_type": "code",
   "execution_count": 7,
   "id": "c53923ea-a0ca-448e-af7e-7f29ae3f8900",
   "metadata": {},
   "outputs": [],
   "source": [
    "# Creating a connection to MongoDB and database \n",
    "client = MongoClient('localhost', 27017)\n",
    "db = client['news']\n",
    "collection = db['elespectador-politica']              "
   ]
  },
  {
   "cell_type": "code",
   "execution_count": 8,
   "id": "b1fcc0f9-8003-48d4-a36f-cb8fd63179cf",
   "metadata": {},
   "outputs": [],
   "source": [
    "# Getting HTML content for news listing page.\n",
    "news = []\n",
    "url = '/archivo/politica'\n",
    "\n",
    "for n in range(1, 2):\n",
    "    soup = make_request(browser, url + str(n))\n",
    "    # Finding the section where news are contained.\n",
    "    layout = soup.find(class_ = 'Layout-flexAds')\n",
    "    # Getting blocks from layout.\n",
    "    blocks = layout.find('section').find_all(recursive = False)\n",
    "    # Finding and concatenating news cards.\n",
    "    cards = blocks[0].find_all(class_ = 'Card') + blocks[1].find_all(class_ = 'Card')\n",
    "    # Building a list with title and relative path of the news founded.\n",
    "    for card in cards:\n",
    "        news.append({\n",
    "            'title': card.find('h2', class_ = 'Card-Title').find('a').get_text(),\n",
    "            'relative_path': card.find('h2', class_ = 'Card-Title').find('a')['href']\n",
    "        })"
   ]
  },
  {
   "cell_type": "code",
   "execution_count": 9,
   "id": "80f01f37-1b11-4206-aa40-c8304065c7a3",
   "metadata": {},
   "outputs": [],
   "source": [
    "# Addressing\n",
    "for n in news:\n",
    "    # Getting HTML content for news page.\n",
    "    soup = make_request(browser, n['relative_path'])\n",
    "    \n",
    "    # Extracting news metadata.\n",
    "    n['datetime'] = soup.find(class_ = 'ArticleHeader-Date').get_text()\n",
    "    n['author'] = soup.find(class_ = 'ACredit-Author').get_text()\n",
    "    n['summary'] = soup.find(class_ = 'ArticleHeader-Hook').find('div').get_text()\n",
    "    \n",
    "    # Extracting and concatenating news full text.\n",
    "    paragraphs = soup.find_all(class_ = 'font--secondary')\n",
    "    n['full_text'] = ' '.join([p.get_text() for p in paragraphs])"
   ]
  },
  {
   "cell_type": "code",
   "execution_count": 10,
   "id": "9a308c36-1596-4158-bacd-b68093147191",
   "metadata": {},
   "outputs": [
    {
     "data": {
      "text/plain": [
       "[{'title': 'Voto cristiano, ¿un pecado mortal?',\n",
       "  'relative_path': '/politica/elecciones-colombia-2022/voto-cristiano-un-pecado-mortal/',\n",
       "  'datetime': '6 abr 2022  - 9:27 p.\\xa0m.',\n",
       "  'author': 'Alfredo Serrano Zabala',\n",
       "  'summary': 'Las iglesias cristianas no tienen hoy un líder que los represente de verdad, pero su voto, en gran mayoría, va a ser en contra de Petro. Ese voto nadie lo tiene que guiar ni persuadir, llegará solo.',\n",
       "  'full_text': 'Colombia está cerca de definir cuál será la persona que regirá sus destinos en los próximos cuatro años. Hay incertidumbre si la designación se conocerá en la primera vuelta (programada para el 29 de mayo) o si será necesaria una segunda vuelta (el domingo 19 de junio). Según la reciente encuesta del Centro Nacional de Consultoría para la revista Semana (publicada el pasado 20 de marzo de 2022), en la intención de voto puntea el exalcalde de Bogotá Gustavo Petro, con un 32 % de favorabilidad, seguido por Federico Gutiérrez, con 23 %. Después, empatados, aparecen Rodolfo Hernández y Sergio Fajardo, los dos con un 10 %. En medio de un panorama político en creciente polarización, aguarda muy a la sombra el público elector de las multitudinarias iglesias cristianas, voto que puede ser determinante para inclinar la balanza a favor de uno de los candidatos. Se trata de una fuerza que ya demostró de lo que es capaz cuando con su sufragio por el “no” hizo trizas el plebiscito que buscaba refrendar el Acuerdo de Paz entre el gobierno de Juan Manuel Santos con las Farc, el 2 de octubre de 2016, resultado que asombró al mundo. Se engañan quienes piensan en el país que con el voto cristiano no pasa nada, y más con el reciente mal resultado de las elecciones al Congreso de la República, del 13 de marzo de 2022, en donde la fusión de los partidos MIRA y Colombia Justa Libres solo logró cuatro curules para el Senado, tres de ellas para el primero. Valga advertir que miles de cristianos no vieron con buenos ojos la alianza entre las dos colectividades por diferencias doctrinales, y por ello se alejaron de respaldar esa opción política avalada en Colombia Justa Libres por John Milton Rodríguez y el exdirector del Fondo Nacional del Ahorro Ricardo Arias, quienes terminaron enfrascados en serias disputas para dirimir quién de los dos sería el candidato a la Presidencia 2022. Así, mientras Colombia Justa Libres perdía dos curules al Senado y MIRA conservaba las tres que tenía, sus fieles presenciaban una nueva salida en falso de sus autodenominados “voceros”. Es bien sabido que los cristianos llegan a las iglesias en busca de todo, menos para resolver sus inclinaciones políticas. Entonces ven esa arena como algo secundario, a tal punto que militancias otrora tan disciplinadas y exitosas, como la de los esposos César Castellanos y Emma Claudia Rodríguez de Castellanos, líderes de la Iglesia Misión Carismática Internacional, ahora obtengan resultados negativos en las urnas. Su hija menor, Sara Castellanos, ungida para seguir el legado y aspirar al Senado en la lista del Partido Liberal, no lo logró de acuerdo con los resultados de los escrutinios. Y también fueron derrotados con la “quemada” a la Cámara de Clara Lucía Sandoval, otra oveja de su redil. Hay que decir igualmente que muchos fieles de la Misión Carismática Internacional, cuyo modelo de multiplicación ha sido adoptado por iglesias en el mundo y cristianos de otros templos, no han visto con agrado que al púlpito de esa congregación, donde se imparte la palabra de Dios, se haya permitido subir a políticos como los expresidentes Álvaro Uribe Vélez y Juan Manuel Santos, a Germán Vargas Lleras o excandidatos como Óscar Iván Zuluaga, entre otros. Eso sí, los pastores Castellanos se han movido al estilo Roy Barreras: del lado de Uribe Vélez, para donde Vargas Lleras, pasando a la orilla de Santos y ahora último cayendo en las huestes del expresidente César Gaviria, director del Partido Liberal. Lo cierto es que esa ambivalencia en términos de militancia política por parte de iglesias cristianas, tan representativas en Colombia como la Misión Carismática Internacional, Manantial de Vida, Bethesda y Avivamiento, así como liderazgos como el de la propia Viviane Morales, además del mal paso por el Senado del pastor Enrique Gómez y otros tantos, han desestimulado, fragmentado y confundido esa fuerza electoral entumecida que representan, en lo que se puede ver como un pecado más que venial. No hay que creer de manera ingenua que los votos cristianos son los que reflejan el número que ostentan el MIRA o Colombia Justa Libres. No, la participación cristiana tiene una capacidad de incidencia en Colombia que supera el millón y medio de votos, pero hoy esta comunidad, mucho más ilustrada que antes, está aburrida y hastiada de la corrupción que promulgan los políticos tradicionales. Ahora, si bien es cierto que los cristianos no vislumbran hoy a un líder que los represente de verdad, un creyente genuino alejado de las mañas y vicios de la clase política, también es cierto que su voto, en gran mayoría, va a ser en contra de Gustavo Petro en la primera vuelta y seguramente con más contundencia en la segunda. Ese voto nadie lo tiene que guiar ni persuadir, llegará solo. Como colofón, el pastor Darío Silva, de la iglesia Casa Sobre la Roca, envió el 27 de marzo, vía Whatsapp, el siguiente mensaje tipo advertencia: “Las contradicciones de los cristianos. Oran por la vida, pero votan por candidatos que están a favor del aborto; oran para que Dios libre a la Iglesia de la persecución en países comunistas, pero votan por candidatos comunistas; oran pidiendo a Dios por la expansión del evangelio, pero votan por candidatos que quieren cerrar iglesias; oran por la familia, pero votan por candidatos que defienden ideologías destructoras de la familia; oran por los hijos, pero en las elecciones votan por los candidatos que defienden a los pedófilos y la ideología de género; oran para que Dios libere a los jóvenes de las drogas, pero votan por candidatos que están a favor de legalizarlas (…) de nada sirve orar como cristiano, pero votar como pagano”. De ese calibre es el debate. * Escritor y periodista.'},\n",
       " {'title': '“No tengo prontuario criminal”: Francia Márquez responde a presidente de Congreso',\n",
       "  'relative_path': '/politica/elecciones-colombia-2022/no-tengo-prontuario-criminal-francia-marquez-responde-a-presidente-de-congreso/',\n",
       "  'datetime': '6 abr 2022  - 9:03 p.\\xa0m.',\n",
       "  'author': 'Redacción Política',\n",
       "  'summary': 'Juan Diego Gómez, presidente del Congreso, dijo que el Eln “acompañaba” a Márquez. “Las antiguas Farc y las disidencias celebran su campaña”, fue el mensaje con el que estigmatizó, sin fundamento, a la candidata.',\n",
       "  'full_text': 'Una sensación de agravio se coló en las instalaciones del Congreso. Aunque el Capitolio, casi siempre, hace las veces de una casa en la que está permitido pelear y decirse cosas subidas de tono, lo ocurrido este miércoles generó gran sobresalto porque las palabras dichas le hicieron eco a una noticia falsa. Se trata de la declaración de Juan Diego Gómez, presidente del Senado, sobre supuestos apoyos de grupos ilegales a Francia Márquez, fórmula vicepresidencial de Gustavo Petro.  Mientras se realizaba un debate sobre los errores de la Registraduría de Alexander Vega, en las elecciones del 13 de marzo, Gómez tomó la palabra para decir que a Márquez la apoyaba tanto el Eln, como las disidencias de las antiguas Farc.  “No me había atrevido a referirme a su partido, que acompaña el Eln activo de terrorismo a su vicepresidente y le celebran la designación de esta mujer. Las antiguas Farc y las disidencias celebran su campaña”, afirmó el político conservador proveniente de Antioquia.  (Lea: Piden espacio para Francia Márquez en Senado ante comentarios de Juan Diego Gómez) Si bien congresistas progresistas salieron en defensa de Márquez, como el senador Alexander López, del Polo, fue la propia candidata vicepresidencial quien dio la estocada final para enterrar una aseveración que la estigmatiza y que además la puede poner en más peligro, dado que en pocas semanas ya ha recibido tres amenazas de muerte. Señaló que escalará el tema a instancias legales.  “Cobardemente, hoy el presidente del Congreso me ponga la lápida encima y no solo a mí, sino a un pueblo, a una comunidad, a mí familia. Por tanto, nuestros abogados se encargarán de las demandas penales en contra del presidente del Congreso, que debería por ética respetar porque hace parte de una institución del Estado social de derecho”, dijo la candidata Francia Márquez.  Asimismo, le reprochó a Juan Diego Gómez no investigar antes de emitir información falsa: “Yo no tengo ningún prontuario criminal. Mi lucha ha sido la de la justicia social, por la paz, mi lucha ha sido la lucha de muchas mujeres por llevar un plato de comida a su casa para que sus hijos no se acuesten con hambre. Lo que le incomoda realmente al presidente del Congreso es que hoy una mujer, que podría ser la mujer que tiene en su casa trabajando como empleada del servicio, vaya a ser su vicepresidenta”, agregó. El tema resulta aún más grave porque, además de lo dicho por Márquez, el portal ColombiaCheck, dedicado a contrastar datos y su veracidad, publicó que el supuesto relacionamiento de Márquez con el Eln, por cuenta de un rostro negro que aparecía con un logo del grupo alzado en armas, es falso y no tiene fundamento.  “La foto de la guerrillera con la cara tapada también ha sido usada por el propio Eln en su portal para hablar de las mujeres en el grupo guerrillero, como se observa en esta nota ‘Sin mujeres no hay revolución’, publicada en 2018. Así que calificamos de falsas las publicaciones que usan una foto de una guerrillera para señalar a Francia Márquez como integrante del Eln. En un país en el que los líderes ambientales son amenazados y asesinados, los medios de comunicación han resaltado la historia de la precandidata del Polo Democrático y\\xa0ganadora en 2018 Premio Goldman\\xa0por su lucha contra los proyectos mineros y el narcotráfico en su territorio”, escribió el portal que El Espectador replicó (la puede encontrar haciendo clic acá).  >Lea más sobre las elecciones de 2022 y otras noticias del mundo político'},\n",
       " {'title': 'Fededepartamentos pide que próximo presidente cree impuesto al consumo de cannabis',\n",
       "  'relative_path': '/politica/elecciones-colombia-2022/fededepartamentos-pide-que-nuevo-presidente-cree-impuesto-al-consumo-de-cannabis/',\n",
       "  'datetime': '6 abr 2022  - 5:52 p.\\xa0m.',\n",
       "  'author': 'Redacción Política',\n",
       "  'summary': 'La idea hace parte del revolcón fiscal propuesto por los gobernadores para lograr mayores ingresos y hacer realidad la autonomía regional.',\n",
       "  'full_text': 'Un verdadero revolcón fiscal. Eso es lo que la Federación Nacional de Departamentos le pide al próximo presidente de Colombia. De hecho, la Fededepartamentos (o FND) ya le entregó a los candidatos presidenciales un paquete completo con sus propuestas para generar ingresos suficientes para que haya descentralización regional, un tema pendiente en el país.  (Lea: En primer debate, Cámara aprueba proyecto que busca el divorcio libre) Héctor Olimpo Espinosa, gobernador de Sucre y presidente del consejo directivo de la FND señaló que es fundamental tanto en el debate presidencial, como en la nueva agenda legislativa “la necesidad de fortalecer la autonomía de todas las regiones colombianas, por lo que, en materia de descentralización, proponemos un verdadero revolcón en materia fiscal”.  El paquete consta de 11 propuestas. Entre ellas, se destaca una que para el sector más conservador es polémica: la creación de un impuesto al consumo del cannabis. En síntesis, lo que dicen los gobernadores es que se debería adoptar un impuesto territorial al consumo de marihuana, o al menos un porcentaje de participación al tributo que potencialmente pueda recaudar el gobierno y que se vaya a las arcas regionales. En su propuesta, Fededepartamentos no hace distingo, por ejemplo, de uso medicinal o recreativo, por lo que se infiere que el ideal es que el impuesto se aplicara a ambos consumos (cosa que, por ahora, estaría en un enredo legal).  (Más: CNE ordena una auditoría internacional a softwares usados en elecciones) “El consumo de cannabis, ya sea de forma medicinal o por recreación, constituye una oportunidad para generar un nuevo ingreso tributario. Desde la experiencia internacional de Estados Unidos, desde el 2012 (año en el que se implementó el primer recaudo al impuesto en Washington DC), hasta diciembre de 2019, 12 jurisdicciones de aquel país han regulado esta sustancia para uso adulto y 33 han legalizado el cannabis con fines médicos (México Unido contra la delincuencia, sf). Particularmente, en el Estado de California, a 2020, había recaudado más de 1.000 millones de dólares por impuestos obtenidos de la venta y producción de esta sustancia desde su regulación en 2018, según el Departamento de Administración de Impuestos y Tarifas de California”, agregó la FND.  La organización pide modificar el impuesto al consumo, pues este significa más del 50 % de los ingresos tributarios de la mayoría de departamentos. Entonces, los gobernadores dicen que es necesario que el Congreso tramite un nuevo proyecto de ley para “modificar la tarifa del impuesto al consumo de licores, vinos, aperitivos y similares y la base gravable y el componente del impuesto al consumo de la cerveza”. No obstante, el documento no propone cuál debería ser el nuevo porcentaje sobre este impuesto.  (Conozca: Alfonso Prada es el nuevo jefe de debate de Gustavo Petro) Asimismo, plantean transformar el impuesto al vehículo, de modo que este sea de carácter exógeno, es decir, que dependa de causas particulares, y no se aplique de manera uniforme en todos los casos. Un modelo de recaudo eficiente acentúa la capacidad de financiamiento en el desarrollo estratégico territorial. Por esto las regiones proponen modificar el carácter exógeno del impuesto a vehículos para aumentar la eficiencia de su recaudo”, argumentaron.  Crear el impuesto al consumo de bebidas azucaradas y endulzadas con un porcentaje de cesión a los departamentos, y el impuesto al consumo a productos de tabaco calentado, cigarrillos electrónicos y sistemas similares con y sin nicotina, son dos propuestas que también sugieren los mandatarios regionales.  >Lea más sobre las elecciones de 2022 y otras noticias del mundo político'},\n",
       " {'title': 'En primer debate, Cámara aprueba proyecto que busca el divorcio libre',\n",
       "  'relative_path': '/politica/en-primer-debate-camara-aprueba-proyecto-que-busca-el-divorcio-libre/',\n",
       "  'datetime': '6 abr 2022  - 3:53 p.\\xa0m.',\n",
       "  'author': 'Redacción Política',\n",
       "  'summary': 'La Comisión Primera de la Cámara dio el sí a avanzar en las libertades de los colombianos, pero aún le falta a la iniciativa aprobar tres debates más para convertirse en ley.',\n",
       "  'full_text': 'Este miércoles, la Comisión Primera de la Cámara de Representantes aprobó en primer debate el proyecto de ley que busca mayor facilidad para que las parejas puedan divorciarse.  Conocido como “divorcio libre”, la iniciativa pretende garantizar este procedimiento para que quienes estén casados puedan ejercer su voluntad de la separación sin que el Estado se inmiscuya en su intimidad ni juzguen su comportamiento. Así lo explica Katherine Miranda, representante verde y autora de la propuesta.  (Lea: Piden espacio para Francia Márquez en Senado ante comentarios de Juan Diego Gómez) En ese sentido, el proyecto contempla que la voluntad de una de las partes sea suficiente para iniciar la separación, sin necesidad de acudir a otras razones, algo que no está incluido en el ordenamiento jurídico colombiano. De hecho, actualmente, existen nueve causales para que se dé el divorcio por vía legal, explicadas en el artículo 154 del Código Civil.  “Las relaciones sexuales extramatrimoniales de uno de los cónyuges; el grave e injustificado incumplimiento por parte de alguno de los cónyuges de los deberes que la ley les impone como tales y como padres; los ultrajes, el trato cruel y los maltratamientos de obra; la embriaguez habitual de uno de los cónyuges; el uso habitual de sustancias alucinógenas o estupefacientes, salvo prescripción médica; toda enfermedad o anormalidad grave e incurable, física o síquica, de uno de los cónyuges, que ponga en peligro la salud mental o física del otro cónyuge e imposibilite la comunidad matrimonial; toda conducta de uno de los cónyuges tendientes a corromper o pervertir al otro, a un descendiente, o a personas que estén a su cuidado y convivan bajo el mismo techo; la separación de cuerpos, judicial o de hecho, que haya perdurado por más de dos años; y el consentimiento de ambos cónyuges manifestado ante juez competente y reconocido por éste mediante sentencia”, son los nueve motivos para dar por terminado un matrimonio.  (Más: Alfonso Prada es el nuevo jefe de debate de Gustavo Petro) Es decir, lo que intenta la representante autora es que, de ser aprobado su proyecto, el proceso tenga más énfasis en las obligaciones que tendrá cada persona hacia adelante, “y no tanto en las causas que llevaron al divorcio, como ocurre hoy en día”. Atendiendo esa idea, la iniciativa también estipula que en las propuestas de divorcio se deberán incluir las obligaciones alimentarias entre los cónyuges, la liquidación de la sociedad conyugal, la contribución de los padres a crianza, educación y la obligación alimentaria de sus hijos e hijas, su custodia y cuidado, régimen de visitas y su periodicidad, entre otras.  Según Juan Fernando Reyes Kuri, representante liberal y ponente del proyecto, aprobar totalmente la propuesta facilitará la vida de las personas. “Con este proyecto, las parejas que quieran divorciarse, simplemente tendrán que ir donde un juez a decirle que ya no quieren seguir en esta relación, que se les acabó el amor. Por supuesto, deberán respetarse las obligaciones que se tengan con los hijos si los hubiera y con el otro cónyuge las obligaciones económicas y alimentarias. Este sería un avance para las libertades de los colombianos”, explicó.  Así las cosas, la iniciativa que busca el divorcio libre pasa a segundo debate. Si completa exitosamente cuatro debates, se convertirá en ley de la República. '},\n",
       " {'title': 'A través de una iniciativa popular legislativa buscarán eliminar la Procuraduría',\n",
       "  'relative_path': '/politica/a-traves-de-una-iniciativa-popular-legislativa-buscaran-eliminar-la-procuraduria/',\n",
       "  'datetime': '6 abr 2022  - 3:05 p.\\xa0m.',\n",
       "  'author': 'Redacción Política',\n",
       "  'summary': 'La Red de Auditores Ciudadanos de Colombia está pidiendo los formularios para recoger las firmas requeridas para presentar la iniciativa al Congreso. A su juicio, la Procuraduría en vez de luchar contra la corrupción, se ha convertido en una institución burocrática.',\n",
       "  'full_text': 'Desde enero de este año, la Red de Auditores de Colombia radicó ante el Consejo Nacional Electoral (CNE) y la Registraduría su intención de adelantar una iniciativa popular legislativa que plantea la eliminación de la institución de la Procuraduría, al considerar que el Ministerio Público no está cumpliendo con su labor y, por el contrario, ha dejado en impunidad muchos casos. La iniciativa nació tras años de trabajo como auditores de entidades públicas y luego de la noticia de que se archivarían 10.000 procesos disciplinarios en la Procuraduría por vencimiento de términos. Entre estos, casos como los de Reficar, Odebrecht, PAE, Ruta del Sol, entre otros. Sin embargo, con la Ley 2094 de 2021 dichos procesos seguirán en vigencia por dos años y medio más, evitando la prescripción de los mismos.  “Se roban la alimentación de los niños y la Procuraduría no hace nada. Se roban la salud y la Procuraduría no hace nada. A los casos les dejan vencer términos y a nadie castigan. Por eso creemos que a la entidad hay que suprimirla. ¿Cómo así que se están adjudicando contratos a un solo oferente? Un contrato con un solo licitante no debería de existir”, dijo Wilfredo Pardo, vocero de la Red de Auditores de Colombia. Para Pardo y la Red, el Estado debe volcarse a la prevención de la corrupción para evitar la comisión de faltas contra el erario y, para ello, dicen, hay herramientas como la Ley 1757 de 2015 que es el Estatuto de Participación Ciudadana. “No necesitamos Procuraduría, necesitamos que el control social participe semanalmente en las comisiones internas de cada entidad para revisar el funcionamiento fiscal de estas”, recalcó Pardo. Por ley, insiste, la ciudadanía tiene derecho a hacer veeduría y control a las instituciones. En casos en los que se incurra en una falta, explica el vocero, entraría a actuar la Fiscalía y la Contraloría, según corresponda. Además del incumplimiento de las funciones del Ministerio Público, Pardo considera que la Procuraduría se convirtió en un fortín burocrático que solo falla en contra de los enemigos políticos de la cabeza de la entidad. La iniciativa popular legislativa es un mecanismo de participación ciudadana que les permite a un grupo de personas presentar proyectos de ley ante el Congreso. Según Pardo, ya hicieron la solicitud de inscripción del comité promotor de la iniciativa, sin embargo, no han recibido respuesta o los formularios para comenzar a recolectar firmas. Por eso, esta semana volvieron a escribir a la Registraduría y el Consejo Nacional Electoral, pidiendo los formularios. Para adelantar este proceso, requieren recoger firmas correspondientes al 5 % del censo electoral. Una vez recolectadas las rúbricas, deben ser aprobadas por la Registraduría para luego remitir la iniciativa al Congreso y se inicie su discusión allí.'},\n",
       " {'title': 'CNE ordena una auditoría internacional a softwares usados en elecciones',\n",
       "  'relative_path': '/politica/elecciones-colombia-2022/cne-ordena-una-auditoria-internacional-a-softwares-usados-en-elecciones/',\n",
       "  'datetime': '6 abr 2022  - 12:57 p.\\xa0m.',\n",
       "  'author': 'Redacción Política',\n",
       "  'summary': 'El tribunal electoral exigió una revisión tanto de los programas usados para la organización del proceso electoral como el escrutinio.',\n",
       "  'full_text': 'El Consejo Nacional Electoral (CNE) expresó su preocupación al registrador nacional, Alexander Vega, ante las varias irregularidades que se presentaron durante las elecciones del 13 de marzo. No solo fue el tema de las diferencias entre preconteo y escrutinio, sino que también hubo fallas en los sistemas destinados a la inscripción de cédulas y de información al votante. >Lea más sobre las elecciones de 2022 y otras noticias del mundo político Además, desde antes del proceso electoral se ha cuestionado la idoneidad de los softwares a usar para el escrutinio. La principal razón es que su compra se hizo sobre el tiempo y no se pudo hacer la debida auditoría, que, según organizaciones especializadas en el tema, es un proceso que toma al menos seis meses. Además, una parte importante de estos softwares ya han presentado fallas y el encargado de la veeduría no se ha pronunciado sobre el tema. Ante este panorama, el CNE le ordenó a la Registraduría “una revisión profunda de los sistemas informáticos y procesos operativos que serán implementados para las elecciones presidenciales”. En este mismo sentido, el ente electoral le pidió a Alexander Vega que se haga una auditoría de carácter internacional “dirigida a los procesos y sistemas que durante las elecciones legislativas presentaron inconvenientes”. La razón es que estas fallas habrían afectado el derecho al voto de una buena parte de los colombianos. El CNE pidió que se revisen los sistemas informáticos y de seguridad de la aplicación Infovotantes, la inscripción de ciudadanos y los escrutinios a nivel departamental y nacional. Vale aclarar en este último punto que en las dos fases escrutadoras intervienen dos softwares completamente diferente: al nivel departamental se usa un programa contratado con Disproel, mientras que a nivel nacional se compró un software a la empresa Indra. Puede ver: Pedido generalizado de registrador ad hoc ante irregularidades del 13 de marzo Ambos softwares han sido cuestionados por la falta de transparencia en el tema. Esto debido a que no se pudo hacer las debidas auditorías externas. Y en el caso de Indra, los cuestionamientos son mayores en cuanto a que hasta hace poco se terminó la construcción de este, por lo que ni siquiera se conoce posibles fallas de este en pruebas reales. Las auditorías, según el CNE, se enfocarían en la revisión de todo el sistema informático, incluido el código fuente, la seguridad de estos y los procesos. “Esta revisión evaluará el grado de eficiencia, efectividad, los controles, la administración de los riesgos, examen crítico y sistemático de todo el software”, añadió el tribunal electoral. En una carta al registrador Vega, el Consejo Nacional Electoral hace especial énfasis en la revisión de usos y flujos de proceso del software para el escrutinio nacional, los sistemas para seguir este proceso a través de internet, la infraestructura, el soporte y la seguridad informática. También:\\xa0Los pecados de la Registraduría de Alexánder Vega Ante la orden, el Consejo Nacional Electoral cierra su comunicación con Vega señalando que debe esta asumir el costo de las auditorías y que, de no tener recursos disponibles, estos dineros deben ser gestionados ante el Ministerio de Hacienda.'}]"
      ]
     },
     "execution_count": 10,
     "metadata": {},
     "output_type": "execute_result"
    }
   ],
   "source": [
    "# Database\n",
    "news"
   ]
  },
  {
   "cell_type": "code",
   "execution_count": 11,
   "id": "10b5d919-17c3-4323-9686-9ff38ba3c615",
   "metadata": {},
   "outputs": [
    {
     "data": {
      "text/plain": [
       "<pymongo.results.InsertManyResult at 0x21369fc84f0>"
      ]
     },
     "execution_count": 11,
     "metadata": {},
     "output_type": "execute_result"
    }
   ],
   "source": [
    "# Storing extracted information for further analysis.\n",
    "collection.insert_many(news)"
   ]
  },
  {
   "cell_type": "code",
   "execution_count": 12,
   "id": "0d23d9c0-1d86-4eab-a3ca-ac49cf4e6d39",
   "metadata": {},
   "outputs": [],
   "source": [
    "# Creating a connection to MongoDB to create the environment module. \n",
    "client = MongoClient('localhost', 27017)\n",
    "db = client['news']\n",
    "collection = db['elespectador-judicial']"
   ]
  },
  {
   "cell_type": "code",
   "execution_count": 13,
   "id": "470d584b-f515-4b79-9de8-812f2758ec9c",
   "metadata": {},
   "outputs": [],
   "source": [
    "# Getting HTML content for news listing page.\n",
    "\n",
    "newsJudicial = []\n",
    "url = '/archivo/judicial'\n",
    "\n",
    "for n in range(1, 2):\n",
    "    soup = make_request(browser, url + str(n))\n",
    "    # Finding the section where news are contained.\n",
    "    layout = soup.find(class_ = 'Layout-flexAds')\n",
    "    # Getting blocks from layout.\n",
    "    blocks = layout.find('section').find_all(recursive = False)\n",
    "    # Finding and concatenating news cards.\n",
    "    cards = blocks[0].find_all(class_ = 'Card') + blocks[1].find_all(class_ = 'Card')\n",
    "    # Building a list with title and relative path of the news founded.\n",
    "    for card in cards:\n",
    "        newsJudicial.append({\n",
    "            'title': card.find('h2', class_ = 'Card-Title').find('a').get_text(),\n",
    "            'relative_path': card.find('h2', class_ = 'Card-Title').find('a')['href']\n",
    "        })"
   ]
  },
  {
   "cell_type": "code",
   "execution_count": 14,
   "id": "4f8a27ef-d753-4aee-bad4-2a602eee50c9",
   "metadata": {},
   "outputs": [],
   "source": [
    "# Addressing\n",
    "for n in newsJudicial:\n",
    "    # Getting HTML content for news page.\n",
    "    soup = make_request(browser, n['relative_path'])\n",
    "    \n",
    "    # Extracting news metadata.\n",
    "    n['datetime'] = soup.find(class_ = 'ArticleHeader-Date').get_text()\n",
    "    n['author'] = soup.find(class_ = 'ACredit-Author').get_text()\n",
    "    n['summary'] = soup.find(class_ = 'ArticleHeader-Hook').find('div').get_text()\n",
    "    \n",
    "    # Extracting and concatenating news full text.\n",
    "    paragraphs = soup.find_all(class_ = 'font--secondary')\n",
    "    n['full_text'] = ' '.join([p.get_text() for p in paragraphs])"
   ]
  },
  {
   "cell_type": "code",
   "execution_count": 15,
   "id": "2aeb60e5-7acf-4af8-a151-9fdfc2c4fef9",
   "metadata": {},
   "outputs": [
    {
     "data": {
      "text/plain": [
       "[{'title': 'Las víctimas de lesiones oculares del Esmad que tuvieron  que salir del país',\n",
       "  'relative_path': '/judicial/las-victimas-de-lesiones-oculares-del-esmad-que-tuvieron-que-salir-del-pais/',\n",
       "  'datetime': '6 abr 2022  - 9:00 p.\\xa0m.',\n",
       "  'author': 'José David Escobar',\n",
       "  'summary': 'Leidy Cadena y Sara Cárdenas perdieron un ojo, respectivamente, durante el paro nacional de 2021. En los últimos meses, recibieron amenazas y ataques, luego de denunciar los hechos ante las autoridades. Hoy se asilan en Europa y denuncian que hay pocos avances de la Fiscalía para determinar quiénes fueron sus agresores.',\n",
       "  'full_text': 'Reclamar justicia, ser hostigadas y amenazadas. Sentir terror, miedo a perder la vida. Luego vender todas sus pertenencias y salir corriendo del país para buscar asilo en otro. Llorar. Llorar mucho. Así se podrían resumir los últimos meses de Sara Cárdenas y Leidy Cadena, dos de las decenas de víctimas de lesiones oculares que dejó el Esmad durante el paro nacional de 2021, en contra de la reforma tributaria del gobierno Duque. El Espectador habló con ellas, quienes salieron de Colombia entre julio y noviembre de 2021 y cuentan los difíciles momentos que han vivido en el último tiempo para preservar sus vidas. Además, denuncian que han sido casi que nulos los avances de la Fiscalía para determinar quiénes fueron sus agresores. Lea: El caso que estudia la CIDH sobre un abogado al que el Esmad dejó sin un ojo'},\n",
       " {'title': 'Operación en Putumayo: Fuerzas Militares no responden si hay civiles muertos',\n",
       "  'relative_path': '/judicial/operacion-en-putumayo-fuerzas-militares-no-responden-si-hay-civiles-muertos/',\n",
       "  'datetime': '6 abr 2022  - 6:32 p.\\xa0m.',\n",
       "  'author': 'Redacción Judicial',\n",
       "  'summary': 'En rueda de prensa, el ministro Diego Molano metió las manos al fuego por el Ejército. Los comandantes de Fuerzas Militares, por su parte, dejarán que la Fiscalía anuncie si hubo civiles muertos. El ente investigador ya desmintió que la institución castrense reportara capturas.',\n",
       "  'full_text': 'El ministro de Defensa, Diego Molano, y los comandantes de las Fuerzas Militares dieron la cara tras la polémica desatada la semana pasada desde la vereda el Remanso, de Puerto Leguizamo (Putumayo). En esa región murieron 11 personas cuya identificación permanece en disputa, pues mientras la institucionalidad defiende que eran presuntos disidentes, la Defensoría del Pueblo y organizaciones indígenas denuncian que solo eran civiles. Tras la rueda de prensa quedó una gran conclusión: por ahora, las Fuerzas Militares no responderán si entre los muertos hay civiles. En contexto: Lo que se sabe del operativo en Putumayo en el que denuncian que murieron civiles'},\n",
       " {'title': 'JEP sí revisará condena del general (r) Uscátegui por masacre de Mapiripán',\n",
       "  'relative_path': '/judicial/jep-si-revisara-condena-del-general-r-uscategui-por-masacre-de-mapiripan/',\n",
       "  'datetime': '6 abr 2022  - 6:17 p.\\xa0m.',\n",
       "  'author': 'Redacción Judicial',\n",
       "  'summary': 'Tras varios años de batalla judicial, la Sección de Apelación le dio la razón a la defensa del general (r) Jaime Humberto Uscátegui condenado en 2014 por quedarse inmóvil mientras paramilitares cometían una masacre de cinco días en Mapiripán.',\n",
       "  'full_text': 'Tras una batalla judicial de varios años, la Jurisdicción Especial para la Paz aceptó revisar la sentencia en contra del general en retiro Jaime Humberto Uscátegui por su rol en la masacre de Mapiripán. Tras convertirse en el primer alto oficial del Ejército en obtener su libertad por vía del Acuerdo de Paz, Uscátegui agotó todos los recursos a su disposición para que la justicia transicional estudiara nuevamente el expediente que en la justicia ordinaria lo halló responsable de esta matanza, perpetrada por paramilitares en julio de 1997 en el Meta. (En contexto: Por segunda vez, la JEP le dice al general (r) Uscátegui que no revisará su sentencia)'},\n",
       " {'title': 'El Espectador le explica en qué va la denuncia de la fiscal Angélica Monsalve',\n",
       "  'relative_path': '/judicial/el-espectador-le-explica-en-que-va-la-denuncia-de-la-fiscal-angelica-monsalve-y-el-caso-de-la-familia-rios/',\n",
       "  'datetime': '6 abr 2022  - 4:09 p.\\xa0m.',\n",
       "  'author': 'Edwin Bohorquez Aya',\n",
       "  'summary': 'Y todo lo relacionado con su traslado a Putumayo, el caso de la familia Ríos y los cuestionamientos en contra de Néstor H. Martínez.',\n",
       "  'full_text': 'Una imputación de cargos en contra de tres hombres, dos de ellos empresarios y uno exconcejal de Bogotá, desencadenó toda una pesadilla para Angélica Monsalve, la fiscal que investiga el caso en el cumplimiento de su trabajo, de su deber. Pero es que no se trata de una investigación cualquiera, aquí está en la mitad la indagación por la “adjudicación de un millonario contrato de recaudo de Transmilenio a una empresa, al parecer, controlada por los tíos del exconcejal Felipe Ríos”; también se habla de presuntas irregularidades como las presiones en contra de la fiscal que ya lleva dos años al frente de la indagación y de cómo nombres como el del exfiscal general de la nación, Néstor Humberto Martínez, aparecen salpicados en medio de esta telaraña judicial que incluso ya reveló audios de conversaciones donde otras personas con alta influencia en Colombia estarían tratando de frenar la imputación. Para sumar, a la fiscal Angélica Monsalve la trasladarían a Putumayo, en lo que ella misma considera “un acto indignante”, pese a que siempre ha vivido y tiene su familia en Bogotá. Una situación muy delicada pues el 4 de abril se conoció información sobre una alerta de la Dijín de la Policía que hablaba de una amenaza en contra de la funcionaría. Así que el boletín de hoy, después de recibir todas las publicaciones que la redacción Judicial ha escrito, explica qué es lo que está pasando en este el caso de la fiscal, los tres investigados y los cuestionamientos en contra de Néstor Humberto Martínez. Recuerden entrar a cada uno de los links que dejaremos para poder entender, en detalle, los pormenores de la historia. Comencemos. El pasado 28 de marzo el caso trascendió a la escena pública: “Tras dos años al frente de la investigación, la fiscal Monsalve pidió una audiencia para imputar a los empresarios Carlos y Javier Ríos Velilla, y al sobrino de éstos, Felipe Ríos Londoño, exconcejal. Según denunció la funcionaria en Noticias Caracol, esto llevó a que fuera trasladada a otro departamento”, nos decían los colegas de la redacción Judicial. “No sé si sea corrupción, pero es un acto indignante trasladar a un funcionario, que ha dado resultados, para una ciudad, un departamento que es público y notorio que es caliente. ¿A qué juega la Fiscalía? ¿Qué pretende la Fiscalía? Ya mi vida o mi seguridad están en riesgo con los casos que yo manejo”, dijo Monsalve durante la entrevista televisiva.'},\n",
       " {'title': '“Otoniel”: Corte Suprema de Justicia avala su extradición a Estados Unidos',\n",
       "  'relative_path': '/judicial/otoniel-corte-suprema-de-justicia-avala-su-extradicion-a-estados-unidos/',\n",
       "  'datetime': '6 abr 2022  - 3:44 p.\\xa0m.',\n",
       "  'author': 'Redacción Judicial',\n",
       "  'summary': 'La Sala Penal de la alta corte dio luz verde a la extradición de Dairo Antonio Úsuga, alias Otoniel, quien es requerido por la Corte del Distrito Sur de Nueva York para que responda por cargos de narcotráfico. Había pedido frenar su traslado a la JEP y hasta ser gestor de paz como reparación.',\n",
       "  'full_text': 'La Corte Suprema de Justicia avaló la extradición a Estados Unidos de Dairo Antonio Úsuga, alias Otoniel y máximo líder del Clan del Golfo. Así lo decidió la Sala Penal de la alta corte, tras revisar el requerimiento de la Corte del Distrito Sur de Nueva York, la cual busca procesar por delitos relacionados con narcotráfico al jefe criminal, tras una investigación de las autoridades norteamericanas que data de 2009. En contexto: Quién es “Otoniel” y por qué es importante su captura Contra Otoniel existen tres indictments (escritos de acusación), desde junio de 2009. Uno de ellos por parte de la Corte de Nueva York. En ella, se lo relaciona como el líder de una agrupación ilegal que envió cocaína a Estados Unidos. Una vez Otoniel fue capturado, el 23 de octubre pasado, la Fiscalía emitió una nueva orden, esta vez con fines de extradición. Tanto el Ministerio de Relaciones Exteriores como el Ministerio de Justicia ya habían dado su visto bueno, por lo cual solo restaba que la Corte Suprema de Justicia entregara su decisión final. La investigación norteamericana, según la Corte Suprema, considera que desde 2002 hasta 2021, alias Otoniel envío toneladas de cocaína a México y otros países de Centroamericana, para llegar al mercado de Estados Unidos. Para ello, se habría apoyado con socios en Colombia, Venezuela, Ecuador, Guatemala, Panamá, Honduras, Costa Rica, Nicaragua y México. En nuestro país, acusa la Corte de Nueva York, “empleaba ‘sicarios’ o asesinos a sueldo, quienes llevaban a cabo diversos actos de violencia, como asesinatos, agresiones, secuestros y atentados”. Alias Otoniel hizo todo lo posible por quedarse en Colombia. No solo estuvo entregado su verdad del conflicto a la Comisión de la Verdad y la Jurisdicción Especial para la Paz (JEP), sino también pidió a la justicia transicional frenar su extradición. Pidió obtener esa garantía, pues aseguró haber sido un tercero financiador y auspiciador de las Farc, cuando recién el pulpo criminal del Clan del Golfo se conocía como Los Urabeños (2009-2014). Testimonio: Alias “Otoniel” sí habló en la JEP y esto fue lo que dijo No obstante, el pasado 25 de marzo la Sala de Definición de Situaciones Jurídicas de la JEP rechazó el sometimiento de Úsuga, pues consideró que no aportó las pruebas suficientes que lo acreditaran como un tercero colaborador. La decisión fue comunicada a la Sección de Ausencia de Reconocimiento y la Sala de Reconocimiento de la JEP, en las cuales, respectivamente, había revelado su participación en el conflicto armado en el Urabá y también en los falsos positivos que apuntan al Ejército. Entre sus estrategias para radicarse en Colombia, el capturado Otoniel intentó ser declarado gestor de paz en la JEP. En dos documentos conocidos por El Espectador, prometió desde su sitio de reclusión lograr el fin de la violencia en las zonas donde actúan las Agc o el Clan del Golfo, que según la JEP tiene presencia en más de 200 municipios en Colombia. Desde prisión, aseguró Otoniel, podría invitar a sus subalternos y al Estado Mayor del Clan a abandonar el uso de la violencia contra la población civil y las fuerzas armadas. Sin embargo, su intención se cayó una vez fue negado su sometimiento. La Corte Suprema redactó un capítulo especial a favor de las víctimas en el reciente fallo. Los magistrados le pidieron al gobierno de Iván Duque, de manera imprescindible, que exija al gobierno de Estados Unidos que facilite el contacto con Dairo Antonio Úsuga. La Sala Penal, sin entregar detalles sobre los métodos, solicitó que las autoridades judiciales nacionales tengan garantizado un enlace con Otoniel a través del uso de las tecnologías de la información y la comunicación. Las víctimas deben ser el centro de la estrategia. Le puede interesar: Abren incidente de desacato contra director de la Dijín por audiencias de Otoniel “La Sala no desconoce el derecho que tienen las víctimas de los múltiples delitos cometidos por Dairo Antonio Úsuga en el territorio nacional a conocer la verdad, a que se haga justicia y a ser reparados de manera efectiva. Sin embargo, la Corte no puede dejar de considerar la actitud renuente, contumaz y de desprecio absoluto que, en el pasado, ha asumido el requerido frente a las víctimas y el sistema de justicia nacional”, explicó la Corte Suprema. Úsuga fue capturado el 23 de octubre del año pasado en la vereda Pítica de Turbo, Antioquia. Una sonrisa lo acompañó en las fotos oficiales de la Policía Nacional. Luego, en la antesala de la Navidad, Otoniel habló en la JEP y aseguró que nunca fue aprehendido por las autoridades, pues él mismo se habría entregado con las manos en alto para que no lo mataran. En esa primera sesión, además dio a conocer su plena intención de quedarse en Colombia para llevar al Clan del Golfo a un proceso de paz. Le puede interesar: “Otoniel” quiere ser gestor de paz como una forma de reparar a las víctimas Durante cinco horas, el 21 de diciembre de 2021, Otoniel entregó detalles inéditos sobre su carrera criminal. Aseguró haber sido guerrillero de las Farc y luego del Ejército Popular de Liberación (Epl) en el Urabá. Se desmovilizó, en 1991, para luego engrosar las filas de la Casa Castaño y las Autodefensas Unidas de Córdoba y Urabá. “Ahí fue donde empezó a crecer los Castaño porque la gente del Epl tenía mucha experiencia”, dijo. Luego, de nuevo se desmovilizó, pero utilizó la región chocoana y antioqueña para conformar Los Urabeños, grupo armado que ha mutado hasta llegar a ser el Clan del Golfo o las Agc, como marcan los grafitis de los municipios cercanos. Para seducir a la JEP, Otoniel presentó un informe con datos que dejan mal parado al Ejército. Según conoció este diario, la desmovilización del Epl en el Urabá habría sido un plan concertado por la Cuarta Brigada para que los guerrilleros terminaran en las filas de las Auc. Salpicó al teniente coronel (r) Jesús María Clavijo, señalado en antecedentes por masacres, falsos positivos y escuadrones de la muerte. Otoniel, incluso, mencionó que militares gestionaron la desmovilización en la finca Cedro Cocido, en Montería, propiedad de Fidel Castaño. Lea también: Robaron grabadoras con material de entrevista a “Otoniel”: Comisión de la Verdad Además, el líder del Clan del Golfo relacionó a los generales (r) Henry Torres Escalante y Leonardo Barrero Gordillo con acciones criminales en Meta y Casanare, entre 2005 y 2007. Como comandantes de la Brigada XVI, en la voz de Otoniel, habrían permitido e impulsado masacres, desapariciones y ejecuciones extrajudiciales. Para ello, presuntamente contaron con la complicidad de Orlando Rivas Tovar, quien era director del DAS en el Casanare. Hurto, terrorismo, homicidios, extorsiones y desplazamientos, sería la articulación alertada por el extraditable. En un capitulo aparte, Otoniel se comprometió a testificar sobre civiles, políticos, ganaderos y empresarios que habrían participado de la guerra en Urabá, entre 2006 y 2008. Aseguró tener información actos violentos armados en contra de líderes sociales, reclamantes de tierras y defensores de derechos humanos que se opusieran al despojo de tierras por parte de grandes empresas ganaderas y palmeras. “Esa práctica contó con el apoyo de dirigentes políticos regionales de Casanare y Urabá, aliados del entonces presidente Uribe, así como de alcaldes, diputados y congresistas de partidos pertenecientes a la coalición de gobierno”, redactó. Antecedentes: Duque alega que “Otoniel” busca evadir extradición con JEP o acciones judiciales Para conocer más sobre justicia, seguridad y derechos humanos, visite la sección Judicial de El Espectador.'},\n",
       " {'title': 'El Consejo de Estado pide pruebas para evaluar destitución del registrador Vega',\n",
       "  'relative_path': '/judicial/el-consejo-de-estado-ya-pide-pruebas-para-evaluar-destitucion-del-registrador-vega/',\n",
       "  'datetime': '6 abr 2022  - 3:11 p.\\xa0m.',\n",
       "  'author': 'Redacción Judicial',\n",
       "  'summary': 'Estos son los detalles del expediente judicial que cursa en contra de Alexander Vega, quien no solo tiene en contra un debate de control político, sino un par de demandas de nulidad.',\n",
       "  'full_text': 'El registrador nacional Alexander Vega aún no se repone de los golpes continuos que ha tenido desde que se registraron las elecciones al Congreso. Este martes estaba citado a un debate de control político, pero no dio la cara y eso llevó a que varios parlamentarios pidieran que se apartara de su cargo. Y por si fuese poco, el Consejo de Estado desempolvó el proceso que reposa en el despacho del magistrado Luis Alberto Álvarez, quien decretó una serie de pruebas en el expediente que busca que el funcionario abandone su cargo. En contexto: Habrá audiencia sobre demanda que pide tumbar al registrador Alexander Vega Son dos demandas de nulidad a su elección que llegaron al alto tribunal en 2019. Los documentos exponen una serie de irregularidades respecto de lo que fueron las entrevistas que presentaron los aspirantes a ese cargo. Desde poner en duda la experiencia de Vega por encima de otros candidatos, hasta los lineamientos que se siguieron para recolectar esos testimonios, es lo que reposa en los recursos que salieron a la luz este miércoles en el marco de una audiencia de práctica de pruebas. Aunque es costumbre que los aspirantes al cargo de registrador asistan al Palacio de Justicia para presentar su folio profesional y resolver una serie de preguntas que hacen los presidentes de las altas cortes, en esa ocasión las diligencias se llevaron a cabo en el Centro de Oficiales de la Policía (CESPO). La razón de esto obedeció a que ese día se adelantaban una serie de protestas que podían afectar la movilidad no solo de los aspirantes y los magistrados, sino que podían ser interrumpidas por el ruido que generaban. Lea también: Las vueltas de un expediente olvidado contra el registrador Alexander Vega Si bien esa fue una salida que concertaron los expresidentes de los altos tribunales, los demandantes pusieron en tela de juicio esas decisiones. Aseguraron que las entrevistas se hicieron a puerta cerrada, a su juicio, sin público y no fueron expuestas con un link de internet como garantía de publicidad y transparencia. Con esos argumentos en juego, el magistrado Álvarez decretó pruebas de oficio que van desde citar a los expresidentes de las altas cortes de la época, hasta solicitar a la oficina de prensa de la Corte Constitucional el link en el que se colgaron las entrevistas. El magistrado Álvarez fijó para el próximo 4 de mayo una diligencia en la que se escuchará a la magistrada de la Corte Constitucional, Gloria Ortiz, el magistrado Álvaro García y la exmagistrada Lucy Jeaneth Bermúdez. Todos para la época fueron presidentes de las corporaciones y tuvieron en sus manos decidir la forma en la que se adelantarían tales diligencias. Entre otras pruebas que decretó el consejero está solicitar la declaración de Juan Enrique Bedoya, quien fue secretario ad hoc del encuentro. Le puede interesar: Irregularidades en elecciones: piden que se estudie nombrar un registrador ad hoc Bedoya debe entregar al despacho las horas en las que realizaron las entrevistas, el listado de quienes estuvieron en ellas y si se llevaron a cabo de manera pública o reservada. Del mismo modo, en cinco días, la oficina de prensa de la Corte Constitucional deberá remitir al despacho el link o dirección que se acreditó para acceder a las entrevistas. Para conocer más sobre justicia, seguridad y derechos humanos, visite la sección Judicial de El Espectador.'}]"
      ]
     },
     "execution_count": 15,
     "metadata": {},
     "output_type": "execute_result"
    }
   ],
   "source": [
    "# New database\n",
    "newsJudicial"
   ]
  },
  {
   "cell_type": "code",
   "execution_count": 16,
   "id": "69d1bf84-1e39-434e-9299-3688434acbd4",
   "metadata": {},
   "outputs": [
    {
     "data": {
      "text/plain": [
       "<pymongo.results.InsertManyResult at 0x21369fcafd0>"
      ]
     },
     "execution_count": 16,
     "metadata": {},
     "output_type": "execute_result"
    }
   ],
   "source": [
    "# Storing extracted information for further analysis.\n",
    "collection.insert_many(newsJudicial)"
   ]
  },
  {
   "cell_type": "code",
   "execution_count": 17,
   "id": "9d2b62cf-6e26-4553-8f9a-9c6b8ea7019b",
   "metadata": {},
   "outputs": [],
   "source": [
    "# Creating a connection to MongoDB to create the science module. \n",
    "client = MongoClient('localhost', 27017)\n",
    "db = client['news']\n",
    "collection = db['elespectador-economia']"
   ]
  },
  {
   "cell_type": "code",
   "execution_count": 18,
   "id": "0b0169a8-f4ef-479b-bda0-e8ba72e270c3",
   "metadata": {},
   "outputs": [],
   "source": [
    "# Getting HTML content for news listing page.\n",
    "\n",
    "newsEconomia = []\n",
    "url = '/archivo/economia'\n",
    "\n",
    "for n in range(1, 2):\n",
    "    soup = make_request(browser, url + str(n))\n",
    "    # Finding the section where news are contained.\n",
    "    layout = soup.find(class_ = 'Layout-flexAds')\n",
    "    # Getting blocks from layout.\n",
    "    blocks = layout.find('section').find_all(recursive = False)\n",
    "    # Finding and concatenating news cards.\n",
    "    cards = blocks[0].find_all(class_ = 'Card') + blocks[1].find_all(class_ = 'Card')\n",
    "    # Building a list with title and relative path of the news founded.\n",
    "    for card in cards:\n",
    "        newsEconomia.append({\n",
    "            'title': card.find('h2', class_ = 'Card-Title').find('a').get_text(),\n",
    "            'relative_path': card.find('h2', class_ = 'Card-Title').find('a')['href']\n",
    "        })"
   ]
  },
  {
   "cell_type": "code",
   "execution_count": 19,
   "id": "a49868ec-6107-40b5-93b4-3e26abf6ee6a",
   "metadata": {},
   "outputs": [],
   "source": [
    "# Addressing\n",
    "for n in newsEconomia:\n",
    "    # Getting HTML content for news page.\n",
    "    soup = make_request(browser, n['relative_path'])\n",
    "    \n",
    "    # Extracting news metadata.\n",
    "    n['datetime'] = soup.find(class_ = 'ArticleHeader-Date').get_text()\n",
    "    n['author'] = soup.find(class_ = 'ACredit-Author').get_text()\n",
    "    n['summary'] = soup.find(class_ = 'ArticleHeader-Hook').find('div').get_text()\n",
    "    \n",
    "    # Extracting and concatenating news full text.\n",
    "    paragraphs = soup.find_all(class_ = 'font--secondary')\n",
    "    n['full_text'] = ' '.join([p.get_text() for p in paragraphs])"
   ]
  },
  {
   "cell_type": "code",
   "execution_count": 20,
   "id": "1749416d-9151-43ae-9350-02274ea5b31a",
   "metadata": {},
   "outputs": [
    {
     "data": {
      "text/plain": [
       "[{'title': '¿Es hora de comprar dólares?',\n",
       "  'relative_path': '/economia/finanzas-personales/es-hora-de-comprar-dolares/',\n",
       "  'datetime': '6 abr 2022  - 9:00 p.\\xa0m.',\n",
       "  'author': 'Camilo Vega Barbosa',\n",
       "  'summary': 'Los colombianos han gozado varias semanas de dólar a la baja, pero analistas advierten que el dólar barato no duraría mucho. Vea las causas y oportunidades de este fenómeno.',\n",
       "  'full_text': 'El peso está fuerte respecto al dólar. Si bien no estamos en los niveles de 2014 (cuando un dólar valía $2.000), la tasa de cambio ha venido cayendo de forma significativa hasta rozar los $3.700 en los últimos días. Un claro contraste frente a los casi $4.100 que se registraba en enero pasado. Estos períodos en los que la moneda local se aprecia no han sido frecuentes en los últimos ocho años, por lo que no todos los colombianos saben reaccionar al dólar barato y ver sus implicaciones y oportunidades. Entre ellas las opciones de inversión. También te puede interesar: ¿Las pensiones lo confunden? Le explicamos cómo funciona el sistema en Colombia'},\n",
       " {'title': 'Petroleros de países sancionados se acumulan en puertos de  China por virus',\n",
       "  'relative_path': '/economia/petroleros-de-paises-sancionados-se-acumulan-en-puertos-de-china-por-virus/',\n",
       "  'datetime': '6 abr 2022  - 7:16 p.\\xa0m.',\n",
       "  'author': 'Agencia Bloomberg',\n",
       "  'summary': 'En los últimos años, China ha sido uno de los únicos compradores del petróleo de Irán y Venezuela, ambos sujetos a sanciones.',\n",
       "  'full_text': 'Buques petroleros que transportan 22 millones de barriles de petróleo ruso, iraní y venezolano se están acumulando frente a China, según Kpler, mientras el país combate un brote de virus que está perjudicando la demanda y causando problemas logísticos. En los últimos años, China ha sido uno de los\\xa0únicos compradores\\xa0del petróleo de Irán y Venezuela, ambos sujetos a sanciones. El mayor importador de crudo del mundo también sigue\\xa0recibiendo suministros rusos\\xa0que, en gran medida, son rechazados desde la invasión a Ucrania. Le puede interesar: El gas con mejor futuro frente al carbón ante eventuales sanciones de la UE El comercio del petróleo con descuento ahora se está viendo interrumpido por el empeoramiento del\\xa0brote de virus\\xa0en el país, con un incremento de los tiempos de espera para descargar los barcos. Kpler estima que la demanda diaria de petróleo se contraerá en al menos 450.000 barriles en abril, principalmente debido a la disminución del consumo de gasolina y combustible para aviones, según Jane Xie, analista sénior de petróleo de la firma de datos y análisis en Singapur. “Los actuales cierres en China definitivamente están teniendo un enorme impacto en la movilidad del país y la consiguiente demanda de petróleo”, dijo. “También hay cuellos de botella logísticos”. El actual atolladero se compara con los cerca de 10 millones de barriles de petróleo de Rusia, Irán y Venezuela que se encontraban frente a las costas chinas a principios de año, según Kpler. La aparente demanda de petróleo de China promedió alrededor de 13,7 millones de barriles por día en enero y febrero antes del brote actual del virus, según muestran cálculos de Bloomberg basados en datos oficiales. El tiempo promedio de espera de los barcos en los puertos chinos ha aumentado a 5,85 días ahora frente a los 4,46 días de la semana que comenzó el 28 de marzo, indicó. Para los buques Suezmax, que pueden transportar hasta 1 millón de barriles de crudo, los tiempos se han elevado de 4,46 días la semana pasada a 15 días ahora. Otra empresa de análisis, Vortexa Ltd., indicó que hay alrededor de 16 millones de barriles de crudo iraní y venezolano en buques petroleros esperando frente a China. Para más información: Análisis: Invasión de Ucrania, terapia de shock para los neoliberales Sin embargo, hay 10 embarcaciones de tamaño Aframax —que pueden transportar alrededor de 100.000 toneladas de petróleo cada una— provenientes del extremo oriente de Rusia que muestran a China como su destino en la primera quincena de este mes, según Emma Li, analista de Vortexa. Estos cargamentos probablemente iban a comprarse antes de la invasión a Ucrania, sostuvo. 💰📈💱 ¿Ya te enteraste de las últimas noticias económicas? Te invitamos a verlas en El Espectador.'},\n",
       " {'title': 'Ya quedaron elegidas las 10 startups del programa de aceleración Tech for Good ',\n",
       "  'relative_path': '/economia/emprendimiento-y-liderazgo/ya-quedaron-elegidas-las-10-startups-del-programa-de-aceleracion-tech-for-good/',\n",
       "  'datetime': '6 abr 2022  - 6:43 p.\\xa0m.',\n",
       "  'author': 'Redacción Emprendimiento y liderazgo',\n",
       "  'summary': 'Aplicaron más de 407 startups de Latinoamérica y la idea es apoyarlas en el crecimiento los modelos de negocio para que generen un impacto positivo en la sociedad.',\n",
       "  'full_text': 'Afrus, Planet Oliver, Sensegrass, Educación Estrella, Sosty, Celuventas, Palatierra, Amazóniko, Smart Seals y Qentaz fueron las 10 startups elegidas por Rockstart y la Fundación Bolívar Davivienda en su programa Tech for Good. Todas ellas, durante cuatro meses, “podrán crecer su modelo de negocio, prepararse para levantar capital y crear conexiones con mentores, inversionistas y corporativos”, informaron los organizadores en un comunicado de prensa.  Además vivirán una experiencia de aceleración y mentoría en otros frentes como la iteración de sus productos y servicios, ejercicios de transferencia de conocimientos y tener la posibilidad recibir aporte a capital. “Este respaldo económico podría provenir de diferentes compañías que, a través de sinergias, alianzas y rondas de capital, podrían encontrar en estas soluciones oportunidades de crecimiento exponencial compartidas con los emprendedores”, describía el documento.  Aunque al lanzamiento de la convocatoria, en febrero de 2022, aplicaron más de 407 startups de Latinoamérica, ganaron las que cuentan con los “modelos de negocio más disruptivos de la región” y también las que a consideración de los jurados generan un mayor “impacto positivo en la sociedad”. El mayor porcentaje de aplicaciones llegó de startups de Colombia, Argentina, México, Perú y Chile. Felipe Santamaría, director general de Rockstart Latam, recordó que “en tres meses que lleva el año ya hemos ejecutado 2 programas de aceleración de impacto equity free, en el que startups con soluciones tecnológicas logran resolver grandes problemas sociales y ambientales. Nuestros programas de aceleración permiten que las startups crezcan 2 veces más en solo 4 a 5 meses de lo que crecerían normalmente en 1 año. Nuestras apuestas siguen siendo muy grandes creyendo y apoyando cada vez más en los emprendedores de la región y ahora a más emprendedores de impacto”.  ¿A qué se dedican las startups ganadoras?  Afrus es catalogada como un “fundraising cloud y una social fintech”. Planet Oliver es una empresa que lucha contra el desperdicio de alimentos a través de una aplicación para vender, a precios de descuento, los alimentos en perfecto estado. Sensegrass trabaja en la gestión en suelo del uso de fertilizantes y agua en tiempo real utilizando una plataforma SaaS de IoT + IA, con hardware adicional de sensores patentados NPK. Educación Estrella ofrece acceso a educación superior de alta calidad en Latinoamérica. Sosty es una plataforma digital para invertir en ganadería sostenible. Celuventas democratiza dispositivos electrónicos de forma sostenible. Palatierra integra a quienes trabajan en el campo en una plataforma que facilita la gestión y los negocios.  Amazóniko es una plataforma de reciclaje colaborativo que conecta, capacita e incentiva la cadena para potenciar la transformación de los residuos, formar consumidores conscientes y dignificar la labor de los recicladores de oficio. Smart Seals es especialistas en calidad de servicio y pérdidas energéticas para las ‘utilities’ con soluciones tecnológicas. Qentaz  es una herramienta para la gestión de los micronegocios a través de WhatsApp. Si está buscando más historias de emprendimientos, sus creadores y creadoras están aquí,\\xa0en Emprendimiento y liderazgo\\xa0de\\xa0El Espectador.'},\n",
       " {'title': 'El potencial minero colombiano, un aporte a la transición energética',\n",
       "  'relative_path': '/economia/el-potencial-minero-colombiano-un-aporte-a-la-transicion-energetica/',\n",
       "  'datetime': '6 abr 2022  - 6:25 p.\\xa0m.',\n",
       "  'author': 'Redacción Economía',\n",
       "  'summary': 'El presidente de la Agencia Nacional Minera, Juan Miguel Durán, sostuvo que se busca impulsar la producción de cobre, níquel, zinc y molibdeno.',\n",
       "  'full_text': 'Los minerales como el cobre son necesarios para la transición hacia las energías alternativas, en los que Colombia posee áreas con gran potencial y proyectos en desarrollo, dijo el presidente de la Agencia Nacional de Minería (ANM) Juan Miguel Durán. El anuncio fue hecho por el funcionario en el encuentro Latinoamericano de Minería ELAMI 2022, donde presentó el potencial minero que tiene Colombia, las acciones adelantadas por la entidad para fortalecer el sector y las oportunidades que tiene la minería y su aporte en la transición energética. Para más información: El gas con mejor futuro frente al carbón ante eventuales sanciones de la UE “Las tecnologías de energía limpia requieren una amplia gama de minerales y metales”, dijo Durán. La apuesta de los países en proyectos de energías renovables es una oportunidad que Colombia puede aprovechar a partir de su potencial mineral, especialmente en lo relacionado con la producción de polimetálicos en los que se destacan los metales base cobre, níquel, zinc y molibdeno, sostuvo el funcionario. En las actividades exploratorias que vienen desarrollando diferentes compañías mineras en el país se ha confirmado el potencial en estos minerales. El presidente de la ANM señaló que, desde la institución se impulsan iniciativas que se alinean con las políticas de transición energética y con las propuestas para gestionar en los próximos años los importantes recursos con que cuenta Colombia en materia de carbón. “En Expo Dubái 2020 lanzamos la Estrategia de Carbón Neutro, una iniciativa que consiste en generar valor agregado al carbón colombiano, adicionando un porcentaje de compensación por las emisiones de gases de efecto invernadero causadas en el momento de la combustión en los países compradores”, señaló Durán. El objetivo de la estrategia con este mineral es fortalecer la competitividad del carbón y maximizar los ingresos, ampliando el horizonte de demanda, dentro de un escenario compatible con las metas de desarrollo sustentable y responsabilidad social empresarial, además de fomentar el desarrollo de proyectos forestales, reseñó el funcionario. Colombia es el primer exportador en Latinoamérica de carbón y esmeraldas, el cuarto en oro y ferroníquel y el sexto en cobre, además, es el cuarto destino para el turismo de negocios, recordó Durán. Destacó que el sector minero es de gran importancia para el país y las regiones, y que en 2021 las exportaciones mineras representaron 24% del total de las exportaciones colombianas, además de atraer cerca del 11% de la inversión extranjera directa en Colombia y generar más de US$ 586 millones en regalías mineras. Los cuatro pilares que la Agencia Nacional Minera está desarrollando para fortalecer la minería y aportar en la reactivación del país son eficiencia en los trámites, efectividad para solucionar los cuellos de botella, diversificación para aprovechar las oportunidades de la canasta minera y la desmitificación del sector, dijo el presidente de la entidad estatal. Le puede interesar: Análisis: Invasión de Ucrania, terapia de shock para los neoliberales En 2021 la autoridad minera inició con el proceso de selección objetiva para la adjudicación de las primeras Áreas Estratégicas Mineras (AEM) de cobre y fosfatos. Y para este 2022 se programó el desarrollo de las rondas mineras para los minerales de oro y carbón, indicó la Agencia Nacional Minera. 💰📈💱 ¿Ya te enteraste de las últimas noticias económicas? Te invitamos a verlas en El Espectador.'},\n",
       " {'title': 'Se buscan startups con impacto en infancia y adolescencia en Colombia',\n",
       "  'relative_path': '/economia/emprendimiento-y-liderazgo/se-buscan-startups-con-impacto-en-infancia-y-adolescencia-en-colombia/',\n",
       "  'datetime': '6 abr 2022  - 5:49 p.\\xa0m.',\n",
       "  'author': 'Redacción Emprendimiento y liderazgo',\n",
       "  'summary': 'Las ganadoras recibirán 30.000 dólares, asesorías y talleres de aceleración. Educación, equidad y empleabilidad, el mayor foco.',\n",
       "  'full_text': '“Buscamos soluciones con potencial de escalabilidad y de alcance en Colombia y México que impacten positivamente en el desarrollo de la vida de nuestras niñas, niños y adolescentes en temas como educación, equidad, empleabilidad, entre otros. Pueden ser organizaciones con o sin ánimo de lucro. Deben tener presencia en América Latina y/o tener capacidad para implementar sus soluciones en la región, inicialmente en México y/o Colombia. Deben tener tracción e historial de ventas reales. Las startups que participen recibirán acompañamiento que incluirá asesorías y talleres de aceleración, y las ganadoras se premiarán hasta con 30.000 dólares en efectivo para las implementaciones reales con nosotros”. Las palabras, a cargo de Cristina Gutiérrez de Piñeres, directora de la Fundación United Way Colombia, fueron la invitación para todas las compañías que en su plan estratégico están trabajando en busca de soluciones claras a las necesidades que viven los niños y niñas y adolescentes de nuestro país. El foco está, precisamente, en soluciones a problemas sociales, culturales y/o ambientales y, además, en la posibilidad de que las compañías nacientes logren “promover la aplicación de tecnologías exponenciales con la capacidad de aumentar de manera relevante su impacto, cobertura y alcance en personas beneficiadas por organizaciones sociales, mejorando la calidad y/o reduciendo los costos”. Se llama ‘Desafío ChildTech 2022′ y detrás de él están la Fundación United Way e Impactus Ventures, y en alianza con la Fundación FEMSA, +Global Fundación Mustakis y Amalfi Inversiones y el apoyo de Innpulsa Colombia. “Esta convocatoria está dirigida a startups de Latinoamérica, Estados Unidos, Europa y el mundo que desarrollan innovaciones o proyectos enfocados a crear soluciones a problemas sociales existentes en América Latina, teniendo un enfoque principal en beneficiar a niños, niñas y jóvenes desde los cero a 18 años incluyendo a los adultos que los rodean”, dijeron los organizadores en un comunicado de prensa. Las startups interesadas pueden inscribirse en este link.  Si está buscando más historias de emprendimientos, sus creadores y creadoras están aquí, en Emprendimiento y liderazgo de El Espectador.'},\n",
       " {'title': '¿Las pensiones lo confunden? Le explicamos cómo funciona el sistema en Colombia',\n",
       "  'relative_path': '/economia/las-pensiones-lo-confunden-le-explicamos-como-funciona-el-sistema-en-colombia/',\n",
       "  'datetime': '6 abr 2022  - 5:00 p.\\xa0m.',\n",
       "  'author': 'Redacción Economía',\n",
       "  'summary': 'Estas son algunas pistas para entender cómo están funcionando las pensiones en el país y por qué se está hablando de la próxima reforma. ',\n",
       "  'full_text': 'El sistema pensional colombiano tiene muchos problemas: cobertura, sostenibilidad y equidad son tres de los factores en los que hoy está fallando el país. En este momento expertos y miembros de todos los sectores coinciden en que necesitamos una reforma pensional; sin embargo, muchos colombianos no entienden cómo funciona el sistema. En este artículo les contamos algunos aspectos básicos.'}]"
      ]
     },
     "execution_count": 20,
     "metadata": {},
     "output_type": "execute_result"
    }
   ],
   "source": [
    "# New database\n",
    "newsEconomia"
   ]
  },
  {
   "cell_type": "code",
   "execution_count": 21,
   "id": "ac9da604-9c1b-4abe-99b2-29c5e2858834",
   "metadata": {},
   "outputs": [
    {
     "data": {
      "text/plain": [
       "<pymongo.results.InsertManyResult at 0x2136c237730>"
      ]
     },
     "execution_count": 21,
     "metadata": {},
     "output_type": "execute_result"
    }
   ],
   "source": [
    "# Storing extracted information for further analysis.\n",
    "collection.insert_many(newsEconomia)"
   ]
  },
  {
   "cell_type": "code",
   "execution_count": 22,
   "id": "198f8a28-8858-48fc-816a-2403061d9bb1",
   "metadata": {},
   "outputs": [],
   "source": [
    "# Creating a connection to MongoDB to create the technology module. \n",
    "client = MongoClient('localhost', 27017)\n",
    "db = client['news']\n",
    "collection = db['elespectador-investigacion']"
   ]
  },
  {
   "cell_type": "code",
   "execution_count": 23,
   "id": "133a2455-666b-448c-8cf3-4ec753d67836",
   "metadata": {},
   "outputs": [],
   "source": [
    "# Getting HTML content for news listing page.\n",
    "\n",
    "newsInvestigacion = []\n",
    "url = '/archivo/investigacion'\n",
    "\n",
    "for n in range(1, 2):\n",
    "    soup = make_request(browser, url + str(n))\n",
    "    # Finding the section where news are contained.\n",
    "    layout = soup.find(class_ = 'Layout-flexAds')\n",
    "    # Getting blocks from layout.\n",
    "    blocks = layout.find('section').find_all(recursive = False)\n",
    "    # Finding and concatenating news cards.\n",
    "    cards = blocks[0].find_all(class_ = 'Card') + blocks[1].find_all(class_ = 'Card')\n",
    "    # Building a list with title and relative path of the news founded.\n",
    "    for card in cards:\n",
    "        newsInvestigacion.append({\n",
    "            'title': card.find('h2', class_ = 'Card-Title').find('a').get_text(),\n",
    "            'relative_path': card.find('h2', class_ = 'Card-Title').find('a')['href']\n",
    "        })"
   ]
  },
  {
   "cell_type": "code",
   "execution_count": 24,
   "id": "01a5c03c-6696-4a83-bb88-dff0478e0148",
   "metadata": {},
   "outputs": [],
   "source": [
    "# Addressing\n",
    "for n in newsInvestigacion:\n",
    "    # Getting HTML content for news page.\n",
    "    soup = make_request(browser, n['relative_path'])\n",
    "    \n",
    "    # Extracting news metadata.\n",
    "    n['datetime'] = soup.find(class_ = 'ArticleHeader-Date').get_text()\n",
    "    n['author'] = soup.find(class_ = 'ACredit-Author').get_text()\n",
    "    n['summary'] = soup.find(class_ = 'ArticleHeader-Hook').find('div').get_text()\n",
    "    \n",
    "    # Extracting and concatenating news full text.\n",
    "    paragraphs = soup.find_all(class_ = 'font--secondary')\n",
    "    n['full_text'] = ' '.join([p.get_text() for p in paragraphs])"
   ]
  },
  {
   "cell_type": "code",
   "execution_count": 25,
   "id": "2b2890a4-ab3b-497b-bc2f-05d3775d3022",
   "metadata": {},
   "outputs": [
    {
     "data": {
      "text/plain": [
       "[{'title': 'Crisis carcelaria en Colombia: ¿Qué hacer con el Inpec?',\n",
       "  'relative_path': '/investigacion/crisis-carcelaria-en-colombia-que-hacer-con-el-inpec/',\n",
       "  'datetime': '4 abr 2022  - 1:48 p.\\xa0m.',\n",
       "  'author': 'Nicolás Achury González',\n",
       "  'summary': 'Los paseos del empresario Carlos Mattos por Bogotá, la fuga de alias “Matamba”, narcotraficante del Clan del Golfo, y el escape de Claudia Peñaranda, protagonista del caso Invima, reafirman un problema carcelario histórico en el país. El Inpec ha tenido escándalos de corrupción, fugas, violencia y complicidad con criminales. Expertos proponen una reforma estructural del sistema penitenciario, pero enfocándose en la política criminal del Estado.',\n",
       "  'full_text': 'Desde hace 23 años, el inspector Nelson Barrera ha estado en los centros penitenciarios de Bogotá. En la actualidad, trabaja en la cárcel La Modelo y es el presidente del Sindicato de Empleados Unidos Penitenciarios (SEUP). Barrera asegura que “La corrupción sí es tan fuerte como parece. Los delincuentes sí tienen mucho control sobre las cárceles. No podemos tapar el sol con un solo dedo”. Además, el funcionario advierte que se ha tomado una mala decisión en la política carcelaria y en el Inpec: concentrar demasiado poder delincuencial en algunas cárceles. Sobre esto, dice que, específicamente en la cárcel La Picota, hay “personajes demasiado poderosos y con mucho poder adquisitivo, lo que lleva a que los guardianes sean vulnerables y que algunos les empiecen a recibir dinero a cambio de favores”. (Le puede interesar: “Matamba”, Pablo Escobar, Aida Merlano y otras grandes fugas en Colombia) La crisis penitenciaria ha configurado una inestabilidad en la dirección del Instituto Nacional Penitenciario y Carcelario (Inpec). Según cifras de la Corporación Excelencia en la Justicia (CEJ), el cargo del director de esta entidad ha tenido una altísima rotación (cambia cada año y medio) por lo que la organización advirtió sobre “la debilidad de una política penitenciaria de largo plazo en el país, en el desarrollo de su labor de realizar seguimientos permanentes a políticas públicas en materia de justicia”. El último director del Inpec en salir fue Mariano Botero, quien presentó su carta de renuncia una vez se conocieron las controversiales imágenes de los paseos de Carlos Mattos. Según el inspector Barrera, los casos recientes que implican al Inpec son solo la muestra de una crisis histórica a la que nadie le ha querido poner el pecho. El funcionario asegura que “Lo primero que tenemos que decir públicamente es que le pedimos perdón a la sociedad por el actuar de unas manzanas podridas. Ahora, buscamos prevenir para que esto no vuelva a suceder. Lo segundo es que acá hemos pensado en que todo se puede arreglar con las prisiones encerrando a las personas. Lo que estamos haciendo es bodegas donde acumulamos personas, pero no estamos pensando en el ser, en la resocialización”. (Puede leer: ¿Hasta cuándo la vergüenza en el Inpec? A su vez, Norberto Hernández Jiménez, profesor de la Universidad Javeriana y conjuez de la Corte Suprema de Justicia, asegura que “el problema es más de fondo, no hay que enfocarse únicamente en el Inpec. Hay que ir más atrás y pensar en temas de política criminal. Como está en la actualidad el sistema y la cantidad de personas que recibe es imposible pensar en una buena administración y esto genera actos de corrupción. Es decir, si solamente se reforma el Inpec no se logra hacer nada”. Bajo esta premisa, el profesor Hernández plantea que la crisis carcelaria tiene que ver más con lo estipulado por la Corte Constitucional sobre la violación sistemática, masiva y generalizada de los derechos fundamentales y no únicamente sobre la responsabilidad del Inpec. Sobre la situación actual de los establecimientos penitenciarios, la Corte Constitucional, en la sentencia T-762, evidenció fallas de carácter estructural en las que establece que “la política criminal colombiana ha abandonado la búsqueda del fin resocializador de la pena, lo que a su vez genera mayor criminalidad, pues ese abandono contribuye a convertir los establecimientos de reclusión en verdaderas universidades del delito”. De igual forma, la Corte atribuye a la crisis los altos niveles de hacinamiento, los problemas sanitarios, las condiciones bajas de resocialización, la corrupción al interior de los centros de reclusión y la tendencia de la política criminal colombiana al llamado “populismo punitivo”. (Le puede interesar: Brigadier general Tito Yesid Castellanos se posesiona como director del Inpec) Sobre este último punto, la Corte advirtió que el auge del populismo punitivo en el país tiene efectos nocivos para la política criminal. La entidad encontró que, desde el año 2000 hasta el 2011, se realizaron modificaciones a la legislación penal, creando 47 nuevos tipos penales y aumentando las penas de 80 delitos existentes. En este sentido, las cárceles han llegado a convertirse paulatinamente en el eje de la política criminal, como asegura la Corte: “La extendida percepción de inseguridad ha sido también responsable de que se la politice y ha abierto la puerta al aprovechamiento político del miedo al crimen y al uso del populismo punitivo”. (Puede leer: El Congreso cae, de nuevo, en el populismo punitivo) Según el profesor Hernández, una reforma estructural del Inpec tiene que pasar también por una pregunta sobre la política criminal del Estado. El Congreso de la República y la persona que asuma la presidencia del país deben enfrentar con responsabilidad la crisis carcelaria que lleva años de escándalo tras escándalo. Además, Hernández asegura que “no creo que la solución sea liquidar el Inpec porque debe haber un órgano que permita la administración del sistema, pero un sistema que se pueda administrar y que la población carcelaria sea óptima. Como está en este momento es imposible. Además, la solución tampoco es privatizar las cárceles porque, lamentablemente, lo que muestra la experiencia internacional es que las compañías privadas terminan haciendo lobby para que haya más delitos y, por lo tanto, entren más personas a la cárcel. Nuestros gobernantes tienen una gran responsabilidad en lo que viene”.'},\n",
       " {'title': '“Matamba”, Pablo Escobar, Aida Merlano y otras grandes fugas en Colombia',\n",
       "  'relative_path': '/investigacion/grandes-fugas-en-colombia-de-pablo-escobar-a-matamba/',\n",
       "  'datetime': '4 abr 2022  - 5:00 a.\\xa0m.',\n",
       "  'author': 'Nicolás Achury González',\n",
       "  'summary': 'La fuga de alias “Matamba”, narcotraficante del Clan del Golfo, o AGC, que estaba a punto de ser extraditado a Estados Unidos y que huyó de la cárcel de La Picota disfrazado de dragoneante, no es nueva en los anales de la justicia colombiana. La historia de los fugados constituye un capítulo más de impunidad en las cárceles.',\n",
       "  'full_text': 'El primero que salta a la memoria es el teniente tolimense Alberto Cendales, un oficial que combatió a las guerrillas del Sumapaz en los años 50, y que, a partir del 2 de mayo de 1958, fue el protagonista número uno en materia de fugas. Ese día, Cendales fue uno de los ayudantes de una fracasada intentona golpista. Un grupo de militares encabezados por el coronel Hernando Forero Gómez pretendió regresar al general Rojas Pinilla al poder, y el plan derivó en la captura de tres de los cinco miembros de la junta militar que gobernaba a Colombia, más el virtual presidente Alberto Lleras. El teniente Cendales fue quien detuvo a los generales. Sin embargo, la intentona golpista fracasó y Cendales se convirtió en el objetivo número uno. Entonces se refugió en la embajada de Paraguay, y cuando vio la justicia cerca, se escapó por una ventana. Lo capturaron semanas después y fue a dar al batallón Guardia Presidencial, de donde también se voló. Cayó de nuevo. Fue a dar a un calabozo del Servicio de Inteligencia Colombiano, y de allí se escapó de nuevo. Recapturado y enviado a la escuela Blindada, se evadió con una unidad de 130 reclutas, hasta que fue neutralizado. Cendales se hizo tristemente célebre hasta su muerte, en un accidente de tránsito el 25 de mayo de 1976. Nota del editor:  en la primera versión de este video publicamos, por equivocación, la foto de Carlos Alberto Cendales, un subintendente de la Policía que murió en el secuestro de los diputados del Valle, el 11 de abril de 2002. Este video sobre fugas históricas en Colombia no tiene ninguna relación con Carlos Alberto Cendales. El personaje en mención es el teniente tolimense Alberto Cendales Campuzano, un oficial que combatió a las guerrillas del Sumapaz en los años 50 y que se fugó en varias ocasiones. La foto, por lo tanto, se eliminó del video.'},\n",
       " {'title': 'Las dudas sobre el “fracking” que revivió la licencia ambiental a piloto de Ecopetrol',\n",
       "  'relative_path': '/investigacion/las-dudas-sobre-el-fracking-que-revivio-la-licencia-ambiental-a-piloto-de-ecopetrol/',\n",
       "  'datetime': '2 abr 2022  - 8:00 p.\\xa0m.',\n",
       "  'author': 'María Mónica Monsalve',\n",
       "  'summary': 'Aunque se trata de un proyecto de investigación, cuyo fin es recoger información, a los científicos les preocupa que el proyecto piloto Kalé esté ubicado sobre un complejo cenagoso, lo que podría afectar el corredor biológico del manatí. Además, las comunidades señalan que no se estaría cumpliendo un criterio clave para el éxito de la investigación: participación. ANLA asegura que ha sido un proceso transparente.',\n",
       "  'full_text': 'A finales de diciembre de 2021, Ecopetrol anunció que en Puerto Wilches, un municipio de Santander situado al borde del río Magdalena, se podrían llevar a cabo los primeros pilotos de fracking en Colombia. Aunque la decisión emocionó a algunos -que desde hace años esperan que en el país se destrabe el proceso de extracción de hidrocarburos con métodos no tradicionales- también inquietó a otros. El domingo pasado, por la noche, las comunidades de Puerto Wilches recibieron nueva noticia: la filtración de un documento de la Autoridad Nacional de Licencias Ambientales (ANLA) respecto al otorgamiento de la licencia ambiental al Proyecto Piloto de Investigación Integral (PPII) Kalé, de Ecopetrol, ubicado en su territorio. Al siguiente día, la ANLA confirmó la decisión en un comunicado.'},\n",
       " {'title': 'Jamming Festival: el drama de los extranjeros que viajaron para el evento',\n",
       "  'relative_path': '/investigacion/viaje-17-horas-para-ir-al-jamming-y-perdi-mi-dinero-turista-venezolano/',\n",
       "  'datetime': '28 mar 2022  - 12:53 p.\\xa0m.',\n",
       "  'author': 'Redacción Investigación',\n",
       "  'summary': 'La cancelación del Jamming Festival, faltando un día para su inicio, causó afectaciones económicas en turistas que visitaban el país por el evento. Un grupo de amigos mexicanos y dos hermanos venezolanos invirtieron en tiquetes, hospedaje, transporte, alimentación y boletas. A la fecha, no saben con certeza si la empresa Buena Vibra Eventos E.U. les devolverá el dinero de las entradas.',\n",
       "  'full_text': 'Desde hace años, el sonidista venezolano Ruddy González no se emocionaba tanto por el cartel de un festival de música. La que sería la décima edición del Jamming Festival convocaba, en tres días, a los artistas que marcaron su vida: Damian Marley, Los Cafres, Los Prisioneros, Desorden Público, entre muchos otros. Sin dudarlo, Ruddy decidió ahorrar con su hermano y programar un viaje para conocer Colombia. (Lea aquí: Cuando el Jamming se volvió tragedia) En octubre de 2021, con el presupuesto estipulado y todas las ganas de escuchar música en vivo, los hermanos venezolanos decidieron comprar las entradas del festival por la página web del evento. No les llegó la imágen de las boletas, por lo que tuvieron que escribir a las redes sociales del Jamming Festival. En su momento les respondieron: “No se preocupen. Nosotros les pasamos un código y cuando lleguen a Bogotá las pueden recoger en Casa Babylon, el lugar oficial del concierto”. Pasaron los meses y creció la incertidumbre por posibles inconsistencias en el desarrollo del evento. Así llegó marzo de 2022. Ruddy González y su hermano pidieron permiso en el trabajo e iniciaron camino: “El viaje desde Caracas es demasiado traumático. Son 14 horas de rueda para llegar a Cúcuta y después agarrar un vuelo hasta la capital colombiana”, aseguró el turista venezolano. El jueves 17 de marzo arribaron a Bogotá y se quedaron en un hotel de Chapinero, cerca al lugar de entrega de las boletas. Al día siguiente viajarían a Ibagué, donde se iban a hospedar los tres días del evento. (Le puede interesar: Las investigaciones y demandas por la cancelación del Jamming)  En la mañana del viernes 18 de marzo, los hermanos González alistaron maletas y pidieron un taxi que los llevara a Casa Babylon para recoger las boletas. En el trayecto, un amigo de Ruddy le escribió desde Venezuela: “Vi que hay problemas con el Jamming, ¿sabes algo?”. Sin entender qué pasaba, empezaron a revisar sus celulares y ver más y más publicaciones sobre un hecho que parecía inevitable: la cancelación del festival un día antes de su inicio. Ruddy González y su hermano invirtieron 700 dólares para asistir al concierto. Por lo pronto, esperan recuperar el costo de las boletas de los tres días. Perdieron el dinero del hospedaje y del transporte y se devolvieron a Caracas sin ver a ninguno de los artistas que tenían programados. Con nostalgia, Ruddy asegura: “viajé 17 horas para ir al Jamming y perdí mi dinero. Espero que los organizadores nos puedan hacer un reembolso, no nos sirve que se reprograme porque no tenemos la posibilidad de volver a Colombia. Ahorrar ese dinero en Venezuela es complejo”. (Puede ver: Protestas del público por cancelación del Jamming Festival 2022) La historia de la turista mexicana Jovanna Miranda y sus cinco amigos no es distinta. En noviembre de 2021 decidieron comprar boletas para asistir a los tres días del Jamming Festival, pero sus planes cambiaron. “El viernes 18 de marzo llegamos al aeropuerto aproximadamente a las 7:00 a.m. e íbamos camino a Casa Babylon para recoger las boletas y escuchamos la noticia en la radio. Ahí entramos a las redes y nos enteramos que ya se había cancelado. Por lo visto, nadie va a resolver lo del reembolso de las boletas”. El fin de semana del 19 y 20 de marzo, la misma fecha en la que estaba programado el Jamming Festival, se llevó a cabo el Vive Latino, en Ciudad de México. En el evento se presentaron artistas como Black Pumas, Los Fabulosos Cadillacs y Limp Bizkit. Jovanna Miranda y sus amigos decidieron no ir a este festival al que han asistido por años y, más bien, viajar hasta Colombia para la décima versión del Jamming. “El cartel nos gustaba mucho, quería ver a Los Auténticos Decadentes, a Los Cafres, a Inspector, era un cartel muy prometedor, era un cartel que difícilmente se veía en un festival. Acá estaban todas las bandas que nos gustaban, pero perdimos el dinero. Nos regresamos muy tristes”, aseguró la mexicana. Ahora bien, la empresa Buena Vibra Events, propietaria del Jamming Festival, publicó en sus redes sociales un comunicado en donde aseguró que se buscarán “soluciones para la ciudadanía, asistentes y empresarios afectados”. También, según el comunicado, la compañía habilitó dos opciones: cambiar las boletas del Jamming Festival por otro evento privado o pedir la devolución del dinero comunicándose al correo info@jammingfestival.com.co. Por lo pronto, los sectores económicos afectados exigen las devoluciones correspondientes por parte de la empresa Buena Vibra Eventos E.U. Además, se espera que la Superintendencia de Industria y Comercio formule pliego de cargos y que la Fiscalía también indague. La Asociación Hotelera y Turística de Colombia (Cotelco) confirmó pérdidas para el sector de $802.872.000. De igual forma, un grupo de personas afectadas por la cancelación del Jamming Festival prepara una demanda colectiva.'},\n",
       " {'title': 'Las investigaciones y demandas por la cancelación del Jamming',\n",
       "  'relative_path': '/investigacion/las-investigaciones-y-demandas-por-la-cancelacion-del-jamming/',\n",
       "  'datetime': '28 mar 2022  - 9:00 a.\\xa0m.',\n",
       "  'author': 'Pilar Cuartas Rodríguez',\n",
       "  'summary': 'Se espera que la Superindustria formule pliego de cargos y que la Fiscalía también indague. Por su parte, un grupo de personas afectadas prepara una demanda colectiva.',\n",
       "  'full_text': 'La cancelación del evento musical Jamming, que se desarrollaría los días 19, 20 y 21 de marzo en Ibagué, tomó por sorpresa a asistentes, empresarios y autoridades, aunque días antes de su realización ya se rumoraba su fracaso y varios artistas declinaron su participación. La noticia oficial, sin embargo, llegó 24 horas antes y la mayoría de las personas ya había incurrido en gastos de hospedaje, transporte y alimentación; o había invertido y preparado sus productos para vender en el evento que esperaba recibir 50.000 personas diarias. (Lea aquí: Cuando el Jamming se volvió tragedia) En un comunicado oficial, los organizadores explicaron que el evento sería “aplazado”, debido a las cancelaciones de por lo menos 14 bandas, que fueron cambiando el cartel propuesto a los consumidores. Entre las agrupaciones que declinaron su participaron estuvieron Vicentico, Maldita Vecindad, La Sonora 100 Fuegos, los Cafres, UB 40 FT Ali Campbell y Black Eyed Peas. (Protestas del público por cancelación del Jamming Festival 2022) “A lo anterior se le suma una bodega digital que bombardeó las redes sociales de denuncias sin sustento. Algunos de los mensajes incitaban a agredir al director general del festival y afectar el desarrollo del mismo, de lo cual tenemos las pruebas las cuales serán entregadas a la Fiscalía. A pesar de los esfuerzos realizados por la organización para su realización, dichas circunstancias conllevaron a tomar medidas responsables como suspender el evento, con el fin de salvaguardar la integridad, bienestar y salud de nuestros asistentes, proveedores y público en general”, aseguraron las directivas Buena Vibra EU, propietaria del Jamming, La compañía ofreció a los asistentes devolverles el dinero o abonarlo para la boleta de otro de sus eventos. Para las reclamaciones de los proveedores, restaurantes, stands y aliados, se dispuso el correo electrónico juridico@jammingfestival.com.co. “Estamos adelantando los compromisos financieros adquiridos con artistas, hotelería, proveedores, entre otros, y así vamos resolviendo nuestro compromiso con la ciudad”, añadieron los organizadores del evento. La Superintendencia de Industria y Comercio, sin embargo, puso su lupa en el Jamming una semana antes de que se llevara a cabo, pero solo hasta el día de su cancelación, el pasado 18 de marzo, informó que adelantaba una averiguación preliminar contra su productor, la empresa Buena Vibra Eventos EU, por supuestamente no informar a los consumidores que las condiciones del evento, los artistas y el orden de las presentaciones había variado. El ente de control tiene estos indicios a raíz de unas visitas de inspección que hizo en las instalaciones de la compañía, a la que también le solicitó el 16 de marzo informar en su página web oficial y las redes sociales el listado de artistas confirmados, sus horarios de presentación y las locaciones. Además, la entidad solicitó avisarles a los compradores de boletas las modificaciones del evento, por medio de correo electrónico o mensaje de texto. Incumplir estas órdenes podría conllevar a una sanción de hasta 2.000 salarios mínimos. Los productores del Jamming no atendieron los requerimientos de información de la Superindustria, no asistieron a una mesa de trabajo convocada por ésta y cancelaron de forma unilateral el evento. En consecuencia, el ente de control abrió el pasado 18 de marzo una investigación administrativa (que se espera derive en la formulación del pliego de cargos), ordenó dejar de promocionar y publicitar la versión del Jamming 2023, que ya se ofertaba en redes sociales; y le pidió a la Fiscalía investigar lo concerniente al ámbito penal. Luisa Fernanda Caldas, docente de derecho penal de la Universidad Externado, explica que el Jamming tendría implicaciones a nivel penal por los posibles delitos de estafa o abuso de confianza. El primer escenario tendría lugar si se demuestra que la persona que promovió el festival vendió las boletas anunciando un grupo de artistas con los que no había concretado nada; se trataría de un engaño. El segundo escenario se daría si, aun teniendo la confirmación de las bandas y los permisos de la alcaldía, el evento se canceló y los organizadores no devuelven el dinero de las boletas. “No implica engaño, pero si me pagaron por un concierto y, éste no se da, me estaría quedando con una plata que no me corresponde”, puntualiza la abogada Caldas. Por su parte, la Superintendencia de Industria y Comercio abrió una investigación administrativa en contra de la empresa organizadora, Buena Vibra Eventos EU, y se espera que próximamente se dé la formulación de pliego de cargos. Además, la entidad le pidió a la Fiscalía que investigue. Los asistentes y emprendedores afectados también se están organizando para demandar de forma colectiva. El abogado Felipe Parra y cuatro de sus colegas están reuniendo casos para representarlos de forma gratuita y hacerles entender a los organizadores que “tienen que responder, y no solo basta con sacar comunicados ambiguos”. Por lo menos 200 personas están interesadas en iniciar las acciones y se está en la etapa de recolección de información y registro de formularios. Se espera que se instauren acciones ante la Superindustria y en la justicia civil. “Al cambiar de locación, aplazar el festival y cancelar artistas los organizadores generaron perjuicios y daños de carácter moral en las personas, por las expectativas, hicieron incurrir en gastos a los asistentes y comerciantes, en hospedaje y transporte a Ibagué. También vamos a solicitar información a las entidades de control y la alcaldía, que debieron haber hecho acompañamiento, queremos conocer si estaban haciendo un control adecuado, porque también puede haber omisión de autoridades y de la Superindustria, que tuvo que haberse pronunciado antes de que faltaran ocho días para el festival”, resaltó el abogado Parra. Todavía no se sabe a cuánto podría ascender la suma de los perjuicios. El abogado Parra aclara también que el escenario ideal sería llegar a un acuerdo directo con los organizadores, Buena Vibra Eventos EU, pero que debido al comportamiento y las respuestas oficiales emitidas entiende que “no existe un ánimo conciliatorio que permita un arreglo amigable”. En las instancias judiciales, se planea vincular también a las aseguradoras, pues para un evento de esta magnitud se tuvieron que expedir pólizas precisamente previendo estas situaciones. La pretensión principal será que un juez ordene el reembolso de los valores indexados de las boletas, y reconozca los valores correspondientes a transporte y hospedaje, y se indemnice por el incumplimiento. “Cabe aclarar que para quienes se vincularon como proveedores o tenían un stand en el festival dichas pretensiones de ajustarán a los compromisos adquiridos con ellos”, concluye el abogado Parra.'},\n",
       " {'title': 'Cuando el Jamming se volvió tragedia',\n",
       "  'relative_path': '/investigacion/cuando-el-jamming-se-volvio-tragedia/',\n",
       "  'datetime': '27 mar 2022  - 8:00 p.\\xa0m.',\n",
       "  'author': 'Pilar Cuartas Rodríguez',\n",
       "  'summary': 'Varias voces narran cómo se enteraron de la sorpresiva cancelación del evento musical, que prometía contar con 150.000 asistentes, y las afectaciones que ha generado en sus bolsillos, reputación y salud mental.',\n",
       "  'full_text': 'El desconcierto se apoderó de Playa Hawái la madrugada del pasado 18 de marzo, cuando decenas de emprendedores intentaban entrar al terreno para instalarse en los stands más cotizados por esos días en Ibagué, Tolima. El evento musical Jamming iniciaría pronto su versión número diez y los comerciantes, que se habían preparado durante meses y pagaron para estar ahí, llegaban con la ilusión de recuperar lo perdido en la pandemia, capitalizar sus empresas o salir de deudas. “Váyase, antes de que le roben sus cosas. Se canceló esto. La gente de logística se está llevando todo lo que encuentra, porque no les pagaron”, le dijo el portero del sitio a María Nubia Segovia, dueña de Savigurt. Gracias a esa advertencia, ella salvaguardó sus mil yogures a base de sábila y hortalizas. (Protestas del público por cancelación del Jamming Festival 2022) La noticia de la cancelación del Jamming solo se conoció la madrugada de ese viernes en Playa Hawái, 24 horas antes de su realización. Las primeras en recibirla fueron las nietas de la dueña de Artesanías Bachué. Una de ellas, Juanita Calderón, cuenta que se enteraron a las 3 a.m., cuando llegaron con su mercancía. “Pensamos que era mentira, ¿cómo iba a pasar eso, si hasta la noche anterior nos dijeron que sí había evento”, exclama la joven, cuyo negocio familiar invirtió, con ahorros y préstamos, $3 millones en el arriendo de su stand y más de $20 millones en la elaboración de recordatorios alusivos al Jamming, como copas, manillas y pareos, que ahora no puede vender.'}]"
      ]
     },
     "execution_count": 25,
     "metadata": {},
     "output_type": "execute_result"
    }
   ],
   "source": [
    "# New database\n",
    "newsInvestigacion"
   ]
  },
  {
   "cell_type": "code",
   "execution_count": 26,
   "id": "bed6c819-6776-48e6-a4af-5e269320014c",
   "metadata": {},
   "outputs": [
    {
     "data": {
      "text/plain": [
       "<pymongo.results.InsertManyResult at 0x2136b982fa0>"
      ]
     },
     "execution_count": 26,
     "metadata": {},
     "output_type": "execute_result"
    }
   ],
   "source": [
    "# Storing extracted information for further analysis.\n",
    "collection.insert_many(newsInvestigacion)"
   ]
  },
  {
   "cell_type": "code",
   "execution_count": 27,
   "id": "17130998-58e6-4b96-aa16-5584782e7da5",
   "metadata": {},
   "outputs": [],
   "source": [
    "# Creating a connection to MongoDB to create the economy module. \n",
    "client = MongoClient('localhost', 27017)\n",
    "db = client['news']\n",
    "collection = db['elespectador-bogota']"
   ]
  },
  {
   "cell_type": "code",
   "execution_count": 28,
   "id": "7c9b05e4-f3b9-4b0b-9db3-19ca4e0ea2b7",
   "metadata": {},
   "outputs": [],
   "source": [
    "# Getting HTML content for news listing page.\n",
    "\n",
    "newsBogota = []\n",
    "url = '/archivo/bogota'\n",
    "\n",
    "for n in range(1, 2):\n",
    "    soup = make_request(browser, url + str(n))\n",
    "    # Finding the section where news are contained.\n",
    "    layout = soup.find(class_ = 'Layout-flexAds')\n",
    "    # Getting blocks from layout.\n",
    "    blocks = layout.find('section').find_all(recursive = False)\n",
    "    # Finding and concatenating news cards.\n",
    "    cards = blocks[0].find_all(class_ = 'Card') + blocks[1].find_all(class_ = 'Card')\n",
    "    # Building a list with title and relative path of the news founded.\n",
    "    for card in cards:\n",
    "        newsBogota.append({\n",
    "            'title': card.find('h2', class_ = 'Card-Title').find('a').get_text(),\n",
    "            'relative_path': card.find('h2', class_ = 'Card-Title').find('a')['href']\n",
    "        })"
   ]
  },
  {
   "cell_type": "code",
   "execution_count": 29,
   "id": "48c0a2ff-0dde-4c19-8477-64d302da50a8",
   "metadata": {},
   "outputs": [],
   "source": [
    "# Addressing\n",
    "for n in newsBogota:\n",
    "    # Getting HTML content for news page.\n",
    "    soup = make_request(browser, n['relative_path'])\n",
    "    \n",
    "    # Extracting news metadata.\n",
    "    n['datetime'] = soup.find(class_ = 'ArticleHeader-Date').get_text()\n",
    "    n['author'] = soup.find(class_ = 'ACredit-Author').get_text()\n",
    "    n['summary'] = soup.find(class_ = 'ArticleHeader-Hook').find('div').get_text()\n",
    "    \n",
    "    # Extracting and concatenating news full text.\n",
    "    paragraphs = soup.find_all(class_ = 'font--secondary')\n",
    "    n['full_text'] = ' '.join([p.get_text() for p in paragraphs])"
   ]
  },
  {
   "cell_type": "code",
   "execution_count": 30,
   "id": "ff17c97a-d935-4ab9-920c-9d1f0e98c9ca",
   "metadata": {},
   "outputs": [
    {
     "data": {
      "text/plain": [
       "[{'title': 'Se reportan enfrenamientos entre indígenas emberá y el ESMAD en el Parque Nacional',\n",
       "  'relative_path': '/bogota/se-reportan-enfrenamientos-entre-indigenas-embera-y-el-esmad-en-el-parque-nacional-de-bogota/',\n",
       "  'datetime': '7 abr 2022  - 12:00 a.\\xa0m.',\n",
       "  'author': 'Redacción Bogotá',\n",
       "  'summary': 'Los hechos se registran a la altura de la Carrera Séptima con Calle 39, en donde se han registrado detonaciones de gases lacrimógenos y enfrentamiento entre la policía antimotines y los indígenas que se encuentra ubicados en el parque. Hasta el momento, la Policía reporta siete uniformados lesionados.',\n",
       "  'full_text': 'Fuertes enfrentamientos entre miembros de la comunidad indígena emberá y el Escuadrón Móvil Antidisturbios (Esmad) se registran desde las 9 de la noche en el Parque Nacional de Bogotá, ubicado en la Carrera Séptima con Calle 39, en la localidad Teusaquillo. Reportes publicados a través de redes sociales, señalan que el Esmad realizó una intervención en la zona que terminó en choques y lanzamientos de gases lacrimógenos. Versiones preliminares conocidas por El Espectador indican que, presuntamente, la comunidad habría retenido a algunos gestores de convivencia que se encontraban en el sector y que un agente de la policía resultó lesionado, así como 21 indígenas. A esta hora, las secretarías de Seguridad y Gobierno se encuentran reunidas para consolidar un informe sobre estos hechos. Ante esta situación, el subcomandante Policía Metropolitana de Bogotá, coronel Herbert Benavides, declaró que “treinta vehículos, tanto de servicio particular como público, fueron retenidos, amenazados e intimidados por la comunidad indígena, quienes, además, les estaban solicitando dinero, hecho por el cual se llevó a cabo una actividad de intervención con el Esmad”. Según las autoridades, luego de que estas comunidades retuvieran el paso de los vehículos, se inició un protocolo de diálogo por alrededor de tres horas, pero esto no surtió efecto. Por otro lado, la Policía entregó un balance de las afectaciones, entre las que se encuentra la vandalización de seis buses, tres carros particulares y una ambulancia. También se reportaron siete uniformados lesionados con dardos, así como seis gestores de convivencia y una retención transitoria de dos gestores. La comunidad indígena emberá había salido a las calles a protestar en horas de la tarde y bloquearon el paso por la carrera Séptima con calle 36, a la altura del Parque Nacional. Transmilenio, por otro lado, informó que en la carrera Séptima se activaron desvíos para buses duales por Calle 45, por manifestación en Parque Nacional. Calle 17 con Carrera 135 A la hora se habilita la ruta alimentadora del Portal El Dorado: 16 - 7 Estación. Este martes, en horas de la noche, se registró un accidente de tránsito que involucró a un taxista y a una indígena emberá con sus dos hijos en el mismo lugar donde se realizó la manifestación. Por estos hechos, también se registró un hecho que requirió de la intervención de las autoridades. Para conocer más noticias de la capital y Cundinamarca,\\xa0visite la sección Bogotá\\xa0de\\xa0El Espectador.'},\n",
       " {'title': 'A estos acuerdos llegaron motociclistas y Alcaldía tras reunión con Claudia López',\n",
       "  'relative_path': '/bogota/a-estos-acuerdos-llegaron-motociclistas-y-alcaldia-tras-reunion-con-claudia-lopez/',\n",
       "  'datetime': '6 abr 2022  - 11:20 p.\\xa0m.',\n",
       "  'author': 'Redacción Bogotá',\n",
       "  'summary': 'Uno de los puntos acordados es que la restricción al parrillero empiece a regir desde el lunes 18 de abril, así como agregar una excepción más a la medida: que no aplique para las mujeres. “Todos ponemos”, fue una de las conclusiones que dejó la reunión.',\n",
       "  'full_text': 'Triunfó el diálogo entre los líderes de los motociclistas de Bogotá y la alcaldesa mayor, Claudia López, quienes estuvieron reunidos por más de cuatro horas en el Palacio Liévano discutiendo el decreto que impone una restricción al parrillero en moto en la capital los jueves, viernes y sábado, entre 7:00 de la noche y las 4:00 de la mañana. Al término de este encuentro, la mandataria aseguró en rueda de prensa, en compañía de los representantes del gremio, que llegaron a unos acuerdos para la implementación del decreto. Primero, se mantendrá la medida de la identificación de los motociclistas, contemplada en el artículo 3 del decreto que exige portar el número de placa en el casco, usar en su indumentaria en un lugar visible el número de placa asignada al vehículo, en letras y números reflectivos. Pero será flexible en cuanto a que “los motociclistas puedan escoger si la ponen en las dimensiones acordadas en su casco o en la prenda reflectiva”, según dijo López. Segundo, se incluirá otra excepción a la restricción del parrillero: solo aplicará si el acompañante es hombre. “Ellos nos explicaron por qué las mujeres serían las más afectadas por la medida en ese horario y, en este, como en todos, yo tengo especial sensibilidad por los temas de género y de las mujeres, a quienes tenemos siempre como propósito apoyar”, agregó la alcaldesa. En tercer punto, se concretó que, después del 30 de junio, cuando termine la época electoral, el Distrito, la Policía, comerciantes y el Gobierno Nacional se reunirán con los motociclistas para revisar cómo ha evolucionado la medida y el impacto de estas, para determinar si se modifica, se mantiene o se suspende el decreto. Lea: Motociclista agredió a policía en medio de las manifestaciones en Bogotá Por otro lado, motociclistas y Alcaldía acordaron que el decreto no empezará a regir desde el jueves 14 de abril, sino a partir del próximo lunes 18 de abril, para que se haga más pedagogía sobre su implementación. “Agradecemos a la señora alcaldesa por el espacio. Ha sido una concertación de muchos argumentos, de ceder un poquito, todos ponemos y queremos aportarle a la seguridad en Bogotá”, manifestó Nataly Osorio, de la Mesa Sectorial de Motociclistas, luego de que López comunicara los acuerdos logrados. Por su parte, Miguel Forero, de la Fundación SOS Motocultura, dijo que “pedimos disculpas por si los incomodamos, pero necesitábamos este diálogo y llegamos a muy buenos términos en esa concertación, se ganó una red de apoyo en Bogotá que va a trabajar para que podamos ayudar a evitar riesgos”. La alocución terminó entre aplausos y abrazos de los líderes motociclistas y la alcaldesa con su secretario de Gobierno. Para conocer más noticias de la capital y Cundinamarca, visite la sección Bogotá  de El Espectador.'},\n",
       " {'title': 'Motociclista agredió a policía en medio de las manifestaciones en Bogotá',\n",
       "  'relative_path': '/bogota/motociclista-agredio-a-policia-en-medio-de-las-manifestaciones-en-bogota/',\n",
       "  'datetime': '6 abr 2022  - 9:33 p.\\xa0m.',\n",
       "  'author': 'Redacción Bogotá',\n",
       "  'summary': 'La Policía Metropolitana de Bogotá anunció una recompensa de $10 millones a quien ayude a identificar a la persona que agredió al uniformado.',\n",
       "  'full_text': 'En medio de las protestas realizadas por miles de motociclistas que salieron a las calles a protestar contra la medida que restringe el parrillero en Bogotá, se presentó un hecho al norte de la ciudad en el que un manifestante bajó de su vehículo y golpeó a un agente de policía que acompañaba la protesta. Según los videos que circulan en las redes sociales, se observa cómo el hombre, quien no se quitó el casco, se acercó al uniformado y le pegó una patada a la moto, que lo hizo caer. Le puede interesar: Distrito se pronunció sobre posibles casos de abuso sexual en el Hospital La Victoria Lea también: En vivo: así avanza el paro de motos en Bogotá por la restricción de parrilleros Ante esta situación, el brigadier general Eliécer Camacho, comandante de la Policía Metropolitana de Bogotá, se pronunció sobre lo sucedido y manifestó que “la Policía acompañó las diferentes movilizaciones por parte de los motoristas. Desafortunadamente, en la Caracas con 63, un antisocial ataca sin mediar palabra a un miembro de la Policía Nacional. Esto se encuentra contemplado en la Ley de Seguridad Ciudadana. Por lo tanto, la Policía ofrece hasta $10 millones a la persona que nos ayude a identificar a este delincuente”, dijo. A pesar de lo sucedido con el uniformado, el general Camacho recalcó que la gran mayoría de los motociclistas tuvieron un buen comportamiento durante esta jornada de protestas en Bogotá. Para conocer más noticias de la capital y Cundinamarca, visite la sección Bogotá, de El Espectador.'},\n",
       " {'title': 'Paro motero en Bogotá: masiva inconformidad por las restricciones del Distrito ',\n",
       "  'relative_path': '/bogota/paro-motero-en-bogota-masiva-inconformidad-por-las-restricciones-del-distrito/',\n",
       "  'datetime': '6 abr 2022  - 9:00 p.\\xa0m.',\n",
       "  'author': 'Alexánder Marín Correa',\n",
       "  'summary': 'Cerca de 10.000 motociclistas volvieron a tomarse las calles para protestar por las restricciones que anunció la Alcaldía en Bogotá. Mientras el Distrito las considera necesarias, por seguridad, ellos insisten en que es una forma de criminalizar un medio de transporte fundamental para la movilidad en la capital.',\n",
       "  'full_text': 'Parece tradición que, cuando aumenta la inseguridad, uno de los anuncios para aplacar las aguas es limitar la movilidad en motocicletas, bajo el argumento de que es uno de los vehículos más usados para delinquir. No obstante, la reciente decisión de restringir el parrillero y su circulación algunas noches (más laxa que otras medidas en el pasado) rebosó la copa. Miles de motociclistas de nuevo se tomaron las calles este miércoles y rodaron por varias avenidas, para reiterar su mensaje de protesta. Al mediodía comenzaron las concentraciones. El principal punto estuvo en la biblioteca Virgilio Barco, donde alrededor de 3.000 motociclistas, entre ellos usuarios habituales y quienes trabajan con aplicaciones de domicilios, se fueron sumando. Todos con un mismo objetivo: pedir la eliminación de la restricción. Le puede interesar: Motos, domicilios e inseguridad: ¿funcionan las restricciones? Y es que su argumento es claro. Aunque son muchos los videos que circulan en redes, donde se ven sicarios y ladrones en moto, de las 510.000 matriculadas en Bogotá (sin contar las de municipios aledaños, que usan para viajar a la capital a trabajar o a estudiar) la inmensa mayoría las usan para movilizarse o trabajar. Por ejemplo, en un hogar, con los $318.000 que gastan al mes dos personas en Transmilenio, les alcanza para la cuota, mantener la moto y ahorrar, sobre todo, tiempo. Tal vez esto motivó a los casi 10.000 motociclistas que finalmente se unieron a la protesta, que a la 1:00 de la tarde comenzó su recorrido por la calle 63, rumbo a la NQS. Su plan era ir por la carrera séptima, rumbo al centro de la ciudad. No obstante, el Distrito ordenó el cierre de varias vías, para evitar que llegaran hasta la Plaza de Bolívar, lo que obligó a que su recorrido siguiera al norte. Lea: Distrito se pronunció sobre posibles casos de abuso sexual en el Hospital La Victoria Carlos Arturo Gómez, director de una red de motociclistas que dice apoyar a la Policía y asistente a la concentración, habló sobre su malestar. Afirma que la administración no tuvo en cuenta que este gremio puede aportar más a la seguridad, que lo que le puede afectar. “Nos extrañan las medidas tan arbitrarias. Estábamos en la mesa sectorial de diálogos y nos dieron la espalda, sobre todo porque estamos aportando a la seguridad”, añadió. Vale recordar que previo a la marcha de ayer, el Distrito había tenido un primer acercamiento con los motociclistas el martes, en el que se aceptaron cinco excepciones frente a la restricción de parrillero, que comenzará el 14 de abril y que aplicará los jueves, viernes y sábado, entre 7:00 de la noche y las 4:00 de la mañana. Más información: Así esta Bogotá en materia de hacinamiento en URI y centros de detención La decisión fue que la medida no aplicaría para conductores que transporten personas en condición de discapacidad, trabajen en aseguradoras, sean conductores elegidos, atiendan emergencias o trabajen en empresas de vigilancia. Eso sí, la Alcaldía insistió en la necesidad de que en la indumentaria se visibilice el servicio que prestan, para claridad de las autoridades. ¿Injusta? ¿Efectiva? A pesar de esto, no todos quedaron satisfechos y las medidas anunciadas el martes no contuvieron la manifestación de ayer. Los conductores consideran injusta la medida, pues sienten que los criminaliza. “Es como si por el aumento de paseos millonarios en taxi se restringiera el uso de ese vehículo”, dicen. Su malestar no solo tiene respaldo en sus comparaciones, también desde la academia. Más información: Motociclistas en Bogotá podrán proponer cambios a decreto que limita su circulación Una investigación del Centro de Estudios sobre Seguridad, el Centro de Estudios sobre Desarrollo Económico y la Facultad de Economía de la U. de los Andes puso a prueba en los últimos años la efectividad de las restricciones y los efectos sobre el crimen en Bogotá, Barranquilla, Cartagena y Neiva. Si bien el estudio duró cuatro años y se dio a conocer en 2020, la conclusión sigue vigente: las medidas no disminuyeron significativamente los delitos o no se mantuvo la reducción en el tiempo. En el caso de Bogotá, no hubo un impacto relevante, es decir, ni subieron ni bajaron los niveles de criminalidad. Por el contrario, la investigación mostró que los delitos aumentaron en zonas colindantes al sector donde se aplicó la restricción. Nueva reunión Ayer, mientras la caravana avanzaba, la alcaldesa Claudia López, a través de su cuenta de Twitter, expresó a media tarde su respeto por la protesta, pero les pidió no afectar la movilidad de quienes iban en carro o Transmilenio, como ocurrió el pasado lunes. “Los he invitado hoy a las 6:00 p.m. para escucharlos y cerrar los ajustes finales al decreto. Todos aportamos y todos cuidamos nuestra seguridad y convivencia”, agregó. La reunión con la alcaldesa era algo que habían pedido desde que se anunciaron las medidas, y la invitación aplacó las aguas, llevando a que al final de la tarde la movilización terminara de forma pacífica en un plantón en el parqueadero del Movistar Arena, a la espera de sus resultados. Aunque el borrador del decreto está abierto a observaciones, trámite previo a su expedición, los motociclistas insisten en reconsiderar la restricción al parrillero. Esta petición, en este momento, la administración cree que es difícil de cumplir, pues la consideran necesaria, en especial en las noches, que es cuando más delitos se registran, donde el responsable va en una motocicleta. ¿Seguridad versus movilidad? El debate sigue, y en el pulso de las conversaciones se tendrán que analizar en detalle las razones de cada lado. Por ahora es claro que la capital necesita ajustar los planes de vigilancia para tranquilizar la ciudad que, como lo dijo la alcaldesa, está “bajo amenaza terrorista”. La pregunta es, ¿será la restricción a los motociclistas la estrategia adecuada? Solo los resultados darán una respuesta.'},\n",
       " {'title': 'Distrito se pronunció sobre posibles casos de abuso sexual en el Hospital La Victoria',\n",
       "  'relative_path': '/bogota/distrito-se-pronuncio-sobre-posibles-casos-de-abuso-sexual-en-el-hospital-la-victoria/',\n",
       "  'datetime': '6 abr 2022  - 8:17 p.\\xa0m.',\n",
       "  'author': 'Redacción Bogotá',\n",
       "  'summary': 'El Distrito informó que ha identificado 11 presuntas víctimas de abuso sexual. Sin embargo, los hechos y el número de casos son materia de investigación por parte de la Fiscalía.',\n",
       "  'full_text': 'Después de que se diera a conocer la noticia sobre varias pacientes psiquiátricas que habrían sido víctimas de abuso sexual por parte de un auxiliar de enfermería de la unidad de salud mental del Hospital La Victoria, en la localidad de San Cristóbal, el Distrito se pronunció y rechazo lo sucedido. Las secretarías de Salud y de la Mujer indicaron que el primero de abril se conoció el reporte del hecho contra varias pacientes por parte de un auxiliar de enfermería vinculado mediante contrato de prestación de servicios a la Unidad de Salud Mental. Le puede interesar: En vivo: así avanza el paro de motos en Bogotá por la restricción de parrilleros “En un primer momento, se identificaron cuatro mujeres afectadas. Sin embargo, debido al trabajo de las entidades y con el apoyo del equipo del Hospital La Victoria se identificaron siete posibles víctimas más, todas pacientes de la Unidad Mental del Hospital”, dijeron las entidades. Lea también: Desmantelan “La Olla de Janneth”, red de microtráfico que operaba en el sur de Bogotá Ante estos hechos, el Distrito señaló que desde que tuvieron conocimiento de esos hechos se interpuso la denuncia por once posibles víctimas y generó una articulación con la Fiscalía General de la Nación para que se logre agilizar la investigación. Además, la Secretaría de la Mujer informó que representará judicialmente a dos de las víctimas, pero afirmó que acompañará con sus servicios jurídicos y psicológicos cualquier caso que se conozca y en el que las víctimas o sus familias así lo requieran. Por otra parte, la Secretaría de Salud señaló que por las investigaciones que se adelantan, desde el 5 de abril fue cerrado temporalmente el servicio de hospitalización en salud mental de la unidad de servicios de salud La Victoria. Para conocer más noticias de la capital y Cundinamarca, visite la sección Bogotá, de El Espectador.'},\n",
       " {'title': 'Claudia López se reunirá con moteros para dialogar sobre restricción de parrillero',\n",
       "  'relative_path': '/bogota/claudia-lopez-se-reunira-con-moteros-para-dialogar-sobre-restriccion-de-parrillero-en-bogota/',\n",
       "  'datetime': '6 abr 2022  - 6:07 p.\\xa0m.',\n",
       "  'author': 'Redacción Bogotá',\n",
       "  'summary': 'La mandataria anunció a través de sus redes sociales que hoy a las 6 p.m. se llevara a cabo una reunión con los moteros para conversar sobre los puntos del decreto que restringe al parrillero en la ciudad.',\n",
       "  'full_text': 'La alcaldesa de Bogotá, Claudia López, envío una invitación a los motociclistas que adelantan la jornada de protestas este miércoles, por cuenta de la prohibición del parrillero en moto, para dialogar sobre los ajustes del decreto. Mediante su cuenta de Twitter, la mandataria indicó que, pese a que respeta la protesta, no se permitirán afectaciones a la movilidad. Además, anunció una reunión con los moteros, a las 6 p.m., con el fin de “cerrar los ajustes finales del decreto”, el cual pretende aportar a mejorar los índices de seguridad en la capital. Le puede interesar:En vivo: así avanza el paro de motos en Bogotá por la restricción de parrilleros “Respetamos la protesta de los motociclistas, pero les pedimos no afectar la movilidad de quienes van en carro o Transmilenio. Los he invitado hoy a las 6 pm para escucharlos y cerrar los ajustes finales al decreto. Todos aportamos y todos cuidamos nuestra seguridad y convivencia”, indico López. Lea también: ¿Hay toque de queda por paro de moteros en Bogotá? esto dice el Distrito Por su parte, los motociclistas esperan que se pueda llegar a acuerdos muy puntuales “en donde más allá de hablar muchas cosas y de los procesos burocráticos y documentales que diga ella (Claudia López) que se tienen que generar, haya hechos veraces en donde, por supuesto, según lo que ya se estableció no haya ningún borrador ni decreto que perjudique a los motociclistas”, compartió uno de los integrantes del equipo de Veeduría del Equipo de Seguridad. Es importante destacar que, este martes, la alcaldesa agradeció a todos los manifestantes por marchar de manera pacífica y sin bloquear las vías. ”Estamos tratando de unirnos para enfrentar la amenaza criminal y terrorista, que desafortunadamente, por este tenso proceso electoral tenemos”, dijo López. Para conocer más noticias de la capital y Cundinamarca, visite la sección Bogotá, de El Espectador.'}]"
      ]
     },
     "execution_count": 30,
     "metadata": {},
     "output_type": "execute_result"
    }
   ],
   "source": [
    "# New database\n",
    "newsBogota"
   ]
  },
  {
   "cell_type": "code",
   "execution_count": 31,
   "id": "a8a6c5a4-9f7c-4515-9d9c-8993dc73db18",
   "metadata": {},
   "outputs": [
    {
     "data": {
      "text/plain": [
       "<pymongo.results.InsertManyResult at 0x2136b982df0>"
      ]
     },
     "execution_count": 31,
     "metadata": {},
     "output_type": "execute_result"
    }
   ],
   "source": [
    "# Storing extracted information for further analysis.\n",
    "collection.insert_many(newsBogota)"
   ]
  },
  {
   "cell_type": "code",
   "execution_count": null,
   "id": "9e4c8582-cf6d-44e8-b9e8-c3122b3bbae4",
   "metadata": {},
   "outputs": [],
   "source": []
  },
  {
   "cell_type": "code",
   "execution_count": null,
   "id": "3060b5e2-4471-4dfd-81ef-698f8e879656",
   "metadata": {},
   "outputs": [],
   "source": []
  },
  {
   "cell_type": "code",
   "execution_count": null,
   "id": "6732b564-ae9d-4864-81f9-7619aaca0eba",
   "metadata": {},
   "outputs": [],
   "source": []
  }
 ],
 "metadata": {
  "kernelspec": {
   "display_name": "Python 3 (ipykernel)",
   "language": "python",
   "name": "python3"
  },
  "language_info": {
   "codemirror_mode": {
    "name": "ipython",
    "version": 3
   },
   "file_extension": ".py",
   "mimetype": "text/x-python",
   "name": "python",
   "nbconvert_exporter": "python",
   "pygments_lexer": "ipython3",
   "version": "3.9.7"
  }
 },
 "nbformat": 4,
 "nbformat_minor": 5
}
