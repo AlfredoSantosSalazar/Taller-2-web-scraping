{
 "cells": [
  {
   "cell_type": "code",
   "execution_count": 1,
   "id": "aaf7a87a-6905-4863-8b3c-06a05e375878",
   "metadata": {},
   "outputs": [],
   "source": [
    "# Importing required libraries\n",
    "import datetime\n",
    "import time\n",
    "import pymongo\n",
    "import pandas as pd\n",
    "import sys\n",
    "\n",
    "from bs4 import BeautifulSoup\n",
    "from selenium import webdriver\n",
    "\n",
    "from pymongo import MongoClient\n",
    "from pymongo import TEXT"
   ]
  },
  {
   "cell_type": "code",
   "execution_count": 2,
   "id": "f14fcc2d-7275-4854-b548-212d104151f5",
   "metadata": {},
   "outputs": [],
   "source": [
    "# Creating a connection to MongoDB\n",
    "client = MongoClient('localhost', 27017)\n",
    "db = client['news']"
   ]
  },
  {
   "cell_type": "code",
   "execution_count": 3,
   "id": "ab83b08c-3f46-43aa-b395-53bda1dd8e9f",
   "metadata": {},
   "outputs": [],
   "source": [
    "# \n",
    "SITE_URL = 'https://www.elespectador.com'"
   ]
  },
  {
   "cell_type": "code",
   "execution_count": 4,
   "id": "f4b9b0f2-68e5-49e2-b811-9d93fcabbc0a",
   "metadata": {},
   "outputs": [],
   "source": [
    "DRIVER_PATH = './geckodriver.exe'"
   ]
  },
  {
   "cell_type": "code",
   "execution_count": 5,
   "id": "747cf840-dfa7-453b-bef8-b51dc8f267bc",
   "metadata": {},
   "outputs": [
    {
     "name": "stderr",
     "output_type": "stream",
     "text": [
      "C:\\Users\\ALFRED~1\\AppData\\Local\\Temp/ipykernel_31724/4016513992.py:1: DeprecationWarning: executable_path has been deprecated, please pass in a Service object\n",
      "  browser = webdriver.Firefox(executable_path = DRIVER_PATH)\n"
     ]
    }
   ],
   "source": [
    "browser = webdriver.Firefox(executable_path = DRIVER_PATH)"
   ]
  },
  {
   "cell_type": "code",
   "execution_count": 6,
   "id": "5ee7affd-0159-4491-b66f-18840bff99f5",
   "metadata": {},
   "outputs": [],
   "source": [
    "def make_request(browser, relative_path):\n",
    "    # Making the request and rendering the browser.\n",
    "    browser.get(SITE_URL + relative_path)\n",
    "    \n",
    "    # Simulating vertical scrolling for handling lazy load.\n",
    "    check_height = browser.execute_script('return document.body.scrollHeight;')\n",
    "    while True:\n",
    "        browser.execute_script('window.scrollTo(0, document.body.scrollHeight);')\n",
    "        time.sleep(3)\n",
    "        height = browser.execute_script('return document.body.scrollHeight;')\n",
    "        if height == check_height: \n",
    "            break \n",
    "        check_height = height\n",
    "    \n",
    "    # Getting HTML content and passing it to BeautifulSoup for scraping analysis.\n",
    "    return BeautifulSoup(browser.page_source, 'html.parser')"
   ]
  },
  {
   "cell_type": "code",
   "execution_count": 7,
   "id": "c53923ea-a0ca-448e-af7e-7f29ae3f8900",
   "metadata": {},
   "outputs": [],
   "source": [
    "# Creating a connection to MongoDB to create the health module. \n",
    "client = MongoClient('localhost', 27017)\n",
    "db = client['news']\n",
    "collection = db['elespectador-politica']              "
   ]
  },
  {
   "cell_type": "code",
   "execution_count": 8,
   "id": "b1fcc0f9-8003-48d4-a36f-cb8fd63179cf",
   "metadata": {},
   "outputs": [],
   "source": [
    "# Getting HTML content for news listing page.\n",
    "\n",
    "news = []\n",
    "url = '/archivo/politica'\n",
    "\n",
    "for n in range(1, 2):\n",
    "    soup = make_request(browser, url + str(n))\n",
    "    # Finding the section where news are contained.\n",
    "    layout = soup.find(class_ = 'Layout-flexAds')\n",
    "    # Getting blocks from layout.\n",
    "    blocks = layout.find('section').find_all(recursive = False)\n",
    "    # Finding and concatenating news cards.\n",
    "    cards = blocks[0].find_all(class_ = 'Card') + blocks[1].find_all(class_ = 'Card')\n",
    "    # Building a list with title and relative path of the news founded.\n",
    "    for card in cards:\n",
    "        news.append({\n",
    "            'title': card.find('h2', class_ = 'Card-Title').find('a').get_text(),\n",
    "            'relative_path': card.find('h2', class_ = 'Card-Title').find('a')['href']\n",
    "        })"
   ]
  },
  {
   "cell_type": "code",
   "execution_count": 9,
   "id": "80f01f37-1b11-4206-aa40-c8304065c7a3",
   "metadata": {},
   "outputs": [],
   "source": [
    "for n in news:\n",
    "    # Getting HTML content for news page.\n",
    "    soup = make_request(browser, n['relative_path'])\n",
    "    \n",
    "    # Extracting news metadata.\n",
    "    n['datetime'] = soup.find(class_ = 'ArticleHeader-Date').get_text()\n",
    "    n['author'] = soup.find(class_ = 'ACredit-Author').get_text()\n",
    "    n['summary'] = soup.find(class_ = 'ArticleHeader-Hook').find('div').get_text()\n",
    "    \n",
    "    # Extracting and concatenating news full text.\n",
    "    paragraphs = soup.find_all(class_ = 'font--secondary')\n",
    "    n['full_text'] = ' '.join([p.get_text() for p in paragraphs])"
   ]
  },
  {
   "cell_type": "code",
   "execution_count": 10,
   "id": "9a308c36-1596-4158-bacd-b68093147191",
   "metadata": {},
   "outputs": [
    {
     "data": {
      "text/plain": [
       "[{'title': '“La Fiscalía no me da garantías”: Petro descarta, por ahora, renunciar al Congreso',\n",
       "  'relative_path': '/politica/elecciones-colombia-2022/la-fiscalia-no-me-da-garantias-gustavo-petro-descarta-por-ahora-se-renuncia-al-congreso/',\n",
       "  'datetime': '5 abr 2022  - 9:32 p.\\xa0m.',\n",
       "  'author': 'Redacción Política',\n",
       "  'summary': 'El candidato presidencial del Pacto Histórico se abstuvo de ahondar en la posible renuncia al Legislativo para centrarse en su campaña presidencial. En respuesta, el fiscal Francisco Barbosa dijo que “es lamentable que pretenda ser presidente de la república cabalgando sobre las instituciones judiciales”.',\n",
       "  'full_text': 'Gustavo Petro, candidato presidencial del Pacto Histórico y aún senador de la República, se refirió este martes a las peticiones que le han hecho de que renuncie a su curul para dedicarse de lleno a la campaña que viene realizando, y que incluye varios recorridos por el país. A pesar de que han sido varios los sectores que le han hecho llamado al candidato, que hoy aparece como puntero en la mayoría de encuestas, Petro descartó el tema “por falta de garantías”. >Lea más sobre las elecciones de 2022 y otras noticias del mundo político “Ya veremos”, respondió Petro a la pregunta que le hizo una periodista sobre los rumores de su renuncia. “No es un problema todavía vigente, porque no quiero quedar en manos de la Fiscalía. No me da garantías, como se probó antes de ser congresista, que lo soy no porque quise, sino por una ley que se aprobó y que determinaba que el segundo en votos fuese miembro del Senado”, agregó el candidato presidencial, quien reiteró en que “cuando haya garantías hablamos”. Así las cosas, si bien no rechazó del todo una posible renuncia, tampoco ahondó en el tema. Por supuesto, la reacción del fiscal Francisco Barbosa no se hizo esperar y, por medio de un video, le contestó a Petro pidiéndole respeto por la rama judicial. “Es lamentable que el señor Gustavo Petro pretenda ser presidente de la República cabalgando sobre las instituciones judiciales del país. La Fiscalía, sus funcionarios, la institucionalidad judicial colombiana y la rama judicial colombiana se respetan y hacen parte del Estado de derecho en Colombia. En democracia las reglas deben respetarse”, manifestó Barbosa.  Las palabras de Petro se dieron en medio de un nuevo espacio que abrió su campaña y que denominó “Petro te escucha”, y que tuvo como primera parada el departamento del Huila. Allí realizó el primero de estos encuentros, en los que pretende escuchar y recibir de los ciudadanos sus principales preocupaciones, para incluirlas en su plan de gobierno. “No es lo mismo un programa nacional que no pasa por el tamiz que le da el territorio, la región, la población que allí habita. Por eso se ideó este tipo de cabildos”, dijo Petro sobre el nuevo programa, que se abrió en Neiva con una conversación de ciudadana más de dos horas, cuyas conclusiones serán entregadas a su equipo programático. También dijo que, en caso de ser elegido presidente, estos espacios se realizarán de manera permanente.'},\n",
       " {'title': 'Participación presidencial en política electoral y lecciones de 1970',\n",
       "  'relative_path': '/politica/elecciones-colombia-2022/participacion-presidencial-en-politica-electoral-y-lecciones-de-1970/',\n",
       "  'datetime': '5 abr 2022  - 9:03 p.\\xa0m.',\n",
       "  'author': 'Juan Sebastián Lombo',\n",
       "  'summary': 'Los pronunciamientos del mandatario contra el candidato del Pacto Histórico rememoran elecciones de antaño, cuando Carlos Lleras fijó postura a favor de Misael Pastrana y en contra de Gustavo Rojas Pinilla.',\n",
       "  'full_text': 'Son varias las ocasiones en las que el presidente Iván Duque ha criticado las propuestas de Gustavo Petro sin mencionarlo con nombre y apellido. La primera vez se fue en contra del modelo pensional que propone el líder del Pacto Histórico: “Es robarse los ahorros de los ciudadanos para ponerlos al servicio de la politiquería”, dijo. La segunda fue más directo, y se refirió a la declaración del candidato en un debate en la que anunció que condonaría la deuda de los jóvenes con Icetex: “Mucho cuidado con los que ahora proponen acabar el Icetex y que dicen que ahí se cancelan todas las deudas”. Hubo una tercera, este lunes, cuando el mandatario anunció con bombos y platillos el uso de recursos de fondos de pensiones para construcción de infraestructura. Al igual que en las otras ocasiones, no mencionó a Petro, pero fue claro el destinatario de sus palabras. No solo ha sido Duque. Varios de los miembros de su gabinete también han enfilado sus baterías en contra del líder de izquierda. Está el caso del ministro de Defensa, Diego Molano. Aunque en esta ocasión no fue por las propuestas de Petro, sino por los señalamientos ante las irregularidades en operativos del Ejército. Petro cuestionó la muerte de civiles en un operativo militar en Putumayo, y la respuesta del funcionario fue irse en su contra y hasta replicar la etiqueta en Twitter #PetroEmbustero. Esos ataques indirectos y directos han sido calificados por muchos como una evidente participación en política electoral de los servidores públicos, incluido el jefe de Estado. Ahora, aunque no se ve bien en la discusión, no está tan claro qué tanto estarían violando el ordenamiento sobre el tema.'},\n",
       " {'title': 'Cámara rechazó objeciones de Duque a proyecto sobre acceso a la información',\n",
       "  'relative_path': '/politica/camara-rechazo-objeciones-de-duque-a-proyecto-sobre-acceso-a-la-informacion/',\n",
       "  'datetime': '5 abr 2022  - 7:01 p.\\xa0m.',\n",
       "  'author': 'Redacción Política',\n",
       "  'summary': 'El proyecto busca que se normalice los tiempos de respuesta a los derechos de petición. El Gobierno argumenta que los inconvenientes de la pandemia, que generaron esa particularidad, “no han sido superados”.',\n",
       "  'full_text': 'La Cámara se pronunció: con una aplastante votación, los representantes le dijeron al presidente Iván Duque que no comparten sus argumentos en contra del proyecto de ley que buscar normalizar los tiempos de respuesta a los derechos de petición. Aunque todavía falta que el Senado de la República se pronuncie, el mensaje sobre este tema parece ser contundente frente a la necesidad de que las instituciones respondan en el tiempo que es estos documentos de vital importancia para el acceso a la información.  La historia es de vieja data. Ante la pandemia del COVID-19, el Gobierno implementó el decreto 491. La norma modificó varios procesos, entre ellos, duplicó los tiempos de respuesta a los derechos de petición. Así las cosas, las instituciones pasaron de tener 15 días hábiles para responder derechos de petición, a poder hacerlo en 30. De forma más específica, las peticiones de documentos y de información pasaron de 10 a 20 días, como tiempo máximo para ser contestados, y la consulta a autoridades sobre materias a su cargo pasó de 30 a 35 días prorrogables. Dado que el país volvió paulatinamente a la normalidad, los legisladores entablaron un proyecto para dejar sin efecto el decreto 491. La iniciativa, de autoría de Juanita Goebertus, representante verde, fue aprobado meses atrás por el Congreso y ahora estaba en manos del presidente Iván Duque Márquez para que lo sancionara y lo convirtiera, formalmente, en ley de la República. A pesar del sí de los parlamentarios, el jefe de Estado le dio un no al proyecto por considerar que, entre otras cosas, no se ajustaba a la realidad del país.  En síntesis, el primer mandatario objetó el proyecto aprobado el pasado 28 de diciembre de 2021. “A juicio del Gobierno Nacional las medidas adoptadas en la norma que se objetan resultan inconvenientes en razón a que las circunstancias de salud pública y emergencia sanitaria aún no han sido superadas”, fue su argumento central.  Ante la situación, este martes en plenaria, la Cámara votó en contra de los motivos del Gobierno. 93 votos rechazaron sus objeciones, versus a los 23 apoyos que obtuvo en esta sesión. “Este era un proyecto que había surgido a raíz de revisar los decretos legislativos emitidos en la fase de la pandemia. Tenía todo el sentido que en la fase más estricta de la pandemia se hubiera prorrogado los tiempos para adecuar el proceso. Pero, dos años después de ese decreto, no tiene ningún sentido que eso siguiera así. Era una violación grave al derecho al acceso a la información pública, al periodismo, y a la veeduría ciudadana y control político”, dijo Goebertus. ¿Qué sigue? Aunque la derrota del Gobierno en la Cámara fue contundente, todavía falta que el Senado se pronuncie para conocer qué pasará con la propuesta legislativa. Si el Senado también rechaza las objeciones de Duque, el jefe de Estado no tendrá de otra que sancionar el proyecto y convertirlo en ley. '},\n",
       " {'title': '“El Nuevo Liberalismo no renació para ser un partido ‘faltón’”: Juan Manuel Galán ',\n",
       "  'relative_path': '/politica/elecciones-colombia-2022/el-nuevo-liberalismo-no-renacio-para-ser-un-partido-falton-galan-sobre-adhesion-de-negret-a-fico/',\n",
       "  'datetime': '5 abr 2022  - 6:11 p.\\xa0m.',\n",
       "  'author': 'Redacción Política',\n",
       "  'summary': 'Galán rechazó la adhesión de Carlos Negret a la campaña presidencial de Federico Gutiérrez, afirmando que quien haya participado como candidato al Congreso con el aval de la colectividad “tiene el deber de contribuir” a la campaña de Fajardo.',\n",
       "  'full_text': 'Faltan menos de dos meses para la primera vuelta presidencial y poco a poco se empiezan a definir los apoyos de las colectividades a los ocho candidatos que compiten la carrera hacia la Casa de Nariño. En medio de la crisis del centro, debido a la baja votación en la consulta del 13 de marzo, las peleas internas y los recientes acercamientos de Ingrid Betancourt con el Centro Democrático, se conocieron otros apoyos que causaron malestar en la Coalición Centro Esperanza, cuyo propósito inicial era aglutinar todas las propuestas de centro. >Lea más sobre las elecciones de 2022 y otras noticias del mundo político Carlos negret, exdefensor del Pueblo y excandidato al Senado por el Nuevo Liberalismo, anunció en la mañana de este martes la adhesión a la campaña de Federico Gutiérrez, candidato presidencial del Equipo por Colombia. “Recibo esta invitación como un gesto de Federico Gutiérrez y Rodrigo Lara Sánchez para aproximarse a sectores políticos y ciudadanos que encontramos en la defensa de los derechos humanos, las regiones, los recursos naturales y la democracia. La agenda central del país”, dijo Negret al anunciar su aterrizaje a una campaña diferente a la de la Centro Esperanza, que está en manos de Sergio Fajardo. Desde el Nuevo Liberalismo rechazaron la vocería que, a su juicio, tomó Negret para apoyar la campaña de Gutiérrez. Juan Manuel Galán, quien fue el precandidato presidencial de la colectividad y quedó segundo en la consulta presidencial de la Centro Esperanza con 487.019 votos, fue el primero en pronunciarse contra la adhesión. Por medio de una serie de mensajes en su cuenta de Twitter, el director del partido afirmó que “el Nuevo Liberalismo y todo aquel que sea militante, directivo o haya participado como candidato tiene el deber de contribuir a llevar a Sergio Fajardo a la Presidencia”. El mayor de los hermanos Galán fue enfático en que Fajardo es el candidato que apoyarán desde el Nuevo Liberalismo porque es “el que mejor interpreta el ideario deLuis Carlos Galán”. La adhesión de Negret a la campaña de Gutiérrez, que tomó a muchos por sorpresa porque ha sido un gran defensor del Acuerdo de Paz y antes de lanzarse al Senado entregó un informe a la Alcaldía de Bogotá sobre los hechos ocurridos en el marco del 9 de septiembre de 2020, podría traerle consecuencias para su futuro político. Galán anunció que el Tribunal de Garantías del Nuevo Liberalismo pronto entregará un pronunciamiento tras evaluar el episodio de acuerdo con los estatutos y el Acuerdo de Coalición suscrito por el Partido. Finalmente, Galán manifestó que “el Nuevo Liberalismo no renació para ser un partido ‘faltón’”, en referencia a que cumplirán los acuerdos y la palabra que dieron a los demás partidos y coaliciones de un centro que poco a poco se desmorona, pues también este martes se confirmó la llegada de varios congresistas antiguos y electos de Alianza Verde al Pacto Histórico. Galán no fue el único miembro del Nuevo Liberalismo que criticó la unión de Negret a una campaña diferente a la de Fajardo. Mabel Lara, quien fue cabeza de lista al Senado por esa colectividad, manifestó que “fiel a lo acordado en la Coalición Centro Esperanza, respetando los acuerdos, sigo firme en la campaña de Fajardo y Murillo”. La politóloga Angélica Martínez, quien también aspiró al Senado por la lista cerrada de ese partido, criticó por su parte que “este tipo de cosas pasan cuando la comunicación es unidireccional” y criticó que en las decisiones no se han tenido en cuenta a todas las personas que decidieron hacer parte de ese proyecto político. “Cuando se hablan los mismos con las mismas, y no abren el partido al diálogo colectivo”, concluyó. Otro reparo, esta vez sobre la atomización de la colectividad, hizo Germán Ricaurte, también aspirante al Senado. “Ya hay Nuevo Liberalismo con Fajardo, Nuevo Liberalismo con Fico y Nuevo Liberalismo con Petro. Logramos estar igual de fragmentados al Partido Verde en apenas 6 meses. No era fácil, ¿eh? Tiene su mérito. Falta un grupo con Luis Pérez”, aseguró.'},\n",
       " {'title': '“Ingrid Betancourt va a pagar caro su incoherencia”: Daniel Carvalho',\n",
       "  'relative_path': '/politica/elecciones-colombia-2022/ingrid-betancourt-va-a-pagar-caro-su-incoherencia-daniel-carvalho-representante-de-verde-oxigeno/',\n",
       "  'datetime': '5 abr 2022  - 4:26 p.\\xa0m.',\n",
       "  'author': 'Laura Angélica  Ospina',\n",
       "  'summary': 'Carvalho, congresista electo de Verde Oxígeno, dice que la campaña de Betancourt está “embolatada” y que él y De la Calle están “maniatados”.',\n",
       "  'full_text': 'Daniel Carvalho es representante electo por Antioquia, de Verde Oxígeno. Junto con Humberto de la Calle (electo al Senado), son los dos congresistas que representarán de 2022 a 2026 al partido dirigido por Ingrid Betancourt, candidata presidencial. Si bien él y Betancourt se encontraron a finales de 2021 en la Coalición Centro Esperanza para trabajar por un mismo objetivo, las cosas cambiaron desde que la aspirante a la Casa de Nariño abandonó la alianza de centro. (Lea: Los bandazos de Ingrid Betancourt) En entrevista con El Espectador, Carvalho asegura que Betancourt va a “pagar caro su incoherencia” y manifiesta que entre los “errores” de la candidata, está su disposición a dialogar con el expresidente Álvaro Uribe, del Centro Democrático. “Ella habla de una estrategia de partido, pero en realidad solo hay una estrategia de ella sola. Yo con eso me siento bastante incómodo y un poco desilusionado porque, insisto, la voluntad mía y de muchos es construir el partido Verde Oxígeno”, afirmó, mientras reiteró que por la ley electoral, él y De la Calle están “maniatados” frente a la primera vuelta.  Usted ha apoyado anteriormente a Sergio Fajardo y estuvo en el Concejo de Medellín por el movimiento Todos Juntos. ¿Cómo llegó a Verde Oxígeno? Entre noviembre y diciembre de 2021, el partido Verde Oxígeno nos abre las puertas para que podamos aspirar al Congreso con su aval. En ese momento, la doctora Ingrid Betancourt estaba haciendo de vocera y de mediadora de la Coalición Centro Esperanza, algo que nos entusiasmó mucho. También nos emocionó la invitación a hacer parte de su partido. En mi caso, no era simplemente por recibir un aval, sino porque realmente me interesa ayudar a construir un partido, dado que no me sentía identificado con ninguna de las colectividades existentes, y más si era al lado de personas que he admirado, como Ingrid Betancourt, Humberto de la Calle, y como el propio Sergio Fajardo, que inicialmente iba a ser parte de Verde Oxígeno. Como parte de Verde Oxígeno, ¿qué lectura hace de las decisiones de la candidata? No hay comunicación actualmente. Me enteré por Twitter que Betancourt iba a ser precandidata dentro de la consulta. Me pareció bacano que aspirara, pero me pareció raro que ni siquiera nos hubieran informado. Tiempo después y nuevamente por redes sociales, nos enteramos que ella había decidido salirse de la Coalición Centro Esperanza. Nadie nos avisó y tampoco nos informó. Recientemente, nos encontramos con que Betancourt quiere hacer acercamientos con el Centro Democrático, cosa de la que también nos enteramos por redes sociales. (Lea también: Exdefensor Carlos Negret se adhiere a la campaña de Federico Gutiérrez) Todo esto para decirte que no ha habido ningún tipo de comunicación con nosotros. Yo pedí una cita con la doctora Ingrid Betancourt hace 10 días que estuve en Bogotá, pero no pude tenerla. Me atendió la directora del partido. Entonces, siento que ella no está jugando esto colectivamente, no está respetando el hecho de que ya tiene dos congresistas electos y ella sigue tomando las decisiones de manera unipersonal. ¿Qué le respondió Sandra Pulido, directora del partido, cuando se sentaron a hablar? Yo simplemente le dije que a mí me interesaba construir partido y que la idea era trabajar juntos. Le pedí que le transmitiera a la doctora Ingrid Betancourt mi intención, y ella me dijo que listo, pero no pasó lo que esperaba, es decir, que fuéramos consultados en las decisiones que se aproximan. Ella habla de una estrategia de partido, pero en realidad solo hay una estrategia de ella sola. Yo con eso me siento bastante incómodo y un poco desilusionado porque, insisto, la voluntad mía y de muchos es construir el partido Verde Oxígeno. ¿Cómo ha sido la comunicación con Humberto de la Calle? Mi relación con él es absolutamente estrecha y permanente desde hace ya varios meses, dado que hicimos la campaña juntos. Eso me alegra mucho porque yo he estado en búsqueda de ese tipo de referentes políticos que me sigan entusiasmando para construir colectivamente. Por supuesto, con él compartimos estas preocupaciones y estamos esperando que se pongan en funcionamiento los mecanismos democráticos del partido. La colectividad debe hacer una asamblea ordinaria, definir unos nuevos estatutos, y es evidente que como congresistas electos tenemos una voz, un voto y un poder. Solo pedimos que se nos cumpla con esto porque aún no tenemos respuesta por parte del partido. ¿Qué consideraciones hace de las decisiones de Ingrid Betancourt? A mí me parece que son errores por parte de la doctora Ingrid. Ella se sintió muy mal dentro de la Coalición Centro Esperanza en el momento en que Alejandro Gaviria se sentó con unos políticos tradicionales. A partir de allí tomó la decisión de salirse de la misma, algo que para mí es incomprensible. Aún más lo es el hecho de que ahora busque al Centro Democrático. Eso me resulta un error y sobre todo una incoherencia: por un lado porque venimos de un partido declarado en el centro del espectro político, al cual no pertenece el Centro Democrático. Por otro lado, si uno está en contra de las maquinarias pues difícilmente puede aliarse con el partido que está gobernando el país a punta de un montón de caciques políticos. ¿Cuál es su postura actual? ¿Va a apoyar de lleno la campaña de Fajardo? Mientras ella sea la candidata por Verde Oxígeno, Betancourt no nos puede dar libertad a Humberto y a mí. Por más que ella lo diga, no podemos apoyar a ningún otro candidato porque la ley electoral está por encima de las decisiones del partido. La libertad de la que ella ha hablado en medios realmente no existe, nosotros estamos maniatados porque tanto el doctor Humberto como yo habíamos entrado en esta candidatura dentro de la coalición, con el objetivo y compromiso de respaldar al ganador de la consulta. Pero, como no podemos hacerlo, digamos que estamos sin candidato. Me encantaría que Ingrid Betancourt volviera a la Coalición Centro Esperanza y ayudara a construir colectivamente el centro ideológico. Pero ella dijo que eso no va a pasar. Sí, ella ha dicho que eso es como imposible. No creo que vaya a cambiar de opinión. Usted hace parte de Verde Oxígeno, ¿por qué no apoya la candidatura de Betancourt? No estoy de acuerdo con su candidatura porque ella rompió unos compromisos pactados, entre ellos estar en la coalición. Tampoco la apoyo porque no me siento identificado con el discurso suyo ni con sus estrategias, no me siento representado por ella. (Le puede interesar: Ingrid Betancourt le sugirió a De la Calle y Carvalho renunciar a Verde Oxígeno) ¿Cómo ve el rumbo de su campaña? Creo que la doctora Ingrid Betancourt va a pagar caro su incoherencia. En general, se le acusa de haber ayudado a dañar el ejercicio de la consulta de centro. Ha cometido un montón de errores, y ahora el gesto de acercarse al Centro Democrático no creo que le vaya a sumar mucho a ella. Siento que su campaña está embolada: no está subiendo en las encuestas, no genera emociones, no ha dado ideas muy buenas que peguen en el electorado. Veo que está perdida por culpa de su incoherencia. ¿Le echa la culpa a ella del mal desempeño de la Coalición Centro Esperanza? No solo ella. En general la coalición se equivocó porque se vieron mucho más las fricciones internas que la propuesta conjunta de la alianza. Esto me parece una lástima porque la Centro Esperanza venía varios años trabajando y las peleas se dieron más por los últimos en llegar a ella, es decir, por Ingrid Betancourt y Alejandro Gaviria. Hubo un error de esos nuevos llegados, pero también de los viejos que no supieron manejar la situación. >Lea más sobre las elecciones de 2022 y otras noticias del mundo político'},\n",
       " {'title': 'MOE pide a la Registraduría explicar nuevas inconsistencias en conteo de votos',\n",
       "  'relative_path': '/politica/elecciones-colombia-2022/moe-pide-a-la-registraduria-explicar-nuevas-inconsistencias-en-conteo-de-votos/',\n",
       "  'datetime': '5 abr 2022  - 3:33 p.\\xa0m.',\n",
       "  'author': 'Redacción Política',\n",
       "  'summary': 'La Misión de Observación Electoral (MOE), que presentó las primeras advertencias sobre la cantidad de mesas en cero, también halló inconsistencias en la transmisión de resultados de 14 departamentos, que afectaron a 17 listas a la Cámara de Representantes.',\n",
       "  'full_text': 'Son ampliamente conocidas las anomalías que hubo en el proceso de preconteo de votos de las elecciones legislativas y de consultas presidenciales del pasado 13 de marzo. Incluso, hubo evidencias y alertas previas a la jornada electoral, en las que se mencionaban inconsistencias en los tarjetones. Ese coctel terminó modificando sustancialmente los resultados del preconteo de votos y el escrutinio que aún se adelanta, lo que viene generando malestar entre la ciudadanía y los diferentes actores políticos. Algunas de estas advertencias las ha hecho la Misión de Observación Electoral (MOE). La voz de Alejandra Barrios Cabrera, directora de la veeduría, fue la primera en evidenciar que había “un comportamiento atípico con las votaciones del Pacto Histórico” y en solicitar la revisión de 28.466 mesas en las que esa coalición no tuvo sufragios. Para hacer tal afirmación, la MOE indicó que la colectividad de centro-izquierda registró 2.331.263 votos, pero hubo 28.466 mesas en ceros, algo que entendieron como un “comportamiento claramente atípico”. >Lea más sobre las elecciones de 2022 y otras noticias del mundo político Entre las muchas voces que alertaron sobre irregularidades en el preconteo y el acompañamiento que se ha hecho al escrutinio, se evidenciaron grandes diferencias en el número de votos para el Senado. Esto se traduce en que la composición final del Congreso va a cambiar respecto a la que reportó la Registraduría en los resultados previos, situación que viene generando una incertidumbre y desconfianza inédita en los procesos electorales del país. Hasta ahora, las irregularidades se habían centrado en la transmisión de información de los resultados de Senado y la conclusión fue que gran porcentaje de la responsabilidad de los errores fue del diseño de los tarjetones. No obstante, la MOE advirtió este martes sobre nuevas inconsistencias, esta vez en la votación para Cámara de Representantes, que fueron detectadas al hacer un análisis similar al que se hizo para Senado, pero que tomó más tiempo al tratarse de circunscripciones territoriales. >LEA: Registraduría y Alexander Vega se rajan en favorabilidad, de acuerdo a Invamer La MOE tomó los resultados del preconteo y los comparó con la información del escrutinio, que hasta el lunes registraba un avance del 99,8 %, y concluyó que hubo inconsistencias en 14 departamentos, que afectaron 17 listas a la Cámara de Representantes entre las que están el Pacto Histórico, Nuevo Liberalismo, Centro Democrático, Alianza Verde, Fuerza Ciudadana, Coalición Centro Esperanza, entre otras. Y si bien la entidad reconoce que las inconsistencias se vienen corrigiendo poco a poco, señaló que las dudas sobre los resultados de Cámara de Representante no se pueden achacar a los errores de diseño en el formulario o al diligenciamiento erróneo de los formularios E-14 por parte de jurados de votación, que es lo que por el momento ha explicado el registrador Alexánder Vega. >LEA: Los pecados de la Registraduría de Alexánder Vega “En Cámara de Representantes no se replica la dificultad de lectura de los E-14 que se alegó para el Senado de la República por el uso de asteriscos por parte de los jurados de votación, debido a que en los formularios se presenta una mejor distribución de espacios por el menor número de candidaturas por organización política. Tampoco se puede atribuir responsabilidad a la posición en la que se ubican las respectivas listas cerradas en los E- 14, toda vez que en este mismo sentido el diseño varía para cada departamento y por ende su ubicación”, explicó la entidad. Ante esas evidencias, para la MOE no basta con los cambios que anunció Vega al diseño de los formularios E-14, sino que considera necesario que desde la Registraduría se aclare el por qué de las diferencias que se encontraron entre el proceso de preconteo de votos y el contenido de los formularios E-14 (actas de escrutinio). “Los errores sistemáticos evidenciados se han traducido en una pérdida de confianza por parte de la ciudadanía y las organizaciones políticas, en la certeza del desarrollo de los procesos electorales y sus resultados”, concluyó la MOE, que presentó en la siguiente tabla los casos atípicos en que la diferencia entre el número de mesas en cero durante preconteo y escrutinio superan el 5 % de cada circunscripción territorial. '}]"
      ]
     },
     "execution_count": 10,
     "metadata": {},
     "output_type": "execute_result"
    }
   ],
   "source": [
    "news"
   ]
  },
  {
   "cell_type": "code",
   "execution_count": 11,
   "id": "10b5d919-17c3-4323-9686-9ff38ba3c615",
   "metadata": {},
   "outputs": [
    {
     "data": {
      "text/plain": [
       "<pymongo.results.InsertManyResult at 0x1f4db03bc10>"
      ]
     },
     "execution_count": 11,
     "metadata": {},
     "output_type": "execute_result"
    }
   ],
   "source": [
    "# Storing extracted information for further analysis.\n",
    "collection.insert_many(news)"
   ]
  },
  {
   "cell_type": "code",
   "execution_count": 12,
   "id": "0d23d9c0-1d86-4eab-a3ca-ac49cf4e6d39",
   "metadata": {},
   "outputs": [],
   "source": [
    "# Creating a connection to MongoDB to create the environment module. \n",
    "client = MongoClient('localhost', 27017)\n",
    "db = client['news']\n",
    "collection = db['elespectador-judicial']"
   ]
  },
  {
   "cell_type": "code",
   "execution_count": 13,
   "id": "470d584b-f515-4b79-9de8-812f2758ec9c",
   "metadata": {},
   "outputs": [],
   "source": [
    "# Getting HTML content for news listing page.\n",
    "\n",
    "newsJudicial = []\n",
    "url = '/archivo/judicial'\n",
    "\n",
    "for n in range(1, 2):\n",
    "    soup = make_request(browser, url + str(n))\n",
    "    # Finding the section where news are contained.\n",
    "    layout = soup.find(class_ = 'Layout-flexAds')\n",
    "    # Getting blocks from layout.\n",
    "    blocks = layout.find('section').find_all(recursive = False)\n",
    "    # Finding and concatenating news cards.\n",
    "    cards = blocks[0].find_all(class_ = 'Card') + blocks[1].find_all(class_ = 'Card')\n",
    "    # Building a list with title and relative path of the news founded.\n",
    "    for card in cards:\n",
    "        newsJudicial.append({\n",
    "            'title': card.find('h2', class_ = 'Card-Title').find('a').get_text(),\n",
    "            'relative_path': card.find('h2', class_ = 'Card-Title').find('a')['href']\n",
    "        })"
   ]
  },
  {
   "cell_type": "code",
   "execution_count": 14,
   "id": "4f8a27ef-d753-4aee-bad4-2a602eee50c9",
   "metadata": {},
   "outputs": [],
   "source": [
    "for n in newsJudicial:\n",
    "    # Getting HTML content for news page.\n",
    "    soup = make_request(browser, n['relative_path'])\n",
    "    \n",
    "    # Extracting news metadata.\n",
    "    n['datetime'] = soup.find(class_ = 'ArticleHeader-Date').get_text()\n",
    "    n['author'] = soup.find(class_ = 'ACredit-Author').get_text()\n",
    "    n['summary'] = soup.find(class_ = 'ArticleHeader-Hook').find('div').get_text()\n",
    "    \n",
    "    # Extracting and concatenating news full text.\n",
    "    paragraphs = soup.find_all(class_ = 'font--secondary')\n",
    "    n['full_text'] = ' '.join([p.get_text() for p in paragraphs])"
   ]
  },
  {
   "cell_type": "code",
   "execution_count": 15,
   "id": "2aeb60e5-7acf-4af8-a151-9fdfc2c4fef9",
   "metadata": {},
   "outputs": [
    {
     "data": {
      "text/plain": [
       "[{'title': 'La “ventanilla minera” se la juega toda en el Consejo de Estado',\n",
       "  'relative_path': '/judicial/la-ventanilla-minera-se-la-juega-toda-en-el-consejo-de-estado/',\n",
       "  'datetime': '5 abr 2022  - 9:00 p.\\xa0m.',\n",
       "  'author': 'Fernanda Torres Tovar',\n",
       "  'summary': 'Aunque ya existe una decisión de primera instancia, que tiene suspendidos los términos para entregar licencias mineras, el Consejo de Estado debe analizar si el Gobierno puede seguir otorgándolas o si, por el contrario, se está generando un daño al medio ambiente.',\n",
       "  'full_text': 'Al menos desde 2013, todo tipo de entidades, privadas y públicas, defensores de derechos humanos, ambientalistas y expertos hicieron una advertencia: la apuesta del gobierno Santos, conocida como la “ventanilla minera”, era una política para explotar la tierra, pero generando una grave afectación para el medio ambiente. El programa también se conoció como la “locomotora minera”, que arrancó motores a todo vapor, hasta que una acción popular se le atravesó en el camino en 2013. Un grupo de académicos, ambientalistas, expertos y el senador Iván Cepeda presentaron la demanda que buscaba suspender la solicitud de las licencias mineras en territorios protegidos como reservas naturales. Hoy el caso está por resolverse a instancias del Consejo de Estado. El recurso judicial tenía la finalidad de evidenciar los múltiples riesgos que enfrentan los ecosistemas con la llegada de la minería al territorio y demostrar “la situación caótica en la titulación minera”. Así las cosas, el pedido era que se suspendiera una resolución de ese año que le daba vida a lo que se llamó la “ventanilla minera”, que no es otra cosa que abrir la puerta a que las empresas que ejercen esa labor presenten solicitudes para el otorgamiento de permisos para desarrollar tal actividad. La iniciativa del expresidente Juan Manuel Santos fue rechazada por colectivos y expertos en medio ambiente. Lea aquí: Ordenan suspender el otorgamiento de títulos mineros en Colombia En la acción popular explicaron que la minería no solamente se ha extendido por todo el territorio, sino que lo ha hecho sobre zonas en las que genera graves efectos sociales, culturales y ambientales, algunas de las cuales están legalmente excluidas de la minería. En su análisis expusieron que, para 2013, la Procuraduría tenía reporte de 34 títulos mineros en Parques Naturales. Además, en el denominado “catastro minero” había reporte de que en un 6 % de los espacios de las comunidades negras existían títulos mineros. En un porcentaje menor, el 1 %, vinculaba territorios indígenas. Con esos antecedentes buscaron dejar sin fondo la resolución. “En esta resolución no se incluyeron otras áreas que, en virtud del principio de precaución y de prevención en materia ambiental, deberían ser excluidas de la minería, dadas las evidencias técnicas disponibles o las dudas razonables sobre los impactos de autorizar la actividad minera en dichos territorios”, dice el documento de 45 páginas, en el que ponen como base un informe de la Contraloría que da cuenta de que las autoridades ambientales no aplican el principio de precaución para proteger el ambiente de la actividad minera. Lea también: ‘Colombia no está preparada para la locomotora minera’ En pocas palabras, lo que alegaban era que muchas solicitudes que estaban en trámite afectarían reservas de recursos naturales, como humedales, páramos, bosques tropicales y parques nacionales. La acción popular que también fue apoyada por Teófilo Acuña, un líder social asesinado hace unas semanas, supuestamente, por líos de tierras, tuvo una primera decisión cinco años después de presentada. El Tribunal Administrativo de Cundinamarca, en 2018, les dio la razón. Suspendió la resolución hasta 2021 y le ordenó al Ministerio de Ambiente delimitar las zonas de reserva de recursos naturales para definir las áreas que deben estar libres de esa actividad. “La Sala considera que, conforme al derecho de un goce de un ambiente sano, se hicieron los respectivos análisis y consideraciones advirtiendo que el goce de un ambiente sano también recoge los recursos naturales, de manera que se protege el patrimonio público de la nación, al determinarse que el Ministerio de Ambiente debe delimitar las zonas excluibles de la actividad minera”, dijo la providencia de 2018, que amparó los derechos colectivos a un ambiente sano, la existencia del equilibrio ecológico y el manejo y aprovechamiento racional de los recursos naturales para garantizar su desarrollo sostenible y conservación de especies animales y vegetales. Le puede interesar: Proponen incentivar exploración minera El Tribunal fue claro y dijo que hasta que Colombia y su Gobierno no supieran dónde están ubicados sus recursos naturales, no podría haber licencias para exploración minera. Tanto Cepeda como las organizaciones ambientales y catedráticos celebraron la decisión, lo que no ocurrió con el Gobierno. Para 2018, la Agencia Nacional de Licencias Ambientales (ANLA), la Agencia Nacional de Minería (ANM) y los ministerios de Minas y Ambiente apelaron el fallo. Los documentos llegaron al Consejo de Estado y hoy reposan en el despacho del magistrado Roberto Serrato, quien pretende tomar una decisión una vez culmine Semana Santa. El consejero no tiene una tarea fácil. Además de las apelaciones a la decisión de primera instancia y las peticiones para cuidar el medio ambiente y las poblaciones que forman parte de estos ecosistemas, debe analizar si la resolución que solicita el otorgamiento de licencias mineras, que estaba suspendida hasta el año pasado, debe postergarse. Del mismo modo, debe verificar cuánto han cambiado esos espacios naturales, si se mantienen los mismos o, por el contrario, han disminuido o aumentado en el territorio nacional. Precisamente eso fue lo que puso en evidencia el Ministerio de Minas con la apelación que presentó. Lea aquí: ‘El país corre grandes riesgos con el actual modelo minero  La cartera dijo que “se presentan situaciones que impiden cumplir el fallo, pero no por falta de gestión de las entidades relacionadas con el proceso de emisión del título minero y el instrumento ambiental, sino por la imposibilidad fáctica y técnica real de llevar a cabo los estudios solicitados y, en especial, con el grado de certeza exigido”. El Ministerio explicó que, como han pasado casi 10 años desde que se presentó la acción popular, hoy es prácticamente imposible establecer con exactitud las áreas de reservas naturales. Y que el cambio no solo está en la dimensión de esos territorios, sino también en que se han expedido otras normas para regular los títulos mineros. El Ministerio de Ambiente, por su parte, consideró que la “ventanilla minera” no vulnera ningún derecho colectivo, puesto que permite la recepción de solicitudes de títulos mineros, y estos no conllevan a un daño ambiental porque, para acceder a ellos, deben cumplir con una serie de requisitos, como las autorizaciones ambientales. Sobre la delimitación de las zonas, aclaró que desde 2011 la cartera ha promovido la protección de la diversidad e integridad de los territorios, conservando áreas de especial importancia ecológica. Lea también: Vendrá nuevo represamiento de títulos mineros La Agencia Minera sumó su postura a la del Ministerio de Ambiente diciendo que “la ventanilla minera” no genera un peligro “grave e irreversible” debido a que, para otorgar los títulos mineros, se deben seguir procedimientos administrativos que se surten ante una autoridad ambiental que certifique que no habrá daño alguno. Además, aclaró que la “mera solicitud de titulación minera” no habilita adelantar una actividad. La ANLA adhirió su postura diciendo que “si no se obtiene la licencia ambiental, el proyecto no se podría ejecutar. En otras palabras, se podría solicitar 50 títulos y obtenerlos, pero, si no se accede a la licencia ambiental, el proyecto sería inviable” Las cartas de ambas partes están sobre la mesa. El magistrado Serrato ya presentó la ponencia en la que estudió si cambia la decisión del Tribunal Superior o la deja en firme. La clave de la decisión del Consejo de Estado es definir que, mientras Colombia no sepa dónde están sus recursos naturales y, por ende, qué zonas quedan excluidas para minería, no habrá licencias para explotación. En otras palabras, el futuro de la “ventanilla minera” está en el alto tribunal, que podría resolver esta pelea después de casi 10 años.'},\n",
       " {'title': 'Haití y Colombia hablan de la situación de exmilitares presos por magnicidio',\n",
       "  'relative_path': '/judicial/haiti-y-colombia-hablan-de-la-situacion-de-exmilitares-presos-por-magnicidio/',\n",
       "  'datetime': '5 abr 2022  - 8:41 p.\\xa0m.',\n",
       "  'author': 'EFE',\n",
       "  'summary': ' En la reunión, los dos gobiernos discutieron sobre la situación carcelaria de los presos colombianos y reiteraron el compromiso de ambos países con “un proceso justo” en la causa por el magnicidio del expresidente Jovenel Moise, perpetrado el 7 de julio de 2021.',\n",
       "  'full_text': 'El viceministro colombiano de Exteriores, Francisco Echeverri, se reunió este martes con autoridades haitianas en Puerto Príncipe para conversar sobre la situación de los 18 colombianos que están arrestados por su supuesta implicación en el asesinato del presidente Jovenel Moise, perpetrado en julio de 2021. Lea: Un colombiano imputado por el asesinato de Jovenel Moïse se declara no culpable Echeverri fue recibido por el primer ministro haitiano, Ariel Henry, y otros ministros haitianos, según informó el Gobierno a través de las redes sociales. En la reunión, las partes discutieron sobre la situación carcelaria de los presos colombianos y reiteraron el compromiso de ambos países con “un proceso justo” en la causa por el magnicidio, perpetrado el 7 de julio pasado. Le podría interesar: Las torturas que denuncian los colombianos detenidos por magnicidio en Haití El portavoz del Gobierno haitiano, contactado por Efe, dijo carecer de más detalles sobre el contenido de las conversaciones entre Henry y el viceministro colombiano. Las autoridades haitianas han arrestado a más de 40 personas por su supuesta implicación en el asesinato de Moise, entre ellos 18 exmilitares colombianos que son acusados de integrar el comando que irrumpió en la residencia oficial del mandatario para acabar con su vida. Otros tres colombianos fueron abatidos por la Policía haitiana en las horas posteriores al magnicidio. Los exmilitares detenidos se quejaron recientemente de haber sufrido torturas, amenazas, violaciones de sus derechos humanos y del debido proceso. El pasado octubre fue arrestado en Jamaica otro sospechoso colombiano, Marco Antonio Palacios, quien fue extraditado a Estados Unidos, donde es acusado del cargo de conspiración para cometer un asesinato, con relación a la muerte de Moise. La investigación del magnicidio en la justicia haitiana está estancada, tras la renuncia del juez de instrucción Garry Orélien el pasado enero, quien alegó motivos personales para dejar la causa. El pasado enero, la vicepresidenta y canciller colombiana, Marta Lucía Ramírez, criticó la ineficacia de la justicia haitiana para avanzar en la investigación del asesinato de Moise. En un encuentro con la prensa, Ramírez también dijo que el cónsul honorario en Puerto Príncipe, Julio Santa, ha sido amenazado por defender los derechos de los colombianos a un trato humanitario y a un juicio justo./ EFE'},\n",
       " {'title': 'Así se llegó a la masiva violación de derechos en centros de detención transitoria',\n",
       "  'relative_path': '/judicial/asi-se-llego-a-la-masiva-violacion-de-derechos-en-centros-de-detencion-transitoria/',\n",
       "  'datetime': '5 abr 2022  - 6:27 p.\\xa0m.',\n",
       "  'author': 'Redacción Judicial',\n",
       "  'summary': 'La Corte Constitucional declaró un estado de cosas inconstitucional en estaciones de Policía y Unidades de Reacción Inmediatas (URI). Conozca el paso a paso que conllevó a la nueva emergencia.',\n",
       "  'full_text': 'Toda persona que esté investigada o condenada por un delito en Colombia, y que esté en un centro de reclusión, vive en un estado de cosas inconstitucional, es decir, bajo una grave y masiva violación de los derechos que son amparados en la Constitución. Así lo ha declarado la Corte Constitucional en cuatro oportunidades, siendo la última ayer 4 de abril. La alta corte evidenció que, ahora, también en las estaciones de Policía y Unidades de Reacción Inmediata (URI) los detenidos permanecen en condiciones infrahumanas, tal como ha sucedido en los establecimientos de orden nacional desde 1998. En contexto: Corte declara estado de cosas inconstitucional en centros de detención transitoria La Sala Plena de la Corte constató que la situación de hacinamiento en los establecimientos penitenciarios está tan desbordada, que las personas capturadas y procesadas de un delito no pueden ingresar formalmente al sistema penitenciario. Quedan custodiadas en URIS y estaciones que no cumplen los parámetros de dignidad, donde son sometidos a una violación sistemática de sus derechos. A modo de ejemplo, en las estaciones de Policía de Bucaramanga hay una sobrepoblación del 818%, según datos de la Defensoría del Pueblo. ¿Cómo se llegó a esta emergencia? Aquí el paso a paso. El Instituto Nacional Penitenciario y Carcelario fue creado en 1992. Seis años después, internos se escudaron en la acción de tutela para alertar a la justicia de que en las prisiones no se estaba haciendo nada bien. En 1998, la Corte Constitucional se pronunció sobre dos acciones y declaró un ECI que, a pesar de los esfuerzos del ministerio de Justicia, no ha sido superado en más de dos décadas. Dos ciudadanos, presos en la cárcel de Bellavista (Medellín) y La Modelo (Bogotá), pusieron de presente las primeras quejas contra el vigente modelo penitenciario. Lea: Violación al Acuerdo de Paz y otros estados inconstitucionales en Colombia “En los últimos días se ha estado haciendo super insoportable la dormida, nos suben a las 4 de la tarde a los dormitorios y desde que subimos hasta que nos bajan al otro día nos toca quedarnos casi que inmóviles, pues no hay espacio ni para dormir en los baños. El Gobierno nos tiene arrumados en un corral y ahora quiere empacarnos en el corral (…) lo injusto es que no habemos 80 internos por pasillo, sino que habemos 170 o 180″, señaló un interno de la cárcel de Bellavista. En el curso del análisis de ambos expedientes, se realizaron inspecciones en noviembre de 1997. La conclusión fue contundente: las cárceles del país no son para seres humanos. El hacinamiento marcaba un 45,3%. Habías más de 42 mil internos en un espacio para 29 mil. Además, 19.515 solo estaban sindicadas y no había una condena en firme en su contra. Uno de los casos más graves alertado por la Defensoría fue en Bellavista, en Medellín, pues había 5.146 internos en una cárcel con capacidad para 1.500 personas. Le puede interesar: Hacinamiento en cárceles del país bajó a 16.7%: Ministerio de Justicia Entonces, el Inpec respondió que la sobrepoblación carcelaria se debía al crecimiento demográfico, a la crisis “socioeconómica, política, de cultura y valores de la sociedad”, concentración del hacinamiento en cárceles preventivas (por falta de garantías de seguridad), y hasta por la congestión judicial. Asimismo, existió una explosión de ordenes de medida de aseguramiento. Según la Defensoría, existía un “abuso” de ese mecanismo. Aparte, el 54.8% de los establecimientos contaban con una pésima condición de infraestructura física. Se ordenó que para 2002 se separaran completamente los sindicados de los condenados, cosa que nunca ocurrió. En una segunda declaratoria, la Corte Constitucional estudió nueve procesos de tutela originados en cárceles de Cúcuta, Valledupar, Bogotá, Medellín, Popayán y Barrancabermeja. Si bien la alta corte encontró que algunos déficits, con relación a 1998, habían sido superados, se reconocieron nuevas alertas por condiciones infrahumanas en 2013. Se les presentó atención a los centros de detención transitoria, pues entonces 1.836 personas estaban en estaciones de Policía, a la espera de ser trasladados a un sistema que, de igual forma, iba a representar todo un infierno. Una doble condena. Lea también: Cárceles colombianas en medio de la pandemia: atrapados sin salida “En las condiciones de hacinamiento y deterioro de la infraestructura penitenciaria y carcelaria, así como de los servicios que se presentan en cada establecimiento, la posibilidad de que se den tratos crueles, inhumanos e indignos aumenta notoriamente. La deshumanización de las personas en los actuales contextos carcelarios es evidente. Las condiciones en que son mantenidas las personas privadas de la libertad, por ejemplo, suelen ser relacionadas con las condiciones en que existen algunos de los animales relegados en nuestra sociedad a los lugares de suciedad”, reportó la Procuraduría para 2013. La Corte Constitucional encontró casos como la cárcel Picaleña, en Ibagué, donde sus dirigentes habían permitido que más de 3.000 autorizaciones de servicios de salud quedaran reprimidas. Por primera vez se habló de la condición de mujer en establecimientos de reclusión y se llegó a la conclusión de que, en Colombia, no se ha puesto un solo ladrillo para prisiones con enfoque de género. Incluso, se alertó al Inpec y al Ministerio de Justicia de que niños y niñas nacen en prisión y deben vivir sus primeros días en las condiciones que confrontan los adultos. “Inician su existencia en las más crueles e inhumanas condiciones”, señaló la Corte. Le puede interesar: Galería: 1.300% de hacinamiento en estación Norte de Policía de Bucaramanga Tal era la gravedad, que la entonces ministra de Justicia, Ruth Stella Correa, declaró un Estado de Emergencia Penitenciaria y Carcelaria. Un grave “indicio de calamidad pública”, concluyó la jefe de cartera. Entonces, la población carcelaria había crecido a 117.396 y vivía en un hacinamiento del 55%. Y no solo eso. La Corte encontró que los internos arañaban servicios de salud a través de acción de tutela (1.044 en 2008) y en el peor de los casos, accionando desacatos sobre esas mismas tutelas. Personas sindicadas terminaban en patios donde, al final, terminaban violadas y asesinadas. Acceder a una cama dependía del grosor del soborno a pagar. “Como parte de una política criminal y carcelaria respetuosa de un estado social y democrático de derecho, las entidades del Estado, sin importar la rama a la cual pertenezcan, deben tomar las medidas adecuadas y necesarias para evitar un uso indebido o excesivo de las medidas de aseguramiento que impliquen la privación de la libertad de una persona. El Estado tiene que tomar todas las acciones que correspondan para evitar que sea una realidad el adagio popular según el cual ‘la condena es el proceso’”, concluyó la Corte. La solución no está, según esta, en la apertura de cupos, en construir más cárceles. Lea: Hacinamiento en las URI y estaciones de policía de Bogotá sobrepasa el 500 % En 2015, la Corte Constitucional estudio de nuevo un cumulo de tutelas relacionadas con la deficiencia en la protección de los derechos de los internos, en más de 10 ciudades y municipios. La conclusión fue clara: la política criminal colombiana necesita un revés. Ha sido, en sus palabas, populista, reactiva, poco reflexiva, volátil, incoherente y subordinada a la política de seguridad. Lo más grave de todo, es que los métodos utilizados desde los noventa no contribuyen al fin último de la prisión: resocializar al delincuente. Lo cual se refleja en los índices de reincidencia. Por tanto, en esta declaratoria, se exhortó al Congreso, al Gobierno y a la Fiscalía que promuevan la creación y ejecución de un sistema amplio de penas y medidas de aseguramiento alternativas a la privación de la libertad. Además, se pidió crear una política criminal que sea respetuosa de los derechos humanos, en un ambiente que para 2015 retenía a 117.000 personas en 75.726 cupos. Las causas parecen estar en el Código Penal. Desde 2000 hasta 2011, se crearon 47 nuevos tipos penales, aumentaron las penas de 80 delitos existentes y, en general, persiste una desproporción en los internos que salen y los reclusos que llegan. Lea también: Hacinamiento en centros de detención transitoria de Medellín están sobre el 800% Ahora, en 2022, la Corte constató que el hacinamiento de las cárceles está tan desbordado, que las personas capturadas no pueden ser trasladadas, ni ingresar formalmente al sistema penitenciario. De tal manera que quedan custodiadas en espacios que no son aptos para garantizar una reclusión digna. ¿Las razones? Existen vacíos normativos en la distribución de competencias entre autoridades territoriales, altos índices de criminalidad y una aplicación abusiva de la detención preventiva, entre otras. El jalón de orejas, esta vez, va para el Inpec, la Uspec (que maneja los recursos) y el Ministerio de Justicia. Todo el sistema penitenciario está en emergencia y el gobierno de Iván Duque ya prometió una reforma. Su periodo acaba a mitad de este año. La Defensoría del Pueblo entregó datos a El Espectador en relación con el hacinamiento en URI’s y estaciones de Policía en las principales ciudades del país. Las cifras le otorgan toda la razón a la Corte Constitucional. En Bogotá, a corte de marzo de 2022, hay un 384% de hacinamiento; en Medellín la cifra está en 317.5%; en Barranquilla asciende a 454.6%; en Cúcuta está en 462%; en Pasto llega al 60%; en Cali la estadística marca 266%; y en Cartagena se habla de un 275.5%. Inpec, Uspec, Ministerio de Justicia y entidades territoriales, tienen un deber ordenado por la Corte Constitucional. Para conocer más sobre justicia, seguridad y derechos humanos, visite la sección Judicial de El Espectador.'},\n",
       " {'title': 'Caso Odebrecht: vuelven a rechazar solicitud de preclusión a favor de dos empresarios',\n",
       "  'relative_path': '/judicial/caso-odebrecht-vuelven-a-rechazar-solicitud-de-preclusion-a-favor-de-dos-empresarios/',\n",
       "  'datetime': '5 abr 2022  - 2:54 p.\\xa0m.',\n",
       "  'author': 'Redacción Judicial',\n",
       "  'summary': 'El Tribunal Superior de Bogotá negó por segunda vez la solicitud de la Fiscalía de cerrar un proceso contra Gilberto Hernán Saldarriaga Giraldo, representante de Megaland; y Gilberto Ramírez Varela, de la empresa Buisiness M&E. Eran investigados por, supuestamente, lavarle dinero a la corrupta compañía.',\n",
       "  'full_text': 'La Sala Penal del Tribunal Superior de Bogotá acaba de negar por segunda vez una cuestionada solicitud hecha por la Fiscalía en el caso Odebrecht. El ente investigador viene desde noviembre de 2021 solicitando a las autoridades judiciales que precluyan la investigación contra dos empresarios que habrían estado relacionados con la red de corrupción de la multinacional brasilera. Se trata  de Gilberto Hernán Saldarriaga Giraldo, representante de Megaland; y Gilberto Ramírez Varela, de la empresa Buisiness M&E. Para conocer más sobre justicia, seguridad y derechos humanos, visite la sección Judicial de El Espectador. Aunque en octubre de 2021, la Fiscalía llamó a juicio a los dos empresarios, que eran investigados por supuestamente lavar dineros de la compañía, un mes después le pidió a un juez precluir la investigación. Sin embargo, recibió la misma respuesta que ahora emite el Tribunal Superior de Bogotá: un “no” rotundo. En el escrito de acusación de la Fiscalía contra los Gilbertos había 12 personas que iban a declarar en su juicio, pero súbitamente la Fiscalía se echó para atrás tras entrevistar al empresario Roberto Prieto, quien ya fue condenado por este escándalo tras firmar un preacuerdo. Le podría interesar: Las señales del fiscal Barbosa para el futuro del caso Odebrecht en Colombia “Para pedir la preclusión su pobre fundamento radica en la entrevista a Roberto Prieto, cuya fuerza probatoria, según el fiscal, destruye toda la evidencia señalada. Para el Tribunal resulta manifiestamente extraño que a partir de una entrevista, que no una declaración bajo juramento, se caiga lo investigado durante varios años, evidencia que precisamente llevó a que se imputara (09/06/2021) primero, y se acusara (07/10/2021) luego”, señaló la Sala Penal del Tribunal Superior de Bogotá. Lea: Los detalles de la condena a Roberto Prieto por irregularidades en Ruta del Sol 3 Uno de los motivos expuestos por el fiscal del caso hace relación “a la premura con la que tuvo que radicar el escrito de acusación ante la aproximación al vencimiento de términos”, porque hasta ese momento asumió esa investigación, por eso “tuvo que presentarlo y al mismo tiempo emitir órdenes a policía judicial para recaudar otras pruebas, como la entrevista a Roberto Prieto, que se recepcionó el 29 de octubre de 2021, testigo de cargo y con la que pretendía sustentar la preclusión”.  “Sin embargo, tal como lo advirtió el juez de primera instancia, tal postura no resulta aceptable bajo el entendido que si no tenía la certeza de acusar a los procesados, debió proceder de la manera señalada en el artículo 294 de la norma procesal penal (vencimiento de términos), sin embargo, prefirió presentar el escrito acusatorio”, señaló el Tribunal Superior de Bogotá, al resolver la apelación interpuesta por la Fiscalía. El juez de primera instancia señaló en su momento, noviembre de 2021, que: “Frente a la inexistencia del hecho investigado se observa que los elementos traídos e la hipótesis central de la argumentación del ente acusador radica en que existió el hecho imputado, por cuanto lo cierto es que los interrogatorios rendidos se pueden inferir y reflejar que José Roberto Prieto Uribe señala de forma clara la existencia de presuntos recursos ilegales reflejando con esto la existencia de los elementos que podrían demostrar actuaciones que de contera deberán ser debatidas en juicio oral”. En febrero de 2021, el fiscal general Francisco Barbosa anunció que, unificaría las 14 líneas investigativas para atar nuevos cabos del caso Odebrecht. Además, anunció en ese momento que el coordinador de la Fiscalía Delegada ante la Corte Suprema, Gabriel Ramón Jaimes Durán, iba a ser el orientador del grupo especial. El ente investigador también señaló que durante tres meses permitió a través de su investigación unificar tres frentes investigativos al caso: Ruta del Sol II; Proyecto de Navegabilidad Río Magdalena; Interconector Tunjuelo-Canoas; Ruta del Sol IIl; y otras dos líneas más en las que pudieron incurrir en delitos. En esa misma oportunidad, la Fiscalía General entregó algunos de los nombres de las personas relacionadas con el caso que serán imputadas -entre ellos los “Gilbertos”-, por el delito de lavado de activos son: José Roberto Prieto; Eduardo José Zambrano Caicedo; representante legal de Consultores Unidos; Gilberto Hernán Saldarriaga Giraldo, representante de Megaland; Gilberto Ramírez Varela, de la empresa Buisiness M&E; y Natalia Isaza Vásquez.'},\n",
       " {'title': 'En acciones contra Clan del Golfo se supo de plan para atentar contra fiscal Monsalve',\n",
       "  'relative_path': '/judicial/en-acciones-contra-clan-del-golfo-se-supo-de-plan-para-atentar-contra-fiscal-monsalve/',\n",
       "  'datetime': '5 abr 2022  - 12:22 p.\\xa0m.',\n",
       "  'author': 'Redacción Judicial',\n",
       "  'summary': 'Luego de que la Fiscalía diera a conocer que se le asignó un esquema de seguridad a la funcionaria del ente investigador, la Policía indicó que la alerta sobre un atentado en su contra fue hecha por una “fuente humana”. Dicha información llegó en medio de las actividades que adelanta la Fuerza Pública contra las estructuras que quedaron luego de la captura de alias Otoniel en Antioquia.',\n",
       "  'full_text': 'El Director de Investigación Criminal e Interpol (Dijín) de la Policía, general Fernando Murillo, entregó detalles sobre cómo la institución conoció sobre un posible plan criminal para atentar contra la fiscal Angélica María Monsalve. La funcionaria del ente investigador denunció hace un par de semanas presiones en su contra tras citar a imputación de cargos a los empresarios Carlos y Javier Ríos Velilla, así como a su sobrino, el exconcejal de Bogotá Felipe Ríos Londoño. (Le puede interesar: Néstor Humberto Martínez ahorita es muy amigo de Francisco Barbosa: exfiscal)'},\n",
       " {'title': 'Los salvamentos de voto en la decisión de la Corte de la Línea Negra',\n",
       "  'relative_path': '/judicial/los-salvamentos-de-voto-en-la-decision-de-la-corte-de-la-linea-negra/',\n",
       "  'datetime': '5 abr 2022  - 6:00 a.\\xa0m.',\n",
       "  'author': 'Redacción Judicial',\n",
       "  'summary': 'Las magistradas Diana Fajardo y Karena Caselles se apartaron de la decisión mayoritaria que le da vida a la Mesa de Seguimiento y Coordinación a la Línea Negra, que tiene como fin entender y encontrar soluciones a los conflictos que se ciernen en los territorios de cuatro pueblos étnicos.',\n",
       "  'full_text': 'El pasado miércoles, la Sala Plena de la Corte Constitucional estableció lo que sería una hoja de ruta para que las comunidades indígenas que habitan en la denominada Línea Negra en la Sierra Nevada de Santa Marta tengan participación efectiva en asuntos que vinculan su territorio ancestral. La decisión, aunque no se conoce en su integridad, se registró por cuenta del estudio de dos tutelas que revisó el despacho del magistrado José Fernando Reyes en el que reclamaban vulneración a sus derechos debido a que se concedieron títulos mineros para proyectos que desarrollarán en su espacio y no fueron consultados. Una de las determinaciones del alto tribunal fue la creación de una Mesa de Seguimiento y Coordinación que estaba planteada en el Decreto 1500 de 2018 que le dio vida a la Línea Negra. La Mesa tiene la finalidad de concertar a diferentes autoridades, locales y nacionales, así como a los delegados de los pueblos indígenas para poner en conocimiento los proyectos que se pretenden adelantar en esa zona del país. Del mismo modo, le recordó al Congreso y al Gobierno, que en caso de que no se haya hecho, se delimite cartográficamente las comunidades que hacen parte de la Línea Negra.'}]"
      ]
     },
     "execution_count": 15,
     "metadata": {},
     "output_type": "execute_result"
    }
   ],
   "source": [
    "newsJudicial"
   ]
  },
  {
   "cell_type": "code",
   "execution_count": 16,
   "id": "69d1bf84-1e39-434e-9299-3688434acbd4",
   "metadata": {},
   "outputs": [
    {
     "data": {
      "text/plain": [
       "<pymongo.results.InsertManyResult at 0x1f4dc993340>"
      ]
     },
     "execution_count": 16,
     "metadata": {},
     "output_type": "execute_result"
    }
   ],
   "source": [
    "# Storing extracted information for further analysis.\n",
    "collection.insert_many(newsJudicial)"
   ]
  },
  {
   "cell_type": "code",
   "execution_count": 17,
   "id": "9d2b62cf-6e26-4553-8f9a-9c6b8ea7019b",
   "metadata": {},
   "outputs": [],
   "source": [
    "# Creating a connection to MongoDB to create the science module. \n",
    "client = MongoClient('localhost', 27017)\n",
    "db = client['news']\n",
    "collection = db['elespectador-economia']"
   ]
  },
  {
   "cell_type": "code",
   "execution_count": 18,
   "id": "0b0169a8-f4ef-479b-bda0-e8ba72e270c3",
   "metadata": {},
   "outputs": [],
   "source": [
    "# Getting HTML content for news listing page.\n",
    "\n",
    "newsEconomia = []\n",
    "url = '/archivo/economia'\n",
    "\n",
    "for n in range(1, 2):\n",
    "    soup = make_request(browser, url + str(n))\n",
    "    # Finding the section where news are contained.\n",
    "    layout = soup.find(class_ = 'Layout-flexAds')\n",
    "    # Getting blocks from layout.\n",
    "    blocks = layout.find('section').find_all(recursive = False)\n",
    "    # Finding and concatenating news cards.\n",
    "    cards = blocks[0].find_all(class_ = 'Card') + blocks[1].find_all(class_ = 'Card')\n",
    "    # Building a list with title and relative path of the news founded.\n",
    "    for card in cards:\n",
    "        newsEconomia.append({\n",
    "            'title': card.find('h2', class_ = 'Card-Title').find('a').get_text(),\n",
    "            'relative_path': card.find('h2', class_ = 'Card-Title').find('a')['href']\n",
    "        })"
   ]
  },
  {
   "cell_type": "code",
   "execution_count": 19,
   "id": "a49868ec-6107-40b5-93b4-3e26abf6ee6a",
   "metadata": {},
   "outputs": [],
   "source": [
    "for n in newsEconomia:\n",
    "    # Getting HTML content for news page.\n",
    "    soup = make_request(browser, n['relative_path'])\n",
    "    \n",
    "    # Extracting news metadata.\n",
    "    n['datetime'] = soup.find(class_ = 'ArticleHeader-Date').get_text()\n",
    "    n['author'] = soup.find(class_ = 'ACredit-Author').get_text()\n",
    "    n['summary'] = soup.find(class_ = 'ArticleHeader-Hook').find('div').get_text()\n",
    "    \n",
    "    # Extracting and concatenating news full text.\n",
    "    paragraphs = soup.find_all(class_ = 'font--secondary')\n",
    "    n['full_text'] = ' '.join([p.get_text() for p in paragraphs])"
   ]
  },
  {
   "cell_type": "code",
   "execution_count": 20,
   "id": "1749416d-9151-43ae-9350-02274ea5b31a",
   "metadata": {},
   "outputs": [
    {
     "data": {
      "text/plain": [
       "[{'title': 'Pensiones en Colombia: qué pasa hoy y hacia dónde debería ir el sistema',\n",
       "  'relative_path': '/economia/pensiones-en-colombia-que-pasa-hoy-y-hacia-donde-deberia-ir-el-sistema/',\n",
       "  'datetime': '5 abr 2022  - 9:00 p.\\xa0m.',\n",
       "  'author': 'Karen Vanessa Quintero Martínez',\n",
       "  'summary': 'Al hablar de pensiones en Colombia parece que por ahora solo hay un acuerdo: es necesario hacer una reforma. En este momento hay varias preguntas sobre la mesa: ¿Cómo aumentar la cobertura?, ¿Cómo crear un sistema más equitativo y más sostenible? Estas son algunas de las propuestas. ',\n",
       "  'full_text': 'Los problemas del sistema pensional ya están diagnosticados. El principal es la cobertura: hoy solo uno de cada cuatro adultos mayores puede pensionarse en el país, de ahí que esa debe ser la prioridad de la próxima reforma pensional. También hay otros temas como la sostenibilidad del sistema, los subsidios que llegan a quienes menos los necesitan y la competencia entre el Régimen de Prima Media (RPM) y el Régimen de Ahorro Individual con Solidaridad (RAIS). También puede leer: Pensiones más allá de los votos: hablemos sobre el futuro de las personas mayores'},\n",
       " {'title': 'La inflación no cede y llegó a 8,53 % en marzo',\n",
       "  'relative_path': '/economia/macroeconomia/la-inflacion-no-cede-y-llego-a-853-en-marzo-noticias-hoy/',\n",
       "  'datetime': '5 abr 2022  - 7:26 p.\\xa0m.',\n",
       "  'author': 'Redacción Economía',\n",
       "  'summary': 'La inflación llegó a 8,53 % para marzo, en su variación anual. En relación con febrero de este año, el indicador subió en 1 %.',\n",
       "  'full_text': 'La inflación continúa subiendo en Colombia. Para marzo, la variación anual en los precios (o sea, en comparación con el mismo mes de 2021) se ubicó en 8,53 %, mientras que en su evolución mensual (comparando febrero con marzo de este año) la cifra se ubicó en 1 %. El comportamiento mensual del IPC total en marzo de 2022 (1 %) se explicó principalmente por la variación mensual de las divisiones alimentos y bebidas no alcohólicas y alojamiento, agua, electricidad, gas y otros combustibles. Las mayores variaciones se presentaron en las divisiones Alimentos y bebidas no alcohólicas (2,84 %) y Muebles, artículos para el hogar y para la conservación ordinaria del hogar (1,83 %). “Aproximadamente la mitad de la inflación mensual fue contribuida por los alimentos consumidos al interior del hogar con 52 puntos básicos. El arroz y las frutas frescas (limones, mandarinas y mangos) están aportando seis puntos básicos cada uno, mientras que la leche y los huevos aportan cuatro puntos básicos cada uno”, reveló el director del DANE, Juan Daniel Oviedo. Y añadió que solo estos productos representan el 20 % de la inflación mensual. La papa pasó de una variación anual de 142,28 % en febrero de este año al 110,22 % en marzo. Esto no se ha visto reflejado en una reducción del precio y sigue aportando cuatro puntos básicos a loa inflación. La carne de cerdo (0,01 %) y la zanahoria (0 %) fueron los alimentos que no contribuyeron a la inflación. Las prendas de vestir y calzado registraron una variación mensual de -1,78 %, siendo esta la menor variación mensual. En marzo de 2022 las mayores disminuciones de precio se reportaron en las subclases: prendas de vestir para hombre (-3,91 %), prendas de vestir para mujer (-3,81 %) y otros artículos y accesorios de vestir para hombre y mujer, incluyendo artículos de vestir para adulto y bebé y materiales (-1,06 %).  Los mayores incrementos de precio se registraron en las subclases: lavado y planchado de ropa (1,64 %), calzado para hombre (0,98 %) y calzado para mujer (0,63 %). En marzo de 2022, la variación anual del IPC fue 8,53 % y también fueron los alimentos los principales protagonistas de las alzas porque tuvieron su mayor variación anual (25,37 %). Los mayores incrementos de precio se dieron en: papas (110,22 %), yuca para consumo en el hogar (85,14 %) y plátanos (82,57 %).  Los menores incrementos de precio se reportaron en las subclases arroz (0,54 %), arracacha, ñame y otros tubérculos (0,83 %) y concentrados para preparar refrescos (1,55 %).  La división Restaurantes y hoteles registró una variación anual de 13,55 %, siendo esta la segunda mayor variación anual, esto se explica por el aumento en los precios de las comidas en establecimientos de servicio a la mesa y autoservicio (14,70 %), bebidas calientes (13,59 %) y comidas preparadas fuera del hogar para consumo inmediato (13,11 %).  “Hay un comportamiento similar en las variaciones mensuales de este año. Ha habido una corrección, pero estamos hablando de inflaciones mensuales que son casi el doble de su promedio histórico”, explicó Oviedo. Lea también: ¿Qué está pasando con los precios de la papa, plátano, yuca, cebolla y tomate? Los datos, revelados por el DANE en la noche de este martes, dejan ver que los alimentos y los servicios públicos continúan comandando el alza en los precios generales para los consumidores colombianos. El aumento en los precios de los alimentos es preocupante de entrada, pero lo es aún más cuando se tiene en cuenta que las alzas en la comida tienden a golpear más los bolsillos de las personas con menores ingresos. Vale la pena decir que la inflación es, hoy en día, una de las principales amenazas para el crecimiento económico nacional, por un lado, pero también para el bienestar de millones de colombianos que hoy encuentran más difícil acceder a servicios y bienes básicos. Así mismo, el crecimiento en los precios de los alimentos significará, casi que automáticamente, que más personas entrarán oficialmente en la categoría de pobreza extrema, pues este renglón se mide exclusivamente con la capacidad monetaria de las personas para acceder a una dieta básica. Los datos sobre pobreza serán actualizados por el DANE para finales de este mes. Las expectativas de los analistas eran que, para su variación anual, el Índice de Precios al Consumidor se ubicara en 8,45 %. Esto según la más reciente Encuesta de Opinión Financiera, que realiza mensualmente Fedesarrollo. Los participantes en la encuesta también anticiparon que la inflación cerrará el año en 6,4 %, un pronóstico que comparte el Banco de la República. Además de pegarle al bolsillo de los colombianos vía aumentos de precios, la inflación también ha disparado una serie de alzas en las tasas de interés por parte del Banco de la República, que desde septiembre del año pasado viene elevando sus tipos con la esperanza de contener el crecimiento del IPC. En su más reciente decisión, la junta directiva del banco central elevó sus tasas de interés en 100 puntos básicos, llevando el indicador hasta 5 %, el incremento más duro en años. 💰📈💱 ¿Ya te enteraste de las últimas noticias económicas? Te invitamos a verlas en El Espectador.'},\n",
       " {'title': 'Duque sobre pensiones: de fondo, más de lo mismo y un pésimo momento político',\n",
       "  'relative_path': '/economia/duque-sobre-pensiones-de-fondo-mas-de-lo-mismo-y-un-pesimo-momento-politico/',\n",
       "  'datetime': '5 abr 2022  - 6:08 p.\\xa0m.',\n",
       "  'author': 'Redacción Economía',\n",
       "  'summary': 'Después de que el presidente Iván Duque anunció que las administradoras de fondos de pensiones invertirán $4,5 billones en obras de infraestructura y lo calificó como “histórico” explotaron las críticas en redes sociales y de parte de analistas y expertos en el sistema. ¿Qué hay detrás de este anuncio?',\n",
       "  'full_text': 'El anuncio del presidente Iván Duque avivó, nuevamente, el debate. Vale la pena revisar qué dijo, cómo lo entienden los expertos y qué implica, pero también hacer ciertas precisiones importantes en medio de esta discusión sobre cómo son y cómo deberían ser las pensiones en el país. En la noche de este lunes, el mandatario informó que las administradoras de fondos de pensiones (AFP) invertirán $4,5 billones en proyectos de infraestructura. Según sus cifras, con este aporte ahora existe un “portafolio de financiamiento a estos proyectos que supera los $9 billones y que se acerca a un punto del producto interno bruto (PIB)”. Además, los datos indican que la inversión de las AFP en las empresas que trabajan en el desarrollo de infraestructura, interconexión y proyectos energéticos es de cerca de $33 billones adicionales; entre esas empresas se encuentra ISA y Ecopetrol. El anuncio llega justo en medio de un debate sobre cómo debería ser la próxima reforma pensional y después de una polémica por las afirmaciones del candidato presidencial Gustavo Petro (que luego fueron aclaradas por su equipo). Lea: Fondos de pensión invertirán $4,5 billones en proyectos de infraestructura Para muchos esta es una jugada política para defender a las AFP (incluso exaltarlas), mostrar su impacto e importancia y atacar la propuesta de Petro. Algunos han incluso hablado de participación en política. Después de la introducción, Duque dijo: “Cualquier situación que busque expropiar los recursos del ahorro de las personas en los fondos de pensión tiene que ser rechazado de manera clara y contundente porque echarle mano a los recursos del ahorro de las personas para nacionalizarlos y convertirlos en dinero de bolsillo del Gobierno es un robo, un atraco. La mejor forma de demostrar porque hay una institucionalidad en el país que contribuye a canalizar ese ahorro hacia proyectos estratégicos lo estamos viendo hoy con esta nueva expresión de inversión estratégica de los fondos de pensión”. Antes de revisar los efectos de estas declaraciones, vale la pena conocer las afirmaciones de Santiago Montenegro, presidente de la Asociación Colombiana de Administradoras de Fondos de Pensiones y de Cesantías (Asofondos). En primer lugar, Montenegro puso sobre la mesa un elemento que es clave: “El compromiso del gremio con el sector no es nuevo”, pues las AFP han invertido en obras en todo el país desde hace mucho. “En total, hay inversiones por cerca de $33 billones con un alto contenido en infraestructura local que incluye concesiones de 4G, proyectos de logística, transporte, concesión de aeropuertos, colegios, hospitales(...)”. En total, las inversiones de las AFP en empresas colombianas es de unos $66,4 billones. En su intervención, Montenegro habló sobre la importancia de las inversiones de los fondos de pensiones que, citando un estudio de Fedesarrollo, ya le han sumado más de medio punto porcentual al crecimiento del país cada año; explicó que el dinero se invierte de manera transparente y que los fondos están bajo la supervisión del Ministerio de Hacienda, la Superintendencia Financiera y los organismos de control. Además, informó que hoy los activos superan los $358 billones, que la rentabilidad ha sido del 8 % en términos reales, es decir, por encima de la inflación, y que esa representa un 67 % del total ahorrado. Lea: La inútil polarización de la reforma pensional El anuncio que el presidente Duque llamó “un hecho histórico”, generó varias dudas. Ricardo Bonilla, economista y exsecretario de Hacienda de Bogotá, asegura que el hecho es una “intervención irresponsable en la campaña política por parte del presidente, él no es imparcial y lo está demostrando con actos como éste”. Una posición que también han tomado otras voces. Pero hay más matices. Mauricio Olivera, director de Econometría Consultores y expresidente de Colpensiones, dice que si bien es razonable invertir esos recursos en infraestructura como se hace en otros países, y siempre y cuando se garantice la rentabilidad, en el contexto del anuncio a las personas les surgen muchas dudas, especialmente en un momento en el que se acaba de dar la discusión por la supuesta expropiación que pretendía hacer Petro. “¿Cómo así que los fondos sí pueden usarlo, pero el Estado no puede usarlo? ¿Entonces yo sí estoy expropiado por el Estado, pero no estoy expropiado por los fondos? Es un tema políticamente muy complejo”. Para el experto es evidente que en ninguno de los dos casos cabe la palabra expropiación: en la propuesta de Petro se habla de la posibilidad de transformar el sistema pensional con un nuevo modelo en el que se usarían las cotizaciones de los afiliados del Régimen de Ahorro Individual (RAIS), pero no de quitarle el ahorro a nadie; y las AFP simplemente están invirtiendo los recursos que tienen en su poder, como lo han hecho siempre. Montenegro lo dejó muy claro: las inversiones en infraestructura no son algo nuevo. La duda de muchos es por qué, sino es algo nuevo, el presidente Duque lo celebró y lo calificó como “histórico”. Óscar Becerra, profesor de la Universidad de los Andes y experto en pensiones, reconoce que las AFP deben diversificar sus inversiones para lograr los mejores rendimientos a un riesgo aceptable, de ahí que las inversiones en proyectos de infraestructura pueden ser una buena alternativa; sin embargo, la considera inconveniente en este momento. “Un anuncio de esta naturaleza desde el podio presidencial y en presencia del líder gremial debilita el mensaje de buen gobierno corporativo por los conflictos de interés que surgen cuando el gobierno nacional es el que anuncia la decisión de inversión (haciendo referencia a las propuestas de un candidato) y cuando los principales fondos de pensiones hacen parte de conglomerados que son jugadores importantes del sector de infraestructura”. Le recomendamos: Pensiones más allá de los votos: hablemos sobre el futuro de las personas mayores Las declaraciones revivieron inconformidades con las inversiones de las AFP e incluso con sus comisiones. Bonilla pone sobre la mesa una pregunta: “¿Qué hará el Gobierno para evitar el conflicto de intereses que existe entre los propietarios de los fondos y sus empresas?”. Mario Valencia, docente universitario y consultor, asegura que más del 30 % de los ahorros pensionales en las AFP están invertidos en el Estado y agrega que “desde 2015 los fondos privados pueden invertir en empresas de su mismo grupo económico, los famosos autopréstamos(...)”. Si bien para él no es raro que esto ocurra, lo extraño es que el Gobierno haya hecho “un acto político” para este anuncio. “Es decir, la noticia no son los $4,5 billones, sino el respaldo político que le dio el presidente a Asofondos. Dicho sea de paso, este anuncio permite volver a reflexionar sobre cómo el negocio de pensiones creado en 1993 consistió en que el Estado trasladara el ahorro de la sociedad a empresas privadas para después ir a pedírselo prestado pagando intereses”. Valencia se refiere a que Asofondos propone una reforma en la que el régimen contributivo pasaría a capitalización con administradoras de fondos de pensiones públicas y privadas que operen bajo las mismas reglas. En otras palabras, el Régimen de Prima Media ya no existiría. De ahí que, para algunos, el anuncio de este lunes fue un espaldarazo a las AFP, precisamente, a la vuelta de la esquina de las elecciones presidenciales y en el momento en el que el país está hablando de pensiones y de una posible reforma que se viene prometiendo hace años. (Lea: Esta es la reforma pensional que propone Asofondos) Daniel Wills, vicepresidente Técnico de Asofondos, aseguró que las AFP eligen las inversiones que más benefician a los trabajadores: “equipos de inversionistas profesionales estudian el riesgo y la rentabilidad que ofrece cada opción. También se busca tener un portafolio diversificado, es decir, que no todos los huevos queden en la misma canasta”. Otra de las dudas que despertó la trasmisión desde la Casa de Nariño es si las AFP hicieron estas inversiones para apoyar la conectividad del país y los proyectos que está impulsando el Gobierno (como se puede inferir del anuncio del presidente) o porque es lo mejor para los cotizantes. Según Wills “la motivación nunca es ni será política”. El vicepresidente sostiene que las inversiones son transparentes, que el portafolio es público, se puede consultar en la página de la Superintendencia Financiera, y que cada afiliado puede revisar los resultados en su extracto. Vea: ¿Por qué es necesaria una reforma pensional en Colombia? De hecho, recordó que dos de los principales fondos de pensiones de Holanda comprometieron 2,5 millones de euros para inversiones en infraestructura. “Contribuyen a tener un portafolio diversificado (...) es por esto que es usual que los fondos de pensiones alrededor del mundo inviertan en infraestructura. En Colombia lo venimos haciendo hace algunos años, con muy buenos resultados”. Para el economista Martín Jaramillo, “vale la pena recordar que las inversiones en infraestructura en los fondos se llevan haciendo desde que se creó el régimen”. También suma otro elemento que está en medio del debate y de las críticas, si hay eventualidades en las obras, se asume que son las aseguradoras las que pagarán los platos rotos y no los inversionistas. A la larga, el gran problema es que la atención está en los enfrentamientos, en la polarización y en la supuesta “expropiación”, que no existe. Como muchos expertos, Olivera deja sobre la mesa que el gran problema sigue siendo la cobertura. “Estos temas en realidad no ayudan mucho, lo que hacen es polarizar más. El gran problema del sistema pensional es la cobertura y eso no tiene mucho que ver con estar en Colpensiones o estar en los fondos privados”. En eso también concuerda Bonilla. “Lo que se está hablando sencillamente es de la necesidad de que el país haga una reforma de fondo al sistema pensional porque poner a competir el régimen de Prima Media con los fondos privados no ha sido la mejor decisión. Ninguno de los dos está cumpliendo el objetivo. Los fondos privados el año pensionaron al 20 % de las personas que cumplieron la edad entre sus afiliados y Colpensiones al 30 % de los afiliados en la misma condición”, asegura. También hay otros temas como la inequidad del sistema (que dos personas con el mismo historial de cotizaciones reciban dos pensiones distintas por estar en Colpensiones o en las AFP), la sostenibilidad, los subsidios que llegan a quienes menos los necesitan, entre muchos otros. Lo preocupante es que los ataques frecuentes pueden no ser el mejor camino para tener un debate a la altura de lo que está en juego: la protección social en la vejez. Y aquí un dato que nunca está de más: en Colombia solo uno de cada cuatro adultos mayores logra pensionarse. Lea también: Tenemos que hablar de la brecha de género en las pensiones En resumen, las AFP llevan años invirtiendo en infraestructura; las inversiones (dicen los fondos) no tienen ambiciones políticas, pues su norte es aumentar la rentabilidad de los afiliados; no es correcto hablar de expropiación y es por lo menos cuestionable que esas inversiones sean catalogadas como históricas o como un argumento para preferir el RAIS. También llama la atención que algunos fondos son parte de conglomerados económicos que, además, también construyen infraestructura. De fondo, el gran tema es si estos enfrentamientos indirectos le traen algún beneficio al país o si, por el contrario, desvían la mirada del tema que debería ser prioridad para el próximo Gobierno: mejorar el sistema pensional. 💰📈💱 ¿Ya te enteraste de las últimas noticias económicas? Te invitamos a verlas en El Espectador.'},\n",
       " {'title': 'Proyectos de recuperación de siete corredores férreos ya tienen interventor',\n",
       "  'relative_path': '/economia/proyectos-de-recuperacion-de-siete-corredores-ferreos-ya-tienen-interventor-noticias-hoy/',\n",
       "  'datetime': '5 abr 2022  - 5:33 p.\\xa0m.',\n",
       "  'author': 'Redacción Economía',\n",
       "  'summary': 'INVÍAS adjudicó el contrato de interventoría de las obras de recuperación y mantenimiento de 424 km de corredores férreos inactivos en Antioquia, Quindío, Risaralda, Caldas, Huila y Cundinamarca. Estas vías férreas tendrán usos alternativos, como corredores ambientales, turísticos y deportivos.',\n",
       "  'full_text': 'El Instituto Nacional de Vías (INVÍAS) adjudicó al consorcio Ginpro INV, conformado por Ginprocol S. A. S. (95 %) y Ginprosa Colombia S. A. S. (5 %), el contrato de interventoría de siete corredores férreos inactivos en seis departamentos del país. El valor del contrato para las obras de recuperación y mantenimiento es de $17.137 millones y se enmarca en el Programa Vive Colombia: Vías Verdes Colombia. Este programa del Invías se constituyó como un proyecto de conservación y protección de los predios de la red férrea inactiva. El ferrocarril que va de La Estrella hasta La Pintada, en el Suroeste Antioqueño, representó la primera intervención de las que se tienen proyectadas. Le puede interesar: Fondos de pensión invertirán $4,5 billones en proyectos de infraestructura. “Adelantamos este programa que permite la conservación y protección de la infraestructura férrea inactiva al tiempo que se acondiciona para el aprovechamiento por las comunidades, incentivando actividades y alternativas temporales que permitan el disfrute de este patrimonio público y la reactivación económica del país”, aseguró Según Ángela María Orozco Gómez, ministra de Transporte. INVÍAS hará la interventoría de las obras de recuperación y conservación de 424 kilómetros de la red férrea inactiva con siete proyectos que ejecutarán las gobernaciones en los corredores de propiedad del instituto, así: Lea también: ¿Qué está pasando con los precios de la papa, plátano, yuca, cebolla y tomate? “Con la adjudicación nos sentimos orgullosos de seguir cumpliéndole a Colombia, demostrando nuestro compromiso con la restitución, apropiación, resignificación y disfrute del patrimonio público por todos los colombianos y, en especial, por las comunidades que se benefician directamente”, indicó el director de Ejecución y Operación del INVÍAS, Juan Esteban Romero Toro. Toro resaltó que el proyecto permitirá que más de un millón de personas pueda acceder a actividades culturales, deportivas, turísticas y ambientales que fortalecerán la economía de las regiones del país.  Con Vive Colombia: Vías Verdes de Colombia, el Gobierno Nacional busca reactivar la economía y lograr que los colombianos accedan al potencial cultural, patrimonial, ambiental y paisajístico de estas regiones caracterizadas por una geografía montañosa que se enriquece con la presencia de túneles, viaductos, estaciones y puentes férreos de gran valor para la memoria y la ingeniería colombiana. 💰📈💱 ¿Ya te enteraste de las últimas noticias económicas? Te invitamos a verlas en El Espectador.'},\n",
       " {'title': 'Amazon anuncia contratos para lanzar al espacio satélites de su red de Internet',\n",
       "  'relative_path': '/economia/amazon-anuncia-contratos-para-lanzar-al-espacio-satelites-de-su-red-de-internet/',\n",
       "  'datetime': '5 abr 2022  - 4:39 p.\\xa0m.',\n",
       "  'author': 'Agencia AFP',\n",
       "  'summary': 'La empresa estadounidense realizará 83 lanzamientos espaciales de satélites que tendrán como objetivo ofrecer servicios de internet.',\n",
       "  'full_text': 'Amazon anunció el martes acuerdos con las empresas Arianespace, Blue Origin y United Launch Alliance (ULA) para más de 80 lanzamientos espaciales que llevarán miles de satélites a la órbita baja terrestre, destinados a suministrar Internet de banda ancha a millones de personas. “Los contratos prevén hasta 83 lanzamientos en un periodo de cinco años, permitiendo a Amazon desplegar la mayoría de su constelación de 3.236 satélites”, dijo la compañía en un comunicado. El gigante del comercio electrónico, que se ha diversificado con sus servicios de almacenamiento digital, dijo que era el mayor encargo comercial de cohetes en la historia. Sin embargo, el costo total y el calendario de lanzamientos acordados para hacer realidad el Proyecto Kuiper de Amazon no fueron publicados. Le puede interesar: ¿Internet para todos?: esto nos dicen las cifras del acceso a la red en Colombia. “Aún tenemos mucho trabajo por delante, pero el equipo ha seguido alcanzando hito tras hito en cada aspecto de nuestro sistema de satélites”, dijo el vicepresidente de Amazon Dave Limp en el comunicado. “El Proyecto Kuiper proveerá banda ancha rápida y asequible a decenas de millones de clientes en comunidades desatendidas y marginadas alrededor del mundo”. A pesar de su envergadura, el proyecto de Internet rápido por satélite de Amazon no es el primero. El multimillonario Elon Musk, jefe de la compañía espacial SpaceX, ya ha colocado 2.000 satélites en órbita —sobre un total programado de 12.000— para crear su propia red de Internet Starlink, que ya vende servicios en muchos países. Y la británica OneWeb ya envió unos 428 de los 648 satélites previstos para su propio servicio. También lea: Elon Musk entra al directorio de Twitter y Wall Street celebra. ULA obtuvo la mayor parte de los contratos, con 38 lanzamientos. Esta empresa conjunta entre los gigantes estadounidenses Boeing y Lockheed Martin, que opera desde Cabo Cañaveral en Florida, invertirá para tener una segunda plataforma en ese sitio emblemático de la historia espacial, lo que permitirá una “mayor cadencia de lanzamientos” para su cohete Vulcan Centaur. Por su lado, Blue Origin, que al igual que Amazon fue fundada por el multimillonario Jeff Bezos, realizará 12 lanzamientos usando su futuro cohete New Glenn, con opción para otros 15 adicionales. Pero la empresa también se beneficiará del contrato con ULA porque fabrica los motores del Vulcan Centaur. El único participante no estadounidense, la francesa Arianespace quedó encargada de 18 lanzamientos, a bordo del Ariane 6. El Proyecto Kuiper apunta a proveer de Internet de alta velocidad a hogares, escuelas, operaciones de emergencia y otros en lugares que carecen de una conectividad confiable, según Amazon, que ya ha dicho haber invertido “más de 10.000 millones de dólares” en esta iniciativa. “Desde la Comisión Federal de Comunicaciones nos solicitan tener la mitad de nuestra constelación lanzada a mediados de 2026. Es decir, aproximadamente 1.600 satélites. Estamos trabajando en ese objetivo”, dijo el vicepresidente de tecnología del Proyecto Kuiper, Rajeev Badyal. Puede leer: Atención streamers: Twitch anuncia que su aplicación para PC dejará de funcionar. Badyal también dijo que Amazon planeó desde el inicio contratar varias empresas de lanzamiento espacial, con vistas a reducir los riesgos de retrasos y ahorrar dinero mediante la competencia. “Estos enormes cohetes de carga pesada también nos permiten desplegar más de nuestra constelación (de satélites) con menos lanzamientos”, afirmó. Se espera que el gran número de lanzamientos previstos impulse este sector en Estados Unidos y Europa. “Este contrato, el más grande que hemos firmado, es un gran momento en la historia de Arianespace,” dijo su director ejecutivo, Stephane Israel, en el comunicado. La cabeza de ULA, Tory Bruno, saludó por su lado “el comienzo de una era emocionante” para su compañía y toda la industria estadounidense de lanzamientos espaciales. Aunque ni Amazon ni Arianespace dieron detalles sobre el inicio del proyecto o el cronograma, Israel dijo esperar “seis lanzamientos por año en tres años”. Cada Ariane 6 llevará unos 35 satélites Kuiper. 💰📈💱 ¿Ya te enteraste de las últimas noticias económicas? Te invitamos a verlas en El Espectador.'},\n",
       " {'title': 'Energía eólica costa afuera: ya se publicó la hoja de ruta en Colombia',\n",
       "  'relative_path': '/economia/energia-eolica-costa-afuera-ya-se-publico-la-hoja-de-ruta-en-colombia-noticias-hoy/',\n",
       "  'datetime': '5 abr 2022  - 3:24 p.\\xa0m.',\n",
       "  'author': 'Redacción Economía',\n",
       "  'summary': 'Con esta medida se aprovechará el potencial de 50 GW (gigavatios) que tiene el país en esta fuente de generación y los vientos de 13 m/s, que superan el promedio mundial.',\n",
       "  'full_text': 'Este martes 5 de abril el ministro de Minas y Energía, Diego Mesa, anunció que Colombia publicó la hoja de ruta para la incorporación de la energía eólica costa afuera en Colombia. Esta busca aprovechar la velocidad del viento para generar energía eléctrica y hace parte de la apuesta por as energías renovables en el país. “Incorporamos los comentarios del público. Esto es muy importante porque Colombia tiene unos recursos eólicos costa afuera de talla mundial”, aseguró Mesa. Por su parte, el viceministro de Energía, Miguel Lotero resaltó que la importancia de este hecho para el sector energético del país. “Hace parte del proceso de diversificación de nuestra matriz, que empezamos en 2018, y hoy incorporamos esta tecnología con la hoja de ruta”, dijo Lotero. Le puede interesar: Energía eólica costa afuera: ¿alivio en tarifa de energía? Desde el ministerio afirman que son 50 GW de potencial en la costa Caribe, esta representa casi tres veces lo que hoy en todo el territorio nacional en las diferentes tecnologías que es de cerca de 7,5 GW. El objetivo de la hoja de ruta es aprovechar los vientos de la región Caribe que son de alrededor de 13 m/s, lo que supera el promedio mundial. “Podemos seguir aprovechando el potencial en inversiones en toda la cadena logística y en los parques de generación que se van a construir próximamente. Lo que queremos hacer es seguir diversificando nuestra matriz y demostrar con hechos que la transformación energética es posible”, finalizó Lotero. Además, el Ministerio de Minas y Energía había anunciado que acompañó la firma de un memorando de entendimiento entre Copenhague Infrastructure Partners (CPI) y la Alcaldía de Barranquilla, a través de su empresa Alumbrado Público de Barranquilla S.A.S. (APBAQ), para avanzar en el proyecto de energía eólica costa afuera en el país. Puede leer: Así se ve la transición energética en Colombia. La iniciativa, si se concreta, tendría una capacidad instalada de 350 megavatios (MW) e inversiones cercanas a los US$1.000 millones. La agilidad para poner en funcionamiento las iniciativa de producción de energía eólica costa afuera dependerá de la claridad en los procedimientos y reglas. Por eso es importante que se establezca como una tarea hacia el futuro el desarrollo de plantas eólicas marinas para aprovechar ese potencial importante en la costa Atlántica, señala el director de SER Colombia, quien se atreve a pronosticar que este proceso “se va a demorar varios años”. 💰📈💱 ¿Ya te enteraste de las últimas noticias económicas? Te invitamos a verlas en El Espectador.'}]"
      ]
     },
     "execution_count": 20,
     "metadata": {},
     "output_type": "execute_result"
    }
   ],
   "source": [
    "newsEconomia"
   ]
  },
  {
   "cell_type": "code",
   "execution_count": 21,
   "id": "ac9da604-9c1b-4abe-99b2-29c5e2858834",
   "metadata": {},
   "outputs": [
    {
     "data": {
      "text/plain": [
       "<pymongo.results.InsertManyResult at 0x1f4dd29a520>"
      ]
     },
     "execution_count": 21,
     "metadata": {},
     "output_type": "execute_result"
    }
   ],
   "source": [
    "# Storing extracted information for further analysis.\n",
    "collection.insert_many(newsEconomia)"
   ]
  },
  {
   "cell_type": "code",
   "execution_count": 22,
   "id": "198f8a28-8858-48fc-816a-2403061d9bb1",
   "metadata": {},
   "outputs": [],
   "source": [
    "# Creating a connection to MongoDB to create the technology module. \n",
    "client = MongoClient('localhost', 27017)\n",
    "db = client['news']\n",
    "collection = db['elespectador-investigacion']"
   ]
  },
  {
   "cell_type": "code",
   "execution_count": 23,
   "id": "133a2455-666b-448c-8cf3-4ec753d67836",
   "metadata": {},
   "outputs": [],
   "source": [
    "# Getting HTML content for news listing page.\n",
    "\n",
    "newsInvestigacion = []\n",
    "url = '/archivo/investigacion'\n",
    "\n",
    "for n in range(1, 2):\n",
    "    soup = make_request(browser, url + str(n))\n",
    "    # Finding the section where news are contained.\n",
    "    layout = soup.find(class_ = 'Layout-flexAds')\n",
    "    # Getting blocks from layout.\n",
    "    blocks = layout.find('section').find_all(recursive = False)\n",
    "    # Finding and concatenating news cards.\n",
    "    cards = blocks[0].find_all(class_ = 'Card') + blocks[1].find_all(class_ = 'Card')\n",
    "    # Building a list with title and relative path of the news founded.\n",
    "    for card in cards:\n",
    "        newsInvestigacion.append({\n",
    "            'title': card.find('h2', class_ = 'Card-Title').find('a').get_text(),\n",
    "            'relative_path': card.find('h2', class_ = 'Card-Title').find('a')['href']\n",
    "        })"
   ]
  },
  {
   "cell_type": "code",
   "execution_count": 24,
   "id": "01a5c03c-6696-4a83-bb88-dff0478e0148",
   "metadata": {},
   "outputs": [],
   "source": [
    "for n in newsInvestigacion:\n",
    "    # Getting HTML content for news page.\n",
    "    soup = make_request(browser, n['relative_path'])\n",
    "    \n",
    "    # Extracting news metadata.\n",
    "    n['datetime'] = soup.find(class_ = 'ArticleHeader-Date').get_text()\n",
    "    n['author'] = soup.find(class_ = 'ACredit-Author').get_text()\n",
    "    n['summary'] = soup.find(class_ = 'ArticleHeader-Hook').find('div').get_text()\n",
    "    \n",
    "    # Extracting and concatenating news full text.\n",
    "    paragraphs = soup.find_all(class_ = 'font--secondary')\n",
    "    n['full_text'] = ' '.join([p.get_text() for p in paragraphs])"
   ]
  },
  {
   "cell_type": "code",
   "execution_count": 25,
   "id": "2b2890a4-ab3b-497b-bc2f-05d3775d3022",
   "metadata": {},
   "outputs": [
    {
     "data": {
      "text/plain": [
       "[{'title': 'Crisis carcelaria en Colombia: ¿Qué hacer con el Inpec?',\n",
       "  'relative_path': '/investigacion/crisis-carcelaria-en-colombia-que-hacer-con-el-inpec/',\n",
       "  'datetime': '4 abr 2022  - 1:48 p.\\xa0m.',\n",
       "  'author': 'Nicolás Achury González',\n",
       "  'summary': 'Los paseos del empresario Carlos Mattos por Bogotá, la fuga de alias “Matamba”, narcotraficante del Clan del Golfo, y el escape de Claudia Peñaranda, protagonista del caso Invima, reafirman un problema carcelario histórico en el país. El Inpec ha tenido escándalos de corrupción, fugas, violencia y complicidad con criminales. Expertos proponen una reforma estructural del sistema penitenciario, pero enfocándose en la política criminal del Estado.',\n",
       "  'full_text': 'Desde hace 23 años, el inspector Nelson Barrera ha estado en los centros penitenciarios de Bogotá. En la actualidad, trabaja en la cárcel La Modelo y es el presidente del Sindicato de Empleados Unidos Penitenciarios (SEUP). Barrera asegura que “La corrupción sí es tan fuerte como parece. Los delincuentes sí tienen mucho control sobre las cárceles. No podemos tapar el sol con un solo dedo”. Además, el funcionario advierte que se ha tomado una mala decisión en la política carcelaria y en el Inpec: concentrar demasiado poder delincuencial en algunas cárceles. Sobre esto, dice que, específicamente en la cárcel La Picota, hay “personajes demasiado poderosos y con mucho poder adquisitivo, lo que lleva a que los guardianes sean vulnerables y que algunos les empiecen a recibir dinero a cambio de favores”. (Le puede interesar: “Matamba”, Pablo Escobar, Aida Merlano y otras grandes fugas en Colombia) La crisis penitenciaria ha configurado una inestabilidad en la dirección del Instituto Nacional Penitenciario y Carcelario (Inpec). Según cifras de la Corporación Excelencia en la Justicia (CEJ), el cargo del director de esta entidad ha tenido una altísima rotación (cambia cada año y medio) por lo que la organización advirtió sobre “la debilidad de una política penitenciaria de largo plazo en el país, en el desarrollo de su labor de realizar seguimientos permanentes a políticas públicas en materia de justicia”. El último director del Inpec en salir fue Mariano Botero, quien presentó su carta de renuncia una vez se conocieron las controversiales imágenes de los paseos de Carlos Mattos. Según el inspector Barrera, los casos recientes que implican al Inpec son solo la muestra de una crisis histórica a la que nadie le ha querido poner el pecho. El funcionario asegura que “Lo primero que tenemos que decir públicamente es que le pedimos perdón a la sociedad por el actuar de unas manzanas podridas. Ahora, buscamos prevenir para que esto no vuelva a suceder. Lo segundo es que acá hemos pensado en que todo se puede arreglar con las prisiones encerrando a las personas. Lo que estamos haciendo es bodegas donde acumulamos personas, pero no estamos pensando en el ser, en la resocialización”. (Puede leer: ¿Hasta cuándo la vergüenza en el Inpec? A su vez, Norberto Hernández Jiménez, profesor de la Universidad Javeriana y conjuez de la Corte Suprema de Justicia, asegura que “el problema es más de fondo, no hay que enfocarse únicamente en el Inpec. Hay que ir más atrás y pensar en temas de política criminal. Como está en la actualidad el sistema y la cantidad de personas que recibe es imposible pensar en una buena administración y esto genera actos de corrupción. Es decir, si solamente se reforma el Inpec no se logra hacer nada”. Bajo esta premisa, el profesor Hernández plantea que la crisis carcelaria tiene que ver más con lo estipulado por la Corte Constitucional sobre la violación sistemática, masiva y generalizada de los derechos fundamentales y no únicamente sobre la responsabilidad del Inpec. Sobre la situación actual de los establecimientos penitenciarios, la Corte Constitucional, en la sentencia T-762, evidenció fallas de carácter estructural en las que establece que “la política criminal colombiana ha abandonado la búsqueda del fin resocializador de la pena, lo que a su vez genera mayor criminalidad, pues ese abandono contribuye a convertir los establecimientos de reclusión en verdaderas universidades del delito”. De igual forma, la Corte atribuye a la crisis los altos niveles de hacinamiento, los problemas sanitarios, las condiciones bajas de resocialización, la corrupción al interior de los centros de reclusión y la tendencia de la política criminal colombiana al llamado “populismo punitivo”. (Le puede interesar: Brigadier general Tito Yesid Castellanos se posesiona como director del Inpec) Sobre este último punto, la Corte advirtió que el auge del populismo punitivo en el país tiene efectos nocivos para la política criminal. La entidad encontró que, desde el año 2000 hasta el 2011, se realizaron modificaciones a la legislación penal, creando 47 nuevos tipos penales y aumentando las penas de 80 delitos existentes. En este sentido, las cárceles han llegado a convertirse paulatinamente en el eje de la política criminal, como asegura la Corte: “La extendida percepción de inseguridad ha sido también responsable de que se la politice y ha abierto la puerta al aprovechamiento político del miedo al crimen y al uso del populismo punitivo”. (Puede leer: El Congreso cae, de nuevo, en el populismo punitivo) Según el profesor Hernández, una reforma estructural del Inpec tiene que pasar también por una pregunta sobre la política criminal del Estado. El Congreso de la República y la persona que asuma la presidencia del país deben enfrentar con responsabilidad la crisis carcelaria que lleva años de escándalo tras escándalo. Además, Hernández asegura que “no creo que la solución sea liquidar el Inpec porque debe haber un órgano que permita la administración del sistema, pero un sistema que se pueda administrar y que la población carcelaria sea óptima. Como está en este momento es imposible. Además, la solución tampoco es privatizar las cárceles porque, lamentablemente, lo que muestra la experiencia internacional es que las compañías privadas terminan haciendo lobby para que haya más delitos y, por lo tanto, entren más personas a la cárcel. Nuestros gobernantes tienen una gran responsabilidad en lo que viene”.'},\n",
       " {'title': '“Matamba”, Pablo Escobar, Aida Merlano y otras grandes fugas en Colombia',\n",
       "  'relative_path': '/investigacion/grandes-fugas-en-colombia-de-pablo-escobar-a-matamba/',\n",
       "  'datetime': '4 abr 2022  - 5:00 a.\\xa0m.',\n",
       "  'author': 'Nicolás Achury González',\n",
       "  'summary': 'La fuga de alias “Matamba”, narcotraficante del Clan del Golfo, o AGC, que estaba a punto de ser extraditado a Estados Unidos y que huyó de la cárcel de La Picota disfrazado de dragoneante, no es nueva en los anales de la justicia colombiana. La historia de los fugados constituye un capítulo más de impunidad en las cárceles.',\n",
       "  'full_text': 'El primero que salta a la memoria es el teniente tolimense Alberto Cendales, un oficial que combatió a las guerrillas del Sumapaz en los años 50, y que, a partir del 2 de mayo de 1958, fue el protagonista número uno en materia de fugas. Ese día, Cendales fue uno de los ayudantes de una fracasada intentona golpista. Un grupo de militares encabezados por el coronel Hernando Forero Gómez pretendió regresar al general Rojas Pinilla al poder, y el plan derivó en la captura de tres de los cinco miembros de la junta militar que gobernaba a Colombia, más el virtual presidente Alberto Lleras. El teniente Cendales fue quien detuvo a los generales. Sin embargo, la intentona golpista fracasó y Cendales se convirtió en el objetivo número uno. Entonces se refugió en la embajada de Paraguay, y cuando vio la justicia cerca, se escapó por una ventana. Lo capturaron semanas después y fue a dar al batallón Guardia Presidencial, de donde también se voló. Cayó de nuevo. Fue a dar a un calabozo del Servicio de Inteligencia Colombiano, y de allí se escapó de nuevo. Recapturado y enviado a la escuela Blindada, se evadió con una unidad de 130 reclutas, hasta que fue neutralizado. Cendales se hizo tristemente célebre hasta su muerte, en un accidente de tránsito el 25 de mayo de 1976. Nota del editor:  en la primera versión de este video publicamos, por equivocación, la foto de Carlos Alberto Cendales, un subintendente de la Policía que murió en el secuestro de los diputados del Valle, el 11 de abril de 2002. Este video sobre fugas históricas en Colombia no tiene ninguna relación con Carlos Alberto Cendales. El personaje en mención es el teniente tolimense Alberto Cendales Campuzano, un oficial que combatió a las guerrillas del Sumapaz en los años 50 y que se fugó en varias ocasiones. La foto, por lo tanto, se eliminó del video.'},\n",
       " {'title': 'Las dudas sobre el “fracking” que revivió la licencia ambiental a piloto de Ecopetrol',\n",
       "  'relative_path': '/investigacion/las-dudas-sobre-el-fracking-que-revivio-la-licencia-ambiental-a-piloto-de-ecopetrol/',\n",
       "  'datetime': '2 abr 2022  - 8:00 p.\\xa0m.',\n",
       "  'author': 'María Mónica Monsalve',\n",
       "  'summary': 'Aunque se trata de un proyecto de investigación, cuyo fin es recoger información, a los científicos les preocupa que el proyecto piloto Kalé esté ubicado sobre un complejo cenagoso, lo que podría afectar el corredor biológico del manatí. Además, las comunidades señalan que no se estaría cumpliendo un criterio clave para el éxito de la investigación: participación. ANLA asegura que ha sido un proceso transparente.',\n",
       "  'full_text': 'A finales de diciembre de 2021, Ecopetrol anunció que en Puerto Wilches, un municipio de Santander situado al borde del río Magdalena, se podrían llevar a cabo los primeros pilotos de fracking en Colombia. Aunque la decisión emocionó a algunos -que desde hace años esperan que en el país se destrabe el proceso de extracción de hidrocarburos con métodos no tradicionales- también inquietó a otros. El domingo pasado, por la noche, las comunidades de Puerto Wilches recibieron nueva noticia: la filtración de un documento de la Autoridad Nacional de Licencias Ambientales (ANLA) respecto al otorgamiento de la licencia ambiental al Proyecto Piloto de Investigación Integral (PPII) Kalé, de Ecopetrol, ubicado en su territorio. Al siguiente día, la ANLA confirmó la decisión en un comunicado.'},\n",
       " {'title': 'Jamming Festival: el drama de los extranjeros que viajaron para el evento',\n",
       "  'relative_path': '/investigacion/viaje-17-horas-para-ir-al-jamming-y-perdi-mi-dinero-turista-venezolano/',\n",
       "  'datetime': '28 mar 2022  - 12:53 p.\\xa0m.',\n",
       "  'author': 'Redacción Investigación',\n",
       "  'summary': 'La cancelación del Jamming Festival, faltando un día para su inicio, causó afectaciones económicas en turistas que visitaban el país por el evento. Un grupo de amigos mexicanos y dos hermanos venezolanos invirtieron en tiquetes, hospedaje, transporte, alimentación y boletas. A la fecha, no saben con certeza si la empresa Buena Vibra Eventos E.U. les devolverá el dinero de las entradas.',\n",
       "  'full_text': 'Desde hace años, el sonidista venezolano Ruddy González no se emocionaba tanto por el cartel de un festival de música. La que sería la décima edición del Jamming Festival convocaba, en tres días, a los artistas que marcaron su vida: Damian Marley, Los Cafres, Los Prisioneros, Desorden Público, entre muchos otros. Sin dudarlo, Ruddy decidió ahorrar con su hermano y programar un viaje para conocer Colombia. (Lea aquí: Cuando el Jamming se volvió tragedia) En octubre de 2021, con el presupuesto estipulado y todas las ganas de escuchar música en vivo, los hermanos venezolanos decidieron comprar las entradas del festival por la página web del evento. No les llegó la imágen de las boletas, por lo que tuvieron que escribir a las redes sociales del Jamming Festival. En su momento les respondieron: “No se preocupen. Nosotros les pasamos un código y cuando lleguen a Bogotá las pueden recoger en Casa Babylon, el lugar oficial del concierto”. Pasaron los meses y creció la incertidumbre por posibles inconsistencias en el desarrollo del evento. Así llegó marzo de 2022. Ruddy González y su hermano pidieron permiso en el trabajo e iniciaron camino: “El viaje desde Caracas es demasiado traumático. Son 14 horas de rueda para llegar a Cúcuta y después agarrar un vuelo hasta la capital colombiana”, aseguró el turista venezolano. El jueves 17 de marzo arribaron a Bogotá y se quedaron en un hotel de Chapinero, cerca al lugar de entrega de las boletas. Al día siguiente viajarían a Ibagué, donde se iban a hospedar los tres días del evento. (Le puede interesar: Las investigaciones y demandas por la cancelación del Jamming)  En la mañana del viernes 18 de marzo, los hermanos González alistaron maletas y pidieron un taxi que los llevara a Casa Babylon para recoger las boletas. En el trayecto, un amigo de Ruddy le escribió desde Venezuela: “Vi que hay problemas con el Jamming, ¿sabes algo?”. Sin entender qué pasaba, empezaron a revisar sus celulares y ver más y más publicaciones sobre un hecho que parecía inevitable: la cancelación del festival un día antes de su inicio. Ruddy González y su hermano invirtieron 700 dólares para asistir al concierto. Por lo pronto, esperan recuperar el costo de las boletas de los tres días. Perdieron el dinero del hospedaje y del transporte y se devolvieron a Caracas sin ver a ninguno de los artistas que tenían programados. Con nostalgia, Ruddy asegura: “viajé 17 horas para ir al Jamming y perdí mi dinero. Espero que los organizadores nos puedan hacer un reembolso, no nos sirve que se reprograme porque no tenemos la posibilidad de volver a Colombia. Ahorrar ese dinero en Venezuela es complejo”. (Puede ver: Protestas del público por cancelación del Jamming Festival 2022) La historia de la turista mexicana Jovanna Miranda y sus cinco amigos no es distinta. En noviembre de 2021 decidieron comprar boletas para asistir a los tres días del Jamming Festival, pero sus planes cambiaron. “El viernes 18 de marzo llegamos al aeropuerto aproximadamente a las 7:00 a.m. e íbamos camino a Casa Babylon para recoger las boletas y escuchamos la noticia en la radio. Ahí entramos a las redes y nos enteramos que ya se había cancelado. Por lo visto, nadie va a resolver lo del reembolso de las boletas”. El fin de semana del 19 y 20 de marzo, la misma fecha en la que estaba programado el Jamming Festival, se llevó a cabo el Vive Latino, en Ciudad de México. En el evento se presentaron artistas como Black Pumas, Los Fabulosos Cadillacs y Limp Bizkit. Jovanna Miranda y sus amigos decidieron no ir a este festival al que han asistido por años y, más bien, viajar hasta Colombia para la décima versión del Jamming. “El cartel nos gustaba mucho, quería ver a Los Auténticos Decadentes, a Los Cafres, a Inspector, era un cartel muy prometedor, era un cartel que difícilmente se veía en un festival. Acá estaban todas las bandas que nos gustaban, pero perdimos el dinero. Nos regresamos muy tristes”, aseguró la mexicana. Ahora bien, la empresa Buena Vibra Events, propietaria del Jamming Festival, publicó en sus redes sociales un comunicado en donde aseguró que se buscarán “soluciones para la ciudadanía, asistentes y empresarios afectados”. También, según el comunicado, la compañía habilitó dos opciones: cambiar las boletas del Jamming Festival por otro evento privado o pedir la devolución del dinero comunicándose al correo info@jammingfestival.com.co. Por lo pronto, los sectores económicos afectados exigen las devoluciones correspondientes por parte de la empresa Buena Vibra Eventos E.U. Además, se espera que la Superintendencia de Industria y Comercio formule pliego de cargos y que la Fiscalía también indague. La Asociación Hotelera y Turística de Colombia (Cotelco) confirmó pérdidas para el sector de $802.872.000. De igual forma, un grupo de personas afectadas por la cancelación del Jamming Festival prepara una demanda colectiva.'},\n",
       " {'title': 'Las investigaciones y demandas por la cancelación del Jamming',\n",
       "  'relative_path': '/investigacion/las-investigaciones-y-demandas-por-la-cancelacion-del-jamming/',\n",
       "  'datetime': '28 mar 2022  - 9:00 a.\\xa0m.',\n",
       "  'author': 'Pilar Cuartas Rodríguez',\n",
       "  'summary': 'Se espera que la Superindustria formule pliego de cargos y que la Fiscalía también indague. Por su parte, un grupo de personas afectadas prepara una demanda colectiva.',\n",
       "  'full_text': 'La cancelación del evento musical Jamming, que se desarrollaría los días 19, 20 y 21 de marzo en Ibagué, tomó por sorpresa a asistentes, empresarios y autoridades, aunque días antes de su realización ya se rumoraba su fracaso y varios artistas declinaron su participación. La noticia oficial, sin embargo, llegó 24 horas antes y la mayoría de las personas ya había incurrido en gastos de hospedaje, transporte y alimentación; o había invertido y preparado sus productos para vender en el evento que esperaba recibir 50.000 personas diarias. (Lea aquí: Cuando el Jamming se volvió tragedia) En un comunicado oficial, los organizadores explicaron que el evento sería “aplazado”, debido a las cancelaciones de por lo menos 14 bandas, que fueron cambiando el cartel propuesto a los consumidores. Entre las agrupaciones que declinaron su participaron estuvieron Vicentico, Maldita Vecindad, La Sonora 100 Fuegos, los Cafres, UB 40 FT Ali Campbell y Black Eyed Peas. (Protestas del público por cancelación del Jamming Festival 2022) “A lo anterior se le suma una bodega digital que bombardeó las redes sociales de denuncias sin sustento. Algunos de los mensajes incitaban a agredir al director general del festival y afectar el desarrollo del mismo, de lo cual tenemos las pruebas las cuales serán entregadas a la Fiscalía. A pesar de los esfuerzos realizados por la organización para su realización, dichas circunstancias conllevaron a tomar medidas responsables como suspender el evento, con el fin de salvaguardar la integridad, bienestar y salud de nuestros asistentes, proveedores y público en general”, aseguraron las directivas Buena Vibra EU, propietaria del Jamming, La compañía ofreció a los asistentes devolverles el dinero o abonarlo para la boleta de otro de sus eventos. Para las reclamaciones de los proveedores, restaurantes, stands y aliados, se dispuso el correo electrónico juridico@jammingfestival.com.co. “Estamos adelantando los compromisos financieros adquiridos con artistas, hotelería, proveedores, entre otros, y así vamos resolviendo nuestro compromiso con la ciudad”, añadieron los organizadores del evento. La Superintendencia de Industria y Comercio, sin embargo, puso su lupa en el Jamming una semana antes de que se llevara a cabo, pero solo hasta el día de su cancelación, el pasado 18 de marzo, informó que adelantaba una averiguación preliminar contra su productor, la empresa Buena Vibra Eventos EU, por supuestamente no informar a los consumidores que las condiciones del evento, los artistas y el orden de las presentaciones había variado. El ente de control tiene estos indicios a raíz de unas visitas de inspección que hizo en las instalaciones de la compañía, a la que también le solicitó el 16 de marzo informar en su página web oficial y las redes sociales el listado de artistas confirmados, sus horarios de presentación y las locaciones. Además, la entidad solicitó avisarles a los compradores de boletas las modificaciones del evento, por medio de correo electrónico o mensaje de texto. Incumplir estas órdenes podría conllevar a una sanción de hasta 2.000 salarios mínimos. Los productores del Jamming no atendieron los requerimientos de información de la Superindustria, no asistieron a una mesa de trabajo convocada por ésta y cancelaron de forma unilateral el evento. En consecuencia, el ente de control abrió el pasado 18 de marzo una investigación administrativa (que se espera derive en la formulación del pliego de cargos), ordenó dejar de promocionar y publicitar la versión del Jamming 2023, que ya se ofertaba en redes sociales; y le pidió a la Fiscalía investigar lo concerniente al ámbito penal. Luisa Fernanda Caldas, docente de derecho penal de la Universidad Externado, explica que el Jamming tendría implicaciones a nivel penal por los posibles delitos de estafa o abuso de confianza. El primer escenario tendría lugar si se demuestra que la persona que promovió el festival vendió las boletas anunciando un grupo de artistas con los que no había concretado nada; se trataría de un engaño. El segundo escenario se daría si, aun teniendo la confirmación de las bandas y los permisos de la alcaldía, el evento se canceló y los organizadores no devuelven el dinero de las boletas. “No implica engaño, pero si me pagaron por un concierto y, éste no se da, me estaría quedando con una plata que no me corresponde”, puntualiza la abogada Caldas. Por su parte, la Superintendencia de Industria y Comercio abrió una investigación administrativa en contra de la empresa organizadora, Buena Vibra Eventos EU, y se espera que próximamente se dé la formulación de pliego de cargos. Además, la entidad le pidió a la Fiscalía que investigue. Los asistentes y emprendedores afectados también se están organizando para demandar de forma colectiva. El abogado Felipe Parra y cuatro de sus colegas están reuniendo casos para representarlos de forma gratuita y hacerles entender a los organizadores que “tienen que responder, y no solo basta con sacar comunicados ambiguos”. Por lo menos 200 personas están interesadas en iniciar las acciones y se está en la etapa de recolección de información y registro de formularios. Se espera que se instauren acciones ante la Superindustria y en la justicia civil. “Al cambiar de locación, aplazar el festival y cancelar artistas los organizadores generaron perjuicios y daños de carácter moral en las personas, por las expectativas, hicieron incurrir en gastos a los asistentes y comerciantes, en hospedaje y transporte a Ibagué. También vamos a solicitar información a las entidades de control y la alcaldía, que debieron haber hecho acompañamiento, queremos conocer si estaban haciendo un control adecuado, porque también puede haber omisión de autoridades y de la Superindustria, que tuvo que haberse pronunciado antes de que faltaran ocho días para el festival”, resaltó el abogado Parra. Todavía no se sabe a cuánto podría ascender la suma de los perjuicios. El abogado Parra aclara también que el escenario ideal sería llegar a un acuerdo directo con los organizadores, Buena Vibra Eventos EU, pero que debido al comportamiento y las respuestas oficiales emitidas entiende que “no existe un ánimo conciliatorio que permita un arreglo amigable”. En las instancias judiciales, se planea vincular también a las aseguradoras, pues para un evento de esta magnitud se tuvieron que expedir pólizas precisamente previendo estas situaciones. La pretensión principal será que un juez ordene el reembolso de los valores indexados de las boletas, y reconozca los valores correspondientes a transporte y hospedaje, y se indemnice por el incumplimiento. “Cabe aclarar que para quienes se vincularon como proveedores o tenían un stand en el festival dichas pretensiones de ajustarán a los compromisos adquiridos con ellos”, concluye el abogado Parra.'},\n",
       " {'title': 'Cuando el Jamming se volvió tragedia',\n",
       "  'relative_path': '/investigacion/cuando-el-jamming-se-volvio-tragedia/',\n",
       "  'datetime': '27 mar 2022  - 8:00 p.\\xa0m.',\n",
       "  'author': 'Pilar Cuartas Rodríguez',\n",
       "  'summary': 'Varias voces narran cómo se enteraron de la sorpresiva cancelación del evento musical, que prometía contar con 150.000 asistentes, y las afectaciones que ha generado en sus bolsillos, reputación y salud mental.',\n",
       "  'full_text': 'El desconcierto se apoderó de Playa Hawái la madrugada del pasado 18 de marzo, cuando decenas de emprendedores intentaban entrar al terreno para instalarse en los stands más cotizados por esos días en Ibagué, Tolima. El evento musical Jamming iniciaría pronto su versión número diez y los comerciantes, que se habían preparado durante meses y pagaron para estar ahí, llegaban con la ilusión de recuperar lo perdido en la pandemia, capitalizar sus empresas o salir de deudas. “Váyase, antes de que le roben sus cosas. Se canceló esto. La gente de logística se está llevando todo lo que encuentra, porque no les pagaron”, le dijo el portero del sitio a María Nubia Segovia, dueña de Savigurt. Gracias a esa advertencia, ella salvaguardó sus mil yogures a base de sábila y hortalizas. (Protestas del público por cancelación del Jamming Festival 2022) La noticia de la cancelación del Jamming solo se conoció la madrugada de ese viernes en Playa Hawái, 24 horas antes de su realización. Las primeras en recibirla fueron las nietas de la dueña de Artesanías Bachué. Una de ellas, Juanita Calderón, cuenta que se enteraron a las 3 a.m., cuando llegaron con su mercancía. “Pensamos que era mentira, ¿cómo iba a pasar eso, si hasta la noche anterior nos dijeron que sí había evento”, exclama la joven, cuyo negocio familiar invirtió, con ahorros y préstamos, $3 millones en el arriendo de su stand y más de $20 millones en la elaboración de recordatorios alusivos al Jamming, como copas, manillas y pareos, que ahora no puede vender.'}]"
      ]
     },
     "execution_count": 25,
     "metadata": {},
     "output_type": "execute_result"
    }
   ],
   "source": [
    "newsInvestigacion"
   ]
  },
  {
   "cell_type": "code",
   "execution_count": 26,
   "id": "bed6c819-6776-48e6-a4af-5e269320014c",
   "metadata": {},
   "outputs": [
    {
     "data": {
      "text/plain": [
       "<pymongo.results.InsertManyResult at 0x1f4dcf77790>"
      ]
     },
     "execution_count": 26,
     "metadata": {},
     "output_type": "execute_result"
    }
   ],
   "source": [
    "# Storing extracted information for further analysis.\n",
    "collection.insert_many(newsInvestigacion)"
   ]
  },
  {
   "cell_type": "code",
   "execution_count": 27,
   "id": "17130998-58e6-4b96-aa16-5584782e7da5",
   "metadata": {},
   "outputs": [],
   "source": [
    "# Creating a connection to MongoDB to create the economy module. \n",
    "client = MongoClient('localhost', 27017)\n",
    "db = client['news']\n",
    "collection = db['elespectador-bogota']"
   ]
  },
  {
   "cell_type": "code",
   "execution_count": 28,
   "id": "7c9b05e4-f3b9-4b0b-9db3-19ca4e0ea2b7",
   "metadata": {},
   "outputs": [],
   "source": [
    "# Getting HTML content for news listing page.\n",
    "\n",
    "newsBogota = []\n",
    "url = '/archivo/bogota'\n",
    "\n",
    "for n in range(1, 2):\n",
    "    soup = make_request(browser, url + str(n))\n",
    "    # Finding the section where news are contained.\n",
    "    layout = soup.find(class_ = 'Layout-flexAds')\n",
    "    # Getting blocks from layout.\n",
    "    blocks = layout.find('section').find_all(recursive = False)\n",
    "    # Finding and concatenating news cards.\n",
    "    cards = blocks[0].find_all(class_ = 'Card') + blocks[1].find_all(class_ = 'Card')\n",
    "    # Building a list with title and relative path of the news founded.\n",
    "    for card in cards:\n",
    "        newsBogota.append({\n",
    "            'title': card.find('h2', class_ = 'Card-Title').find('a').get_text(),\n",
    "            'relative_path': card.find('h2', class_ = 'Card-Title').find('a')['href']\n",
    "        })"
   ]
  },
  {
   "cell_type": "code",
   "execution_count": 29,
   "id": "48c0a2ff-0dde-4c19-8477-64d302da50a8",
   "metadata": {},
   "outputs": [],
   "source": [
    "for n in newsBogota:\n",
    "    # Getting HTML content for news page.\n",
    "    soup = make_request(browser, n['relative_path'])\n",
    "    \n",
    "    # Extracting news metadata.\n",
    "    n['datetime'] = soup.find(class_ = 'ArticleHeader-Date').get_text()\n",
    "    n['author'] = soup.find(class_ = 'ACredit-Author').get_text()\n",
    "    n['summary'] = soup.find(class_ = 'ArticleHeader-Hook').find('div').get_text()\n",
    "    \n",
    "    # Extracting and concatenating news full text.\n",
    "    paragraphs = soup.find_all(class_ = 'font--secondary')\n",
    "    n['full_text'] = ' '.join([p.get_text() for p in paragraphs])"
   ]
  },
  {
   "cell_type": "code",
   "execution_count": 30,
   "id": "ff17c97a-d935-4ab9-920c-9d1f0e98c9ca",
   "metadata": {},
   "outputs": [
    {
     "data": {
      "text/plain": [
       "[{'title': 'Motociclistas en Bogotá podrán proponer cambios a decreto que limita su circulación',\n",
       "  'relative_path': '/bogota/motociclistas-en-bogota-podran-proponer-cambios-a-decreto-que-limita-su-circulacion/',\n",
       "  'datetime': '5 abr 2022  - 10:11 p.\\xa0m.',\n",
       "  'author': 'Redacción Bogotá',\n",
       "  'summary': 'El borrador del proyecto del decreto podrá ser modificado de acuerdo con los comentarios que dejen los ciudadanos, entre esos los motociclistas, quienes se han manifestado frente a la restricción de parrillero. Conozca el documento y las medidas de seguridad que contempla el decreto.',\n",
       "  'full_text': 'En la noche de este 5 de abril, la alcaldesa compartió el borrador del decreto de las medidas de seguridad en Bogotá en el que se menciona la restricción de parrillero que comenzará a regirse partir de este 14 de abril del 2022 y tendrá vigencia hasta el 30 de junio de 2022. Leer: ¿Por qué, a qué hora y dónde protestarán los motociclistas este miércoles en Bogotá? En el documento se lee que, “restringir en la ciudad de Bogotá D.C. el tránsito de motocicletas con acompañante desde las siete de la noche (7:00 p.m.) y hasta las cuatro de la mañana (04:00 a.m.) del día siguiente, los días jueves, viernes y sábado. Dicha restricción iniciará a regir a partir del 14 de abril del 2022 y tendrá vigencia hasta el 30 de junio de 2022″. De acuerdo con el Distrito, los ciudadanos que quieran enviar los comentarios sobre el proyecto de Decreto lo podrán hacer al correo: observacionesdecreto@alcaldiabogota.gov.co. Podría interesarle: Estas son las excepciones que tendrá la restricción de parrillero en Bogotá Recordemos que con el fin de aliviar el impacto que podría generar la restricción del parrillero en Bogotá, hoy se ordenaron cinco excepciones: -Las aseguradoras que cumplen labores en la ciudad -Conductores elegidos de las aseguradoras -Transporte de personas en condición de discapacidad -Emergencias de cualquier tipo -Trabajadores de empresas de vigilancia Otras medidas de seguridad contempladas en el decreto: Para conocer más noticias de la capital y Cundinamarca, visite la sección Bogotá  de El Espectador.'},\n",
       " {'title': 'Las barreras de la educación inclusiva en Bogotá',\n",
       "  'relative_path': '/bogota/las-barreras-de-acceso-a-educacion-para-la-comunidad-en-condicion-de-discapacidad-en-bogota/',\n",
       "  'datetime': '5 abr 2022  - 9:00 p.\\xa0m.',\n",
       "  'author': 'Cristian Camilo Perico Mariño',\n",
       "  'summary': 'Desde la sección Bogotá de El Espectador conocimos las historias de familias que enfrentan dificultades para garantizar el derecho a la educación de sus hijos en condición de discapacidad.',\n",
       "  'full_text': 'Todo menor de edad o persona en condición de discapacidad tiene derecho a vincularse en los procesos educativos, tanto en planteles públicos como privados. Así lo estipula el Decreto 1421 de 2017, que “reglamenta la atención educativa a la población con discapacidad en la educación formal, jardines infantiles, que ofrecen preescolar, y colegios que otorgan títulos de bachiller”.  Por su parte, en la Ley 1618 de 2013 se menciona que “El Estado debe garantizar el ejercicio efectivo de los derechos de las personas en condición de discapacidad, con la adopción de medidas de inclusión, acciones afirmativas, ajustes razonables y eliminación de toda forma de discriminación”. Lea también: ¿Es difícil encontrar cupos en colegios oficiales de Bogotá? Sin embargo, a pesar de esta prosa jurídica, que busca en la literatura plantear un escenario en el que no existe rechazo y hay una vinculación en diferentes espacios sociales; en el día a día esto no sucede. Ejemplo de ello es el caso de Luisa Fernanda Torres, una adolescente de 12 años con discapacidad física e intelectual, tras ser diagnosticada desde el primer mes de vida con citomegalovirus, un virus, que le produjo una meningitis, que le dejó como secuela atrofia cerebral, epilepsia no especificada, parálisis de las extremidades inferiores y hemiplejia espástica. Según sus padres, no ha sido fácil acceder a procesos de aprendizaje, debido a que se topan con barreras en las instituciones: “He querido matricular a mi hija, porque quiero que estudie con niños sin ningún tipo de discapacidad. Eso ha sido complicado, porque en Ciudad Bolívar, por ejemplo, algunos colegios no tienen siquiera rampas o aulas en el primer piso para facilitar su ingreso”, explica Yudy Lorena Castro, su madre, tutora, psicóloga, terapeuta y cuidadora. No obstante, encuentra una barrera adicional: hay planteles donde le ponen problema por la edad de Luisa, realidad que evidencia una inconsistencia en las normas, que obliga a “promover el desarrollo y el aprendizaje de esta población con pares de su misma edad”.  Aspecto que, en algunos casos, termina siendo conflictivo, dado que, si bien su hija cumplirá 13 años en mayo, su desarrollo intelectual es el de una niña de 6. Por lo tanto, no es recomendable -pedagógicamente hablando- que la ubiquen en grado sexto o séptimo (por su edad), sino en primero de primaria, dado su proceso de aprendizaje. De acuerdo con Lidia Marcela Espinosa, psicóloga clínica y orientadora del Instituto Distrital Colegio Brazuelos, en Usme, es importante que los menores de edad en condición de discapacidad se relacionen directamente con niños de edad cercana a la suya, para afianzar sus emociones: “Estas interacciones fortalecen las habilidades sociales y su desarrollo, permitiendo que se vuelvan independientes en algunos aspectos. De igual forma, sirve para que los padres comprendan que la condición de sus hijos no es impedimento para que se relacionen de manera activa en la sociedad”, afirma la experta, quien aclara que en el caso de Luisa se prioriza la edad y no el coeficiente intelectual de la estudiante. Le puede interesar: Discriminación racial: el mal que aún no se ha erradicado en Bogotá y Colombia. Otro caso que conoció El Espectador es el de Cristian David Toro, un joven de 16 años que vive con discapacidad física e intelectual, tras padecer epilepsia refractaria degenerativa, diagnóstico que le ha desarrollado una discapacidad permanente del 97 % y que como secuela le dejó una cuadriplejia espástica. Según su mamá, Nataly Grisales, decidieron retirar a su hijo de un colegio en Soacha, dado que, a pesar de estar matriculado, no había un compromiso con su aprendizaje. “No lo tengo escolarizado. No hay colegios de educación especial. Lo que ofrecen son instituciones con inclusión. Lo llevamos un tiempo y la experiencia no fue buena, porque no le prestaban atención, lo ponían en un rinconcito para que, según ellos, ‘no se lastimara’. Lo retiramos, porque terminó siendo nocivo. Sus compañeros no jugaban con él”, señala Grisales. En este aspecto, explica la experta en psicología, es clave que la comunidad educativa conozca el diagnóstico y el proceso terapéutico del menor, para que el docente “se vuelva facilitador, que incluya al niño en todas las actividades dentro y fuera del aula. Se debe auspiciar que juegue con los compañeros, que se integre y disfrute del colegio”, asevera Espinosa. La respuesta del Distrito De acuerdo con la Secretaría de Educación, la atención a la población en condición de discapacidad en los establecimientos educativos no es opcional ni para los colegios del Estado ni para los promovidos por particulares. Según Mauricio Castillo, subsecretario de Calidad y Pertinencia, todos los planteles en la capital tienen capacidad para atender a estudiantes de esta población. Sin embargo, al plantearle la situación de Luisa Fernanda y las limitaciones de acceso para personas con discapacidad física, afirma que ya se está trabajando en mejorar todas las infraestructuras: “Hay ciertas condiciones con las que no cuentan las instituciones. Los ajustes forman parte de un plan de adecuación, que se viene adelantando. Pero si visitan todas las sedes, se darán cuenta de que existe accesibilidad en la mayoría”, aclara el funcionario. Adicionalmente, según el reporte del Distrito, en la actualidad están matriculados 18.500 estudiantes en condición de discapacidad, entre ellos algunos con discapacidades física, visual, cognitiva, auditiva y múltiple. Frente a la calidad académica, menciona Castillo, cada institución reconoce que todos los niños aprenden a ritmos distintos y por ello se hacen ajustes, teniendo en cuenta los Planes Individuales de Ajustes Razonables (Piar) que establecen los maestros con la familia y el estudiante. Según las cifras de contratación para 2022, los centros educativos distritales cuentan con 970 docentes de apoyo pedagógico, lo que en promedio sería más de uno por institución, sumado a que la Secretaría reporta que se tienen vinculados también a 183 auxiliares de enfermería, 110 mediadores pedagógicos, 14 modelos lingüísticos (quienes enseñan la cultura sorda) y 75 intérpretes de lenguaje de señas. Pese a que hay herramientas, es clara la necesidad de seguir ajustando detalles para cumplir las normas de inclusión. La meta: cerrar las brechas para hacer del sistema educativo distrital un espacio donde se garanticen plenamente sus derechos. Nota relacionada: Conectividad: la brecha por cerrar en los colegios tras el regreso a la presencialidad.'},\n",
       " {'title': '¿Por qué, a qué hora y dónde protestarán los motociclistas este miércoles en Bogotá?',\n",
       "  'relative_path': '/bogota/por-que-a-que-hora-y-donde-protestaran-los-motociclistas-este-miercoles-6-de-abril-en-bogota/',\n",
       "  'datetime': '5 abr 2022  - 8:46 p.\\xa0m.',\n",
       "  'author': 'Redacción Bogotá',\n",
       "  'summary': 'Para los motociclistas, el Distrito no está dialogando sino socializando la medida de restricción de parrillero. Ellos piden que la alcaldesa Claudia López lidere estas reuniones. Aquí los detalles de la jornada de mañana.',\n",
       "  'full_text': 'Al mediodía de este martes 5 de abril, el secretario de Gobierno Felipe Jiménez Ángel, se reunió con varios líderes de motociclistas de Bogotá para conversar sobre la medida de restricción de parrillero, que se espera comience a regir el próximo 11 de abril. Sin embargo, los motociclistas expresaron que fue más una socialización de esta medida que una negociación. Leer: Estas son las excepciones que tendrá la restricción de parrillero en Bogotá “No hubo una disposición de diálogo por parte del Distrito. Ellos siguen empecinados en restregarnos en el hocico el artículo 95 y nosotros partimos de la acción de que quienes nos movilizamos en motocicleta somos ciudadanos, entonces tenemos que aceptar 7 medidas como ciudadanos adicionales a las que también tenemos que asumir como propietarios de motocicletas”, señaló a El Espectador José Manuel Garzón, director del colectivo de motoclubes de Cundinamarca y Bogotá. Para los motociclistas, se está imponiendo medidas adicionales a las que ya tienen que regir como ciudadanos normales. “No puedo transportar a mis familiares por simplemente un capricho de no querer revisar de manera asertiva estas cifras de inseguridad”, compartió José Manuel. Asimismo, para estos conductores, lo que va a provocar esta medida es un desgaste administrativo, “generando recursos en medio de comparendos, patios y grúas, pero la delincuencia se va a seguir moviendo de la misma forma porque esas medidas no funcionan, no funcionaron y no va a funcionar”. Otra de las razones es el lamentable hecho de tener que resaltar que no todos los motociclistas son delincuentes. “Nosotros tenemos las cifras que se bajan de las páginas de la Policía, de la Fiscalía, del 123 y demás entidades donde se reciben las denuncias de los ciudadanos que han sido víctimas de hurtos y demás. Y lo que la administración está haciendo es mostrar una realidad que no es suficiente para justificar o para venderle al resto de la población una falsa sensación de seguridad”. Lo primero es una reunión directa con la alcaldesa Claudia López, “ya no más reuniones con mandos medios, ya no más emisarios para dar simplemente un punto de vista y una imposición, sino que se siente directamente la alcaldía en cabeza de Claudia López a hablar con los motociclistas”. Lo segundo es que se verifiquen estas cifras de inseguridad de manera real, “la idea es que ellos hablen, que ellos se sienten, que aquellos que manejan bien esas esos números se pongan de acuerdo en cuál es la realidad ahí, y a partir de eso tomamos decisiones, pero que el Gobierno y motociclistas se sienten a hablar y que la Alcaldía de la cara. Hace unos minutos, la alcaldesa Claudia López anunció que continuaran los diálogos y publicó un borrador de decreto para las observaciones y el diálogo con las asociaciones de los motociclistas. Asimismo, con el fin de aliviar el impacto que podría generar la restricción del parrillero, se ordenaron cinco excepciones: -Las aseguradoras que cumplen labores en la ciudad -Conductores elegidos de las aseguradoras -Transporte de personas en condición de discapacidad -Emergencias de cualquier tipo -Trabajadores de empresas de vigilancia De acuerdo con la información que brindaron los motociclistas, las movilizaciones comenzarán al mediodía en diferentes puntos de la ciudad, y uno de los puntos de encuentro será la biblioteca Pública Virgilio Barco, ubicada en la localidad de Teusaquillo, sobre la carrera 60. “Hemos abierto la puerta del diálogo de manera pacífica, nos hemos ido a sentar, hemos perdido más de 14 horas en reuniones, esperemos entonces que ya con esta situación las cosas pasen a otro plano, esperemos en el mejor de los términos y ahora sí nos dé la cara y podamos hablar”, concluyó el director del colectivo de motoclubes en Bogotá y Cundinamarca. Para conocer más noticias de la capital y Cundinamarca, visite la sección Bogotá  de El Espectador.'},\n",
       " {'title': 'Tres indígenas de la comunidad Emberá fueron arrollados por taxi en Bogotá',\n",
       "  'relative_path': '/bogota/tres-indigenas-de-la-comunidad-embera-fueron-arrollados-por-taxi-en-bogota/',\n",
       "  'datetime': '5 abr 2022  - 8:38 p.\\xa0m.',\n",
       "  'author': 'Redacción Bogotá',\n",
       "  'summary': 'El hecho se registró sobre la carrera séptima, muy cerca al parque Nacional, en donde se encuentran alojados 15 comunidades indígenas. ',\n",
       "  'full_text': 'Una mujer y sus dos hijos menores de edad fueron arrollados por un taxi en inmediaciones de la carrera 7 con calle 36, en cercanías al parque Nacional, en donde desde septiembre pasado están asentadas por lo menos 15 comunidades indígenas de diferentes sectores del país, quienes llegaron a la capital en busca de garantías y seguridad.  Versiones preliminares del hecho dan cuenta de que el accidente habría ocurrido a las 7:00 p.m. de este martes 5 de abril, cuando un vehículo se movilizaba en sentido norte sur por este punto de la capital. Debido al impacto, se confirmó que las tres personas involucradas en el hecho resultaron con lesiones de consideración, motivo por el que una ambulancia tuvo que acudir a la escena. Al momento las autoridades investigan la responsabilidad de los involucrados. LEA: ¡Tome nota! Este 6 de abril se implementa el contraflujo en la av. Las Américas En el lugar hicieron presencia uniformados del Esmad, para contener a cerca de 60 indígenas que se agolparon para impedir que el vehículo abandonara el sitio. Aparentemente, el conductor del taxi habría abandonado el carro para evitar ser agredido. Cabe recordar que, en enero, a las afueras de Bogotá y por un caso similar, fue agredido el conductor de un camión de la basura, quien murió posteriormente. La Secretaría de Movilidad invitó a los usuarios a tomar rutas alternas para evitar congestión vehicular. “Para los usuarios que se desplazan sobre la carrera 7 en sentido Sur -Norte, se sugieren las siguientes rutas alternas: tomar la calle 26 (av. Dorado) al Occidente para retomar por la av. Caracas al Norte”.  Este accidente se presentó justo en el mismo sitio en donde hace por lo menos dos meses una motocicleta arrolló a un joven indígena, quien no revistió gravedad. Para conocer más noticias de la capital y Cundinamarca, visite la sección Bogotá  de El Espectador.'},\n",
       " {'title': '¡Tome nota! Este 6 de abril se implementa el contraflujo en la av. Las Américas',\n",
       "  'relative_path': '/bogota/se-implementara-contraflujo-en-la-avenida-de-las-americas/',\n",
       "  'datetime': '5 abr 2022  - 7:29 p.\\xa0m.',\n",
       "  'author': 'Redacción Bogotá',\n",
       "  'summary': 'La medida se llevará a cabo entre las carreras 74 y 62. Revise los horarios y otras opciones de movilidad. ',\n",
       "  'full_text': 'Desde el próximo seis de abril se implementará en la avenida de Las Américas un contraflujo para liberar la carga vehicular que se genera en este corredor vial entre las 6:00 a.m. y las 9:00 a.m. en el sentido occidente-oriente, así lo confirmó la Secretaría Distrital de Movilidad. Leer: Hinchas del Atlético Nacional protagonizaron enfrentamientos en Cota, Cundinamarca El operativo de contraflujo se contempla entre las carreras 74 y 62. “Como el contraflujo es una medida que consiste en habilitar un carril de una calzada para que circulen vehículos en sentido contrario al habitual, la SDM junto al Grupo de Gerencia en Vía dispondrá de todo el material logístico y personal en vía necesario para la implementación del contraflujo”, compartió la entidad del Distrito. Iniciará en la carrera 74, cerca al Portal Banderas, y finalizará en la carrera 62, sector Outlets de las Américas, con una distancia de tres (3) kilómetros. En ese sentido y al llegar a la carrera 62, los vehículos (mediante un semáforo humano), podrán girar a la izquierda para tomar la calle 13 o retornar a la avenida de Las Américas. “Con esta medida se quiere aprovechar la capacidad disponible sobre la calzada norte de la avenida de Las Américas para permitir un mejor flujo hacia el oriente de los vehículos, y así disminuir los tiempos de viaje para los usuarios”. Podría interesarle: Distrito anuncia ayuda humanitaria para afectados del atentado en Ciudad Bolívar De acuerdo con cifras de la SDM, por este corredor vial se movilizan más de 7.500 vehículos entre occidente a oriente y unos 3.300 carros de oriente a occidente en las horas pico, lo que provoca congestión vehicular. Los beneficiados de esta medida son los habitantes o conductores que frecuentan los barrios de Kennedy, Banderas y Patio Bonito. “Es importante aclarar que solo los vehículos livianos (automóviles, camionetas y camperos) podrán utilizar el contraflujo, mientras que las motocicletas, bicitaxis o bicicletas no podrán hacer uso de este carril”. La SDM llevará a cabo como medida complementaria un cierre de la oreja del costado suroccidental de las avenidas de Las Américas con la Boyacá de 6:30 a.m. a 8:30 a.m. de lunes a viernes. “Esta medida busca eliminar los conflictos que se presentan en la salida de la conectante y así beneficiar a los vehículos que circulan de forma directa occidente-oriente”. Para conocer más noticias de la capital y Cundinamarca, visite la sección Bogotá  de El Espectador.'},\n",
       " {'title': 'Los aspectos psicológicos que se estudian para contratar a un docente en un colegio',\n",
       "  'relative_path': '/bogota/los-aspectos-psicologicos-que-se-estudian-para-contratar-a-un-docente-en-un-colegio/',\n",
       "  'datetime': '5 abr 2022  - 7:12 p.\\xa0m.',\n",
       "  'author': 'Redacción Bogotá',\n",
       "  'summary': 'Para lograr identificar los rasgos del comportamiento de un profesor, un psicólogo debe explorar las distintas áreas personales del docente para lograr que el posible candidato pueda sentirse cómodo y hablar de su vida personal y profesional.',\n",
       "  'full_text': 'De acuerdo con los datos reportados al Sistema Distrital del Empleo y la Administración Pública (SIDEAP) con corte al 7 de marzo de 2022, la Secretaría Distrital de Educación cuenta con 35.184 maestras y maestros trabajando en colegios oficiales de Bogotá, de los cuales el 69 % son mujeres, es decir 24.122 docentes. Leer: Abuso en entornos escolares, una materia que sigue pendiente De acuerdo con Sandra Patricia Hernández, máster en Psicología de la Universidad Católica de Colombia y profesora de la universidad Politécnico Grancolombiano, el proceso de selección de un profesor debería completar varias etapas como el reclutamiento, preselección, pruebas, entrevistas, valoración y decisión final. “Sin embargo, el proceso de selección muchas veces inicia validando el perfil establecido por institución, posteriormente se evalúa la experiencia en el área técnica a impartir y si tiene énfasis en básica primaria, cabe mencionar que la experticia es vital para ser parte del proceso de selección”. Podría interesarle: Guía para hablar con sus hijos e hijas de acoso y abuso Asimismo, para las personas que se dedican a la enseñanza, algunas de las pruebas son de competencias, psicotécnicas, pedagógicas y de énfasis en el conocimiento del área a impartir. Después de revisar dichas pruebas, “el encargado del proceso de selección emite un informe sobre los dos o tres candidatos más idóneos para cubrir el cargo, este informe le permite a los líderes del proceso tomar decisiones sobre cuál será el candidato que mejor se ajusta al puesto requerido”, agregó Sandra, quien también es especialista en Talento Humano de la universidad de Montreal. Es importante tener en cuenta que dicho informe incluye detalles sobre tres aspectos: las actitudes y valores que guían el comportamiento de los candidatos; la formación académica y la preparación profesional; y las habilidades para desarrollar el trabajo. Aunque en la entrevista de trabajo debe recoger información fiable y válida sobre las habilidades, competencias y aptitudes del candidato, “para lograr identificar los rasgos del comportamiento de un profesor, se sugiere que un psicólogo explore las distintas áreas personales de profesor y logre crear un vínculo de trabajo donde el posible candidato pueda sentirse cómodo y hablar de su vida personal y profesional”, señaló la psicóloga Hernández. Para el psicólogo Andrés Barbosa, lo que se debe tener en cuenta a la hora de contratar a alguien que vaya a trabajar con menores de edad son los distintos filtros, “por lo general sí se puede identificar rasgos de la personalidad en la entrevista en cuestiones como el tono, el conocimiento, el manejo de ciertas situaciones y los errores en las pruebas, ahí es donde se puede identificar algunas características”. Lea también: Acoso, abuso y violencia en colegios de Bogotá: ¿y de puertas para afuera qué? Sin embargo, en la entrevista hay ciertas cosas que no se identifican porque “hay personas no tienden a mostrar sus personalidades, entonces hay cierto margen de error, por lo que es más que todo en las pruebas que se identifican los rasgos de personalidad”, señaló Andrés.  De acuerdo con este psicólogo, un test reconocido y que revela varios factores de la personalidad de un candidato es el 16 pf., el cual el Ministerio de Educación lo exige de manera actualizada a las instituciones educativas. En contexto: Estas son las rutas de atención para casos de abuso sexual en Bogotá “En las pruebas se admiten o se rechazan ciertos tipos de profesores con ciertos rasgos de personalidad que pueden llegar a ser amenazantes para los estudiantes, como ser agresivos o demandantes emocionalmente”, agregó Barbosa, asimismo, concluye que es importante todo lo que tiene que ver con los antecedentes, “se debe buscar a nivel legal qué antecedentes tiene esa persona, si en algún momento ha tenido memorandos o dificultades en otros colegios, también las referencias personales”. En cuanto a la contratación, en jardines y colegios públicos, la entidad encargada es la Comisión Nacional del Servicio Civil, la cual lleva un proceso con varias pruebas: revisar la hoja de vida, la experiencia y el estudio que el postulante dice tener:  a) Adopción del acto de convocatoria y divulgación.  b) Inscripción y publicación de admitidos a las pruebas.  c) Aplicación de la prueba de aptitudes y competencias básicas y la prueba psicotécnica.  d) Publicación de los resultados individuales de la prueba de aptitudes y competencias básicas, de la prueba psicotécnica, y atención de las reclamaciones que presenten los aspirantes.  e) Recepción de documentos, publicación de verificación de requisitos y atención de las reclamaciones que presenten los aspirantes.  f) Aplicación de las pruebas de valoración de antecedentes y de entrevista a los aspirantes que cumplieron requisitos mínimos para el cargo.  g) Publicación de resultados de las pruebas de valoración de antecedentes y de entrevista, y atención de las reclamaciones.  h) Consolidación de los resultados de las pruebas del concurso, publicación y aclaraciones.  i) Conformación, adopción y publicación de lista de elegibles.  Asimismo, a los docentes contratados por el Distrito en el proceso de selección se les realiza una prueba básica. Y si es en un colegio privado, estos exigen criterios básicos (y diferentes) dentro de su hoja de vida. Para conocer más noticias de la capital y Cundinamarca, visite la sección Bogotá  de El Espectador.'}]"
      ]
     },
     "execution_count": 30,
     "metadata": {},
     "output_type": "execute_result"
    }
   ],
   "source": [
    "newsBogota"
   ]
  },
  {
   "cell_type": "code",
   "execution_count": 31,
   "id": "a8a6c5a4-9f7c-4515-9d9c-8993dc73db18",
   "metadata": {},
   "outputs": [
    {
     "data": {
      "text/plain": [
       "<pymongo.results.InsertManyResult at 0x1f4db06ae80>"
      ]
     },
     "execution_count": 31,
     "metadata": {},
     "output_type": "execute_result"
    }
   ],
   "source": [
    "# Storing extracted information for further analysis.\n",
    "collection.insert_many(newsBogota)"
   ]
  },
  {
   "cell_type": "code",
   "execution_count": null,
   "id": "9e4c8582-cf6d-44e8-b9e8-c3122b3bbae4",
   "metadata": {},
   "outputs": [],
   "source": []
  },
  {
   "cell_type": "code",
   "execution_count": null,
   "id": "3060b5e2-4471-4dfd-81ef-698f8e879656",
   "metadata": {},
   "outputs": [],
   "source": []
  },
  {
   "cell_type": "code",
   "execution_count": null,
   "id": "6732b564-ae9d-4864-81f9-7619aaca0eba",
   "metadata": {},
   "outputs": [],
   "source": []
  }
 ],
 "metadata": {
  "kernelspec": {
   "display_name": "Python 3 (ipykernel)",
   "language": "python",
   "name": "python3"
  },
  "language_info": {
   "codemirror_mode": {
    "name": "ipython",
    "version": 3
   },
   "file_extension": ".py",
   "mimetype": "text/x-python",
   "name": "python",
   "nbconvert_exporter": "python",
   "pygments_lexer": "ipython3",
   "version": "3.9.7"
  }
 },
 "nbformat": 4,
 "nbformat_minor": 5
}
